{
 "cells": [
  {
   "cell_type": "markdown",
   "id": "a7343e62",
   "metadata": {
    "papermill": {
     "duration": 0.013426,
     "end_time": "2023-03-08T11:16:06.548073",
     "exception": false,
     "start_time": "2023-03-08T11:16:06.534647",
     "status": "completed"
    },
    "tags": []
   },
   "source": [
    "# Encoder Decoder "
   ]
  },
  {
   "cell_type": "markdown",
   "id": "9006795f",
   "metadata": {
    "papermill": {
     "duration": 0.008767,
     "end_time": "2023-03-08T11:16:06.566928",
     "exception": false,
     "start_time": "2023-03-08T11:16:06.558161",
     "status": "completed"
    },
    "tags": []
   },
   "source": [
    "### Imports"
   ]
  },
  {
   "cell_type": "code",
   "execution_count": 1,
   "id": "64ba0656",
   "metadata": {
    "execution": {
     "iopub.execute_input": "2023-03-08T11:16:06.587212Z",
     "iopub.status.busy": "2023-03-08T11:16:06.586265Z",
     "iopub.status.idle": "2023-03-08T11:16:07.360623Z",
     "shell.execute_reply": "2023-03-08T11:16:07.359587Z"
    },
    "papermill": {
     "duration": 0.787556,
     "end_time": "2023-03-08T11:16:07.363398",
     "exception": false,
     "start_time": "2023-03-08T11:16:06.575842",
     "status": "completed"
    },
    "tags": []
   },
   "outputs": [],
   "source": [
    "import pandas as pd\n",
    "import numpy as np\n",
    "import re\n",
    "import string\n",
    "from sklearn.utils import shuffle"
   ]
  },
  {
   "cell_type": "markdown",
   "id": "2f57e045",
   "metadata": {
    "papermill": {
     "duration": 0.009181,
     "end_time": "2023-03-08T11:16:07.383267",
     "exception": false,
     "start_time": "2023-03-08T11:16:07.374086",
     "status": "completed"
    },
    "tags": []
   },
   "source": [
    "### Importing Data"
   ]
  },
  {
   "cell_type": "code",
   "execution_count": 2,
   "id": "9566c5a2",
   "metadata": {
    "execution": {
     "iopub.execute_input": "2023-03-08T11:16:07.402887Z",
     "iopub.status.busy": "2023-03-08T11:16:07.402500Z",
     "iopub.status.idle": "2023-03-08T11:16:07.441299Z",
     "shell.execute_reply": "2023-03-08T11:16:07.440184Z"
    },
    "papermill": {
     "duration": 0.052327,
     "end_time": "2023-03-08T11:16:07.444695",
     "exception": false,
     "start_time": "2023-03-08T11:16:07.392368",
     "status": "completed"
    },
    "tags": []
   },
   "outputs": [
    {
     "data": {
      "text/html": [
       "<div>\n",
       "<style scoped>\n",
       "    .dataframe tbody tr th:only-of-type {\n",
       "        vertical-align: middle;\n",
       "    }\n",
       "\n",
       "    .dataframe tbody tr th {\n",
       "        vertical-align: top;\n",
       "    }\n",
       "\n",
       "    .dataframe thead th {\n",
       "        text-align: right;\n",
       "    }\n",
       "</style>\n",
       "<table border=\"1\" class=\"dataframe\">\n",
       "  <thead>\n",
       "    <tr style=\"text-align: right;\">\n",
       "      <th></th>\n",
       "      <th>English</th>\n",
       "      <th>ASL Gloss</th>\n",
       "    </tr>\n",
       "  </thead>\n",
       "  <tbody>\n",
       "    <tr>\n",
       "      <th>0</th>\n",
       "      <td>My sister is having another baby</td>\n",
       "      <td>ANOTHER BABY MY SISTER BORN-WILL</td>\n",
       "    </tr>\n",
       "    <tr>\n",
       "      <th>1</th>\n",
       "      <td>I love to cook hamburgers on the XXXXX</td>\n",
       "      <td>XXXXX HAMBURGER COOK ME LOVE</td>\n",
       "    </tr>\n",
       "    <tr>\n",
       "      <th>2</th>\n",
       "      <td>I like to ice skate on our XXXXX</td>\n",
       "      <td>OUR XXXXX ICE SKATE ME LIKE</td>\n",
       "    </tr>\n",
       "    <tr>\n",
       "      <th>3</th>\n",
       "      <td>I like to be active and not sit and watch TV a...</td>\n",
       "      <td>ALL DAY ME LIKE ACTIVE NOT SIT WATCH TV</td>\n",
       "    </tr>\n",
       "    <tr>\n",
       "      <th>4</th>\n",
       "      <td>Are you prepared for hurricane XXXXX</td>\n",
       "      <td>HURRICANE XXXXX YOU READY PREPARE</td>\n",
       "    </tr>\n",
       "  </tbody>\n",
       "</table>\n",
       "</div>"
      ],
      "text/plain": [
       "                                             English  \\\n",
       "0                   My sister is having another baby   \n",
       "1             I love to cook hamburgers on the XXXXX   \n",
       "2                   I like to ice skate on our XXXXX   \n",
       "3  I like to be active and not sit and watch TV a...   \n",
       "4               Are you prepared for hurricane XXXXX   \n",
       "\n",
       "                                 ASL Gloss  \n",
       "0         ANOTHER BABY MY SISTER BORN-WILL  \n",
       "1             XXXXX HAMBURGER COOK ME LOVE  \n",
       "2              OUR XXXXX ICE SKATE ME LIKE  \n",
       "3  ALL DAY ME LIKE ACTIVE NOT SIT WATCH TV  \n",
       "4        HURRICANE XXXXX YOU READY PREPARE  "
      ]
     },
     "execution_count": 2,
     "metadata": {},
     "output_type": "execute_result"
    }
   ],
   "source": [
    "df = pd.read_csv('..\\Data\\Double_Dataset_EnglishToGloss.csv')\n",
    "df.head()"
   ]
  },
  {
   "cell_type": "code",
   "execution_count": 3,
   "id": "5057cc0d",
   "metadata": {
    "execution": {
     "iopub.execute_input": "2023-03-08T11:16:07.465130Z",
     "iopub.status.busy": "2023-03-08T11:16:07.464499Z",
     "iopub.status.idle": "2023-03-08T11:16:07.471157Z",
     "shell.execute_reply": "2023-03-08T11:16:07.470157Z"
    },
    "papermill": {
     "duration": 0.018867,
     "end_time": "2023-03-08T11:16:07.473243",
     "exception": false,
     "start_time": "2023-03-08T11:16:07.454376",
     "status": "completed"
    },
    "tags": []
   },
   "outputs": [
    {
     "data": {
      "text/plain": [
       "(3716, 2)"
      ]
     },
     "execution_count": 3,
     "metadata": {},
     "output_type": "execute_result"
    }
   ],
   "source": [
    "df.shape"
   ]
  },
  {
   "cell_type": "markdown",
   "id": "d22f0a68",
   "metadata": {
    "papermill": {
     "duration": 0.008979,
     "end_time": "2023-03-08T11:16:07.491442",
     "exception": false,
     "start_time": "2023-03-08T11:16:07.482463",
     "status": "completed"
    },
    "tags": []
   },
   "source": [
    "### Preprocessing\n",
    "\n",
    "Note:\n",
    "- Replace the numbers/digits\n",
    "- Check regarding Finger spellings\n",
    "- Check if it is required to add start and end tokens to target sequences"
   ]
  },
  {
   "cell_type": "code",
   "execution_count": 4,
   "id": "3c3234ce",
   "metadata": {
    "execution": {
     "iopub.execute_input": "2023-03-08T11:16:07.512489Z",
     "iopub.status.busy": "2023-03-08T11:16:07.511447Z",
     "iopub.status.idle": "2023-03-08T11:16:07.769359Z",
     "shell.execute_reply": "2023-03-08T11:16:07.768368Z"
    },
    "papermill": {
     "duration": 0.270788,
     "end_time": "2023-03-08T11:16:07.771659",
     "exception": false,
     "start_time": "2023-03-08T11:16:07.500871",
     "status": "completed"
    },
    "tags": []
   },
   "outputs": [],
   "source": [
    "replacements = {'1': \" one \", '2':\" two \", '3':\" three \", '4':\" four \", '5':\" five \", '6':\" six \", '7':\" seven \", '8':\" eight \", '9':\" nine \", '0':\" zero \"}\n",
    "df['English'] = df['English'].apply(lambda x: re.sub('(\\d)', lambda m: replacements[m.group()], x))\n",
    "df['ASL Gloss'] = df['ASL Gloss'].apply(lambda x: re.sub('(\\d)', lambda m: replacements[m.group()], x))\n",
    "\n",
    "# Remove extra spaces\n",
    "df['English'] = df['English'].apply(lambda x: x.strip())\n",
    "df['ASL Gloss'] = df['ASL Gloss'].apply(lambda x: x.strip())\n",
    "\n",
    "# Lowercase all characters\n",
    "df['English'] = df['English'].apply(lambda x: x.lower())\n",
    "df['ASL Gloss'] = df['ASL Gloss'].apply (lambda x: x.lower())\n",
    "\n",
    "# Removing double spaces\n",
    "df['English'] = df['English'].apply(lambda x: x.replace('  ', ' '))\n",
    "df['ASL Gloss'] = df['ASL Gloss'].apply(lambda x: x.replace('  ', ' '))\n",
    "\n",
    "# Remove all special character\n",
    "df['English'] = df['English'].apply(lambda x: ''.join (ch for ch in x if ch not in set(string.punctuation)))\n",
    "df['ASL Gloss'] = df['ASL Gloss'].apply(lambda x: ''.join (ch for ch in x if ch not in set(string.punctuation)))\n",
    "\n",
    "# Add tokens to target sequence\n",
    "df['English'] = df['English'].apply(lambda x : 'START_ ' + x + ' _END')"
   ]
  },
  {
   "cell_type": "code",
   "execution_count": 5,
   "id": "455794fa",
   "metadata": {
    "execution": {
     "iopub.execute_input": "2023-03-08T11:16:07.793152Z",
     "iopub.status.busy": "2023-03-08T11:16:07.792130Z",
     "iopub.status.idle": "2023-03-08T11:16:07.801655Z",
     "shell.execute_reply": "2023-03-08T11:16:07.800776Z"
    },
    "papermill": {
     "duration": 0.022135,
     "end_time": "2023-03-08T11:16:07.803525",
     "exception": false,
     "start_time": "2023-03-08T11:16:07.781390",
     "status": "completed"
    },
    "tags": []
   },
   "outputs": [
    {
     "data": {
      "text/html": [
       "<div>\n",
       "<style scoped>\n",
       "    .dataframe tbody tr th:only-of-type {\n",
       "        vertical-align: middle;\n",
       "    }\n",
       "\n",
       "    .dataframe tbody tr th {\n",
       "        vertical-align: top;\n",
       "    }\n",
       "\n",
       "    .dataframe thead th {\n",
       "        text-align: right;\n",
       "    }\n",
       "</style>\n",
       "<table border=\"1\" class=\"dataframe\">\n",
       "  <thead>\n",
       "    <tr style=\"text-align: right;\">\n",
       "      <th></th>\n",
       "      <th>English</th>\n",
       "      <th>ASL Gloss</th>\n",
       "    </tr>\n",
       "  </thead>\n",
       "  <tbody>\n",
       "    <tr>\n",
       "      <th>0</th>\n",
       "      <td>START_ my sister is having another baby _END</td>\n",
       "      <td>another baby my sister bornwill</td>\n",
       "    </tr>\n",
       "    <tr>\n",
       "      <th>1</th>\n",
       "      <td>START_ i love to cook hamburgers on the xxxxx ...</td>\n",
       "      <td>xxxxx hamburger cook me love</td>\n",
       "    </tr>\n",
       "    <tr>\n",
       "      <th>2</th>\n",
       "      <td>START_ i like to ice skate on our xxxxx _END</td>\n",
       "      <td>our xxxxx ice skate me like</td>\n",
       "    </tr>\n",
       "    <tr>\n",
       "      <th>3</th>\n",
       "      <td>START_ i like to be active and not sit and wat...</td>\n",
       "      <td>all day me like active not sit watch tv</td>\n",
       "    </tr>\n",
       "    <tr>\n",
       "      <th>4</th>\n",
       "      <td>START_ are you prepared for hurricane xxxxx _END</td>\n",
       "      <td>hurricane xxxxx you ready prepare</td>\n",
       "    </tr>\n",
       "    <tr>\n",
       "      <th>5</th>\n",
       "      <td>START_ the dinner party was awkward because mo...</td>\n",
       "      <td>dinner party awkward why most us not know each...</td>\n",
       "    </tr>\n",
       "    <tr>\n",
       "      <th>6</th>\n",
       "      <td>START_ my favorite author is me _END</td>\n",
       "      <td>my favorite author who me</td>\n",
       "    </tr>\n",
       "    <tr>\n",
       "      <th>7</th>\n",
       "      <td>START_ i love anything that has chocolate in i...</td>\n",
       "      <td>me love anything have chocolate inside</td>\n",
       "    </tr>\n",
       "    <tr>\n",
       "      <th>8</th>\n",
       "      <td>START_ do you like to watch baseball _END</td>\n",
       "      <td>baseball watch you like</td>\n",
       "    </tr>\n",
       "    <tr>\n",
       "      <th>9</th>\n",
       "      <td>START_ my daughter gave me beautiful flowers _END</td>\n",
       "      <td>beautiful flowers my daughter giveme</td>\n",
       "    </tr>\n",
       "  </tbody>\n",
       "</table>\n",
       "</div>"
      ],
      "text/plain": [
       "                                             English  \\\n",
       "0       START_ my sister is having another baby _END   \n",
       "1  START_ i love to cook hamburgers on the xxxxx ...   \n",
       "2       START_ i like to ice skate on our xxxxx _END   \n",
       "3  START_ i like to be active and not sit and wat...   \n",
       "4   START_ are you prepared for hurricane xxxxx _END   \n",
       "5  START_ the dinner party was awkward because mo...   \n",
       "6               START_ my favorite author is me _END   \n",
       "7  START_ i love anything that has chocolate in i...   \n",
       "8          START_ do you like to watch baseball _END   \n",
       "9  START_ my daughter gave me beautiful flowers _END   \n",
       "\n",
       "                                           ASL Gloss  \n",
       "0                    another baby my sister bornwill  \n",
       "1                       xxxxx hamburger cook me love  \n",
       "2                        our xxxxx ice skate me like  \n",
       "3            all day me like active not sit watch tv  \n",
       "4                  hurricane xxxxx you ready prepare  \n",
       "5  dinner party awkward why most us not know each...  \n",
       "6                          my favorite author who me  \n",
       "7             me love anything have chocolate inside  \n",
       "8                            baseball watch you like  \n",
       "9               beautiful flowers my daughter giveme  "
      ]
     },
     "execution_count": 5,
     "metadata": {},
     "output_type": "execute_result"
    }
   ],
   "source": [
    "df.head(10)"
   ]
  },
  {
   "cell_type": "code",
   "execution_count": 8,
   "id": "2b03a8b5",
   "metadata": {
    "execution": {
     "iopub.execute_input": "2023-03-08T11:16:07.882079Z",
     "iopub.status.busy": "2023-03-08T11:16:07.881246Z",
     "iopub.status.idle": "2023-03-08T11:16:07.896928Z",
     "shell.execute_reply": "2023-03-08T11:16:07.896035Z"
    },
    "papermill": {
     "duration": 0.028176,
     "end_time": "2023-03-08T11:16:07.898935",
     "exception": false,
     "start_time": "2023-03-08T11:16:07.870759",
     "status": "completed"
    },
    "tags": []
   },
   "outputs": [],
   "source": [
    "# Vocabulary of English\n",
    "all_eng_words = set()\n",
    "for eng in df['English']:\n",
    "    for word in eng.split():\n",
    "        if word not in all_eng_words:\n",
    "            all_eng_words.add(word)\n",
    "\n",
    "# Vocabulary of ASL \n",
    "all_ASL_words = set()\n",
    "for asl in df['ASL Gloss']:\n",
    "    for word in asl.split():\n",
    "        if word not in all_ASL_words:\n",
    "            all_ASL_words.add(word)"
   ]
  },
  {
   "cell_type": "code",
   "execution_count": 9,
   "id": "53805885",
   "metadata": {
    "execution": {
     "iopub.execute_input": "2023-03-08T11:16:07.919414Z",
     "iopub.status.busy": "2023-03-08T11:16:07.919111Z",
     "iopub.status.idle": "2023-03-08T11:16:07.928997Z",
     "shell.execute_reply": "2023-03-08T11:16:07.927525Z"
    },
    "papermill": {
     "duration": 0.023038,
     "end_time": "2023-03-08T11:16:07.931564",
     "exception": false,
     "start_time": "2023-03-08T11:16:07.908526",
     "status": "completed"
    },
    "tags": []
   },
   "outputs": [
    {
     "name": "stdout",
     "output_type": "stream",
     "text": [
      "Max length target:  41\n"
     ]
    }
   ],
   "source": [
    "# Max Length of source sequence\n",
    "lenght_list=[]\n",
    "for l in df ['English']:\n",
    "    lenght_list.append(len(l.split(' ')))\n",
    "max_length_tar = np.max(lenght_list)\n",
    "print(\"Max length target: \", max_length_tar)"
   ]
  },
  {
   "cell_type": "code",
   "execution_count": 10,
   "id": "0293fbc1",
   "metadata": {
    "execution": {
     "iopub.execute_input": "2023-03-08T11:16:07.952925Z",
     "iopub.status.busy": "2023-03-08T11:16:07.952608Z",
     "iopub.status.idle": "2023-03-08T11:16:07.960407Z",
     "shell.execute_reply": "2023-03-08T11:16:07.959468Z"
    },
    "papermill": {
     "duration": 0.020901,
     "end_time": "2023-03-08T11:16:07.963043",
     "exception": false,
     "start_time": "2023-03-08T11:16:07.942142",
     "status": "completed"
    },
    "tags": []
   },
   "outputs": [
    {
     "name": "stdout",
     "output_type": "stream",
     "text": [
      "Max length sorce:  24\n"
     ]
    }
   ],
   "source": [
    "# Max Length of target sequence\n",
    "lenght_list=[]\n",
    "for l in df ['ASL Gloss']:\n",
    "    lenght_list.append(len(l.split(' ')))\n",
    "max_length_src = np.max(lenght_list)\n",
    "print(\"Max length sorce: \", max_length_src)"
   ]
  },
  {
   "cell_type": "code",
   "execution_count": 11,
   "id": "fcbf4161",
   "metadata": {
    "execution": {
     "iopub.execute_input": "2023-03-08T11:16:07.985371Z",
     "iopub.status.busy": "2023-03-08T11:16:07.984467Z",
     "iopub.status.idle": "2023-03-08T11:16:07.992689Z",
     "shell.execute_reply": "2023-03-08T11:16:07.991632Z"
    },
    "papermill": {
     "duration": 0.020925,
     "end_time": "2023-03-08T11:16:07.994727",
     "exception": false,
     "start_time": "2023-03-08T11:16:07.973802",
     "status": "completed"
    },
    "tags": []
   },
   "outputs": [
    {
     "data": {
      "text/plain": [
       "(1639, 1727)"
      ]
     },
     "execution_count": 11,
     "metadata": {},
     "output_type": "execute_result"
    }
   ],
   "source": [
    "input_words = sorted(list(all_ASL_words))\n",
    "target_words = sorted(list(all_eng_words))\n",
    "\n",
    "# Calculate Vocab size for both source and target\n",
    "num_encoder_tokens = len(all_ASL_words) + 1\n",
    "num_decoder_tokens = len(all_eng_words) + 1\n",
    "\n",
    "num_encoder_tokens, num_decoder_tokens"
   ]
  },
  {
   "cell_type": "code",
   "execution_count": 12,
   "id": "b3adc0ff",
   "metadata": {
    "execution": {
     "iopub.execute_input": "2023-03-08T11:16:08.016203Z",
     "iopub.status.busy": "2023-03-08T11:16:08.015365Z",
     "iopub.status.idle": "2023-03-08T11:16:08.021725Z",
     "shell.execute_reply": "2023-03-08T11:16:08.020716Z"
    },
    "papermill": {
     "duration": 0.019067,
     "end_time": "2023-03-08T11:16:08.023695",
     "exception": false,
     "start_time": "2023-03-08T11:16:08.004628",
     "status": "completed"
    },
    "tags": []
   },
   "outputs": [
    {
     "data": {
      "text/plain": [
       "1728"
      ]
     },
     "execution_count": 12,
     "metadata": {},
     "output_type": "execute_result"
    }
   ],
   "source": [
    "num_decoder_tokens += 1 # For zero padding\n",
    "num_decoder_tokens"
   ]
  },
  {
   "cell_type": "code",
   "execution_count": 13,
   "id": "c556f0a6",
   "metadata": {
    "execution": {
     "iopub.execute_input": "2023-03-08T11:16:08.045334Z",
     "iopub.status.busy": "2023-03-08T11:16:08.045033Z",
     "iopub.status.idle": "2023-03-08T11:16:08.053927Z",
     "shell.execute_reply": "2023-03-08T11:16:08.053013Z"
    },
    "papermill": {
     "duration": 0.02181,
     "end_time": "2023-03-08T11:16:08.055849",
     "exception": false,
     "start_time": "2023-03-08T11:16:08.034039",
     "status": "completed"
    },
    "tags": []
   },
   "outputs": [],
   "source": [
    "# Create word to token dictionary for both source and target\n",
    "input_token_index = dict([(word, i+1) for i, word in enumerate(input_words)])\n",
    "target_token_index = dict([(word, i+1) for i, word in enumerate(target_words)])\n",
    "\n",
    "# Create token to word dictionary for both source and target\n",
    "reverse_input_char_index = dict((i, word) for word, i in input_token_index.items())\n",
    "reverse_target_char_index = dict((i, word) for word, i in target_token_index.items())"
   ]
  },
  {
   "cell_type": "code",
   "execution_count": 14,
   "id": "8965b8e3",
   "metadata": {
    "execution": {
     "iopub.execute_input": "2023-03-08T11:16:08.077442Z",
     "iopub.status.busy": "2023-03-08T11:16:08.076600Z",
     "iopub.status.idle": "2023-03-08T11:16:08.083571Z",
     "shell.execute_reply": "2023-03-08T11:16:08.082715Z"
    },
    "papermill": {
     "duration": 0.019747,
     "end_time": "2023-03-08T11:16:08.085551",
     "exception": false,
     "start_time": "2023-03-08T11:16:08.065804",
     "status": "completed"
    },
    "tags": []
   },
   "outputs": [],
   "source": [
    "def write_list_to_file(var_list):\n",
    "    outputFile = open( \"myVars.txt\", \"w\")\n",
    "    outputFile.write(str(var_list))\n",
    "    outputFile.flush()\n",
    "    outputFile.close()\n",
    "\n",
    "var_list = [max_length_src, max_length_tar, num_encoder_tokens, num_decoder_tokens, input_token_index, target_token_index, reverse_target_char_index]\n",
    "write_list_to_file(var_list)"
   ]
  },
  {
   "cell_type": "code",
   "execution_count": 15,
   "id": "9fb0e676",
   "metadata": {
    "execution": {
     "iopub.execute_input": "2023-03-08T11:16:08.107276Z",
     "iopub.status.busy": "2023-03-08T11:16:08.106370Z",
     "iopub.status.idle": "2023-03-08T11:16:08.118370Z",
     "shell.execute_reply": "2023-03-08T11:16:08.117368Z"
    },
    "papermill": {
     "duration": 0.024787,
     "end_time": "2023-03-08T11:16:08.120292",
     "exception": false,
     "start_time": "2023-03-08T11:16:08.095505",
     "status": "completed"
    },
    "tags": []
   },
   "outputs": [
    {
     "data": {
      "text/html": [
       "<div>\n",
       "<style scoped>\n",
       "    .dataframe tbody tr th:only-of-type {\n",
       "        vertical-align: middle;\n",
       "    }\n",
       "\n",
       "    .dataframe tbody tr th {\n",
       "        vertical-align: top;\n",
       "    }\n",
       "\n",
       "    .dataframe thead th {\n",
       "        text-align: right;\n",
       "    }\n",
       "</style>\n",
       "<table border=\"1\" class=\"dataframe\">\n",
       "  <thead>\n",
       "    <tr style=\"text-align: right;\">\n",
       "      <th></th>\n",
       "      <th>English</th>\n",
       "      <th>ASL Gloss</th>\n",
       "    </tr>\n",
       "  </thead>\n",
       "  <tbody>\n",
       "    <tr>\n",
       "      <th>2434</th>\n",
       "      <td>START_ do you like to walk _END</td>\n",
       "      <td>you like walk</td>\n",
       "    </tr>\n",
       "    <tr>\n",
       "      <th>1467</th>\n",
       "      <td>START_ he ran _END</td>\n",
       "      <td>he ran</td>\n",
       "    </tr>\n",
       "    <tr>\n",
       "      <th>3449</th>\n",
       "      <td>START_ i collect stamps _END</td>\n",
       "      <td>stamps collect me</td>\n",
       "    </tr>\n",
       "    <tr>\n",
       "      <th>2345</th>\n",
       "      <td>START_ wow this week i am busy _END</td>\n",
       "      <td>wow this week me busy</td>\n",
       "    </tr>\n",
       "    <tr>\n",
       "      <th>2179</th>\n",
       "      <td>START_ where were you born _END</td>\n",
       "      <td>you born where</td>\n",
       "    </tr>\n",
       "    <tr>\n",
       "      <th>1520</th>\n",
       "      <td>START_ the trees are beautiful in japan _END</td>\n",
       "      <td>japan trees beautiful</td>\n",
       "    </tr>\n",
       "    <tr>\n",
       "      <th>3231</th>\n",
       "      <td>START_ she drives _END</td>\n",
       "      <td>she drives</td>\n",
       "    </tr>\n",
       "    <tr>\n",
       "      <th>158</th>\n",
       "      <td>START_ my neighbor has eight children and four...</td>\n",
       "      <td>eight children four dog my neighbor has</td>\n",
       "    </tr>\n",
       "    <tr>\n",
       "      <th>2692</th>\n",
       "      <td>START_ my moms favorite sport is golf _END</td>\n",
       "      <td>golf my mom favorite sport</td>\n",
       "    </tr>\n",
       "    <tr>\n",
       "      <th>2830</th>\n",
       "      <td>START_ veterans day is wednesday november one ...</td>\n",
       "      <td>veterans day when wednesday november one one</td>\n",
       "    </tr>\n",
       "  </tbody>\n",
       "</table>\n",
       "</div>"
      ],
      "text/plain": [
       "                                                English  \\\n",
       "2434                    START_ do you like to walk _END   \n",
       "1467                                 START_ he ran _END   \n",
       "3449                       START_ i collect stamps _END   \n",
       "2345                START_ wow this week i am busy _END   \n",
       "2179                    START_ where were you born _END   \n",
       "1520       START_ the trees are beautiful in japan _END   \n",
       "3231                             START_ she drives _END   \n",
       "158   START_ my neighbor has eight children and four...   \n",
       "2692         START_ my moms favorite sport is golf _END   \n",
       "2830  START_ veterans day is wednesday november one ...   \n",
       "\n",
       "                                         ASL Gloss  \n",
       "2434                                 you like walk  \n",
       "1467                                        he ran  \n",
       "3449                             stamps collect me  \n",
       "2345                         wow this week me busy  \n",
       "2179                                you born where  \n",
       "1520                         japan trees beautiful  \n",
       "3231                                    she drives  \n",
       "158        eight children four dog my neighbor has  \n",
       "2692                    golf my mom favorite sport  \n",
       "2830  veterans day when wednesday november one one  "
      ]
     },
     "execution_count": 15,
     "metadata": {},
     "output_type": "execute_result"
    }
   ],
   "source": [
    "shuffle(df).head(10)"
   ]
  },
  {
   "attachments": {},
   "cell_type": "markdown",
   "id": "09e08747",
   "metadata": {
    "papermill": {
     "duration": 0.009999,
     "end_time": "2023-03-08T11:16:08.140648",
     "exception": false,
     "start_time": "2023-03-08T11:16:08.130649",
     "status": "completed"
    },
    "tags": []
   },
   "source": [
    "Making a 90–10 train and test split and write a Python generator function to load the data in batches as follows:"
   ]
  },
  {
   "cell_type": "code",
   "execution_count": 16,
   "id": "84d8bd73",
   "metadata": {
    "execution": {
     "iopub.execute_input": "2023-03-08T11:16:08.163067Z",
     "iopub.status.busy": "2023-03-08T11:16:08.162159Z",
     "iopub.status.idle": "2023-03-08T11:16:12.987284Z",
     "shell.execute_reply": "2023-03-08T11:16:12.986267Z"
    },
    "papermill": {
     "duration": 4.839113,
     "end_time": "2023-03-08T11:16:12.989786",
     "exception": false,
     "start_time": "2023-03-08T11:16:08.150673",
     "status": "completed"
    },
    "tags": []
   },
   "outputs": [],
   "source": [
    "from sklearn.model_selection import train_test_split\n",
    "from keras.layers import Input, LSTM, Embedding, Dense\n",
    "from keras.models import Model\n",
    "import tensorflow as tf"
   ]
  },
  {
   "cell_type": "code",
   "execution_count": 17,
   "id": "77e5c948",
   "metadata": {
    "execution": {
     "iopub.execute_input": "2023-03-08T11:16:13.013263Z",
     "iopub.status.busy": "2023-03-08T11:16:13.011884Z",
     "iopub.status.idle": "2023-03-08T11:16:13.022020Z",
     "shell.execute_reply": "2023-03-08T11:16:13.020884Z"
    },
    "papermill": {
     "duration": 0.024404,
     "end_time": "2023-03-08T11:16:13.024765",
     "exception": false,
     "start_time": "2023-03-08T11:16:13.000361",
     "status": "completed"
    },
    "tags": []
   },
   "outputs": [
    {
     "data": {
      "text/plain": [
       "((3344,), (372,))"
      ]
     },
     "execution_count": 17,
     "metadata": {},
     "output_type": "execute_result"
    }
   ],
   "source": [
    "# Train - Test Split\n",
    "X, y = df['ASL Gloss'], df['English']\n",
    "X_train, X_test, y_train, y_test = train_test_split(X, y, test_size = 0.1)\n",
    "X_train.shape, X_test.shape"
   ]
  },
  {
   "cell_type": "markdown",
   "id": "faecd8d4",
   "metadata": {
    "papermill": {
     "duration": 0.010514,
     "end_time": "2023-03-08T11:16:13.046509",
     "exception": false,
     "start_time": "2023-03-08T11:16:13.035995",
     "status": "completed"
    },
    "tags": []
   },
   "source": [
    "Save the train and test dataframes for reproducing the results later, as they are shuffled."
   ]
  },
  {
   "cell_type": "code",
   "execution_count": 19,
   "id": "484d6a60",
   "metadata": {
    "execution": {
     "iopub.execute_input": "2023-03-08T11:16:13.102801Z",
     "iopub.status.busy": "2023-03-08T11:16:13.102451Z",
     "iopub.status.idle": "2023-03-08T11:16:13.113332Z",
     "shell.execute_reply": "2023-03-08T11:16:13.112217Z"
    },
    "papermill": {
     "duration": 0.026477,
     "end_time": "2023-03-08T11:16:13.115717",
     "exception": false,
     "start_time": "2023-03-08T11:16:13.089240",
     "status": "completed"
    },
    "tags": []
   },
   "outputs": [],
   "source": [
    "def generate_batch(X = X_train, y = y_train, batch_size = 128):\n",
    "    ''' Generate a batch of data '''\n",
    "    while True:\n",
    "        for j in range(0, len(X), batch_size):\n",
    "            encoder_input_data = np.zeros((batch_size, max_length_src),dtype='float32')\n",
    "            decoder_input_data = np.zeros((batch_size, max_length_tar),dtype='float32')\n",
    "            decoder_target_data = np.zeros((batch_size, max_length_tar, num_decoder_tokens),dtype='float32')\n",
    "            for i, (input_text, target_text) in enumerate(zip(X.iloc[j:j+batch_size], y.iloc[j:j+batch_size])):\n",
    "                for t, word in enumerate(input_text.split()):\n",
    "                    encoder_input_data[i, t] = input_token_index[word] # encoder input seq\n",
    "                for t, word in enumerate(target_text.split()):\n",
    "                    if t<len(target_text.split())-1:\n",
    "                        decoder_input_data[i, t] = target_token_index[word] # decoder input seq\n",
    "                    if t>0:\n",
    "                        # decoder target sequence (one hot encoded)\n",
    "                        # does not include the START_ token\n",
    "                        # Offset by one timestep\n",
    "                        decoder_target_data[i, t - 1, target_token_index[word]] = 1.\n",
    "            yield([encoder_input_data, decoder_input_data], decoder_target_data)"
   ]
  },
  {
   "cell_type": "markdown",
   "id": "79c9b52e",
   "metadata": {
    "papermill": {
     "duration": 0.012698,
     "end_time": "2023-03-08T11:16:13.140340",
     "exception": false,
     "start_time": "2023-03-08T11:16:13.127642",
     "status": "completed"
    },
    "tags": []
   },
   "source": [
    "Encoder - Decoder Model Architecture"
   ]
  },
  {
   "cell_type": "code",
   "execution_count": 20,
   "id": "7ca288fc",
   "metadata": {
    "execution": {
     "iopub.execute_input": "2023-03-08T11:16:13.166664Z",
     "iopub.status.busy": "2023-03-08T11:16:13.166310Z",
     "iopub.status.idle": "2023-03-08T11:16:13.171809Z",
     "shell.execute_reply": "2023-03-08T11:16:13.170944Z"
    },
    "papermill": {
     "duration": 0.020933,
     "end_time": "2023-03-08T11:16:13.173835",
     "exception": false,
     "start_time": "2023-03-08T11:16:13.152902",
     "status": "completed"
    },
    "tags": []
   },
   "outputs": [],
   "source": [
    "latent_dim = 50"
   ]
  },
  {
   "cell_type": "code",
   "execution_count": 21,
   "id": "b2e25e8c",
   "metadata": {
    "execution": {
     "iopub.execute_input": "2023-03-08T11:16:13.196768Z",
     "iopub.status.busy": "2023-03-08T11:16:13.196035Z",
     "iopub.status.idle": "2023-03-08T11:16:16.478250Z",
     "shell.execute_reply": "2023-03-08T11:16:16.477263Z"
    },
    "papermill": {
     "duration": 3.295876,
     "end_time": "2023-03-08T11:16:16.480583",
     "exception": false,
     "start_time": "2023-03-08T11:16:13.184707",
     "status": "completed"
    },
    "tags": []
   },
   "outputs": [],
   "source": [
    "# Encoder\n",
    "encoder_inputs = Input(shape=(None,))\n",
    "enc_emb =  Embedding(num_encoder_tokens, latent_dim, mask_zero = True)(encoder_inputs)\n",
    "encoder_lstm = LSTM(latent_dim, return_state=True)\n",
    "encoder_outputs, state_h, state_c = encoder_lstm(enc_emb)\n",
    "\n",
    "# We discard `encoder_outputs` and only keep the states.\n",
    "encoder_states = [state_h, state_c]"
   ]
  },
  {
   "cell_type": "code",
   "execution_count": 22,
   "id": "c891aa69",
   "metadata": {
    "execution": {
     "iopub.execute_input": "2023-03-08T11:16:16.503211Z",
     "iopub.status.busy": "2023-03-08T11:16:16.502585Z",
     "iopub.status.idle": "2023-03-08T11:16:17.214767Z",
     "shell.execute_reply": "2023-03-08T11:16:17.213829Z"
    },
    "papermill": {
     "duration": 0.725926,
     "end_time": "2023-03-08T11:16:17.217173",
     "exception": false,
     "start_time": "2023-03-08T11:16:16.491247",
     "status": "completed"
    },
    "tags": []
   },
   "outputs": [],
   "source": [
    "# Set up the decoder, using `encoder_states` as initial state.\n",
    "decoder_inputs = Input(shape=(None,))\n",
    "dec_emb_layer = Embedding(num_decoder_tokens, latent_dim, mask_zero = True)\n",
    "dec_emb = dec_emb_layer(decoder_inputs)\n",
    "\n",
    "# We set up our decoder to return full output sequences,\n",
    "# and to return internal states as well. We don't use the\n",
    "# return states in the training model, but we will use them in inference.\n",
    "decoder_lstm = LSTM(latent_dim, return_sequences=True, return_state=True)\n",
    "decoder_outputs, _, _ = decoder_lstm(dec_emb, initial_state=encoder_states)\n",
    "\n",
    "# Use a softmax to generate a probability distribution over the target vocabulary for each time step\n",
    "decoder_dense = Dense(num_decoder_tokens, activation='softmax')\n",
    "decoder_outputs = decoder_dense(decoder_outputs)\n",
    "\n",
    "# Define the model that will turn\n",
    "# `encoder_input_data` & `decoder_input_data` into `decoder_target_data`\n",
    "model = Model([encoder_inputs, decoder_inputs], decoder_outputs)"
   ]
  },
  {
   "cell_type": "code",
   "execution_count": 23,
   "id": "406db86a",
   "metadata": {
    "execution": {
     "iopub.execute_input": "2023-03-08T11:16:17.239951Z",
     "iopub.status.busy": "2023-03-08T11:16:17.239593Z",
     "iopub.status.idle": "2023-03-08T11:16:17.246324Z",
     "shell.execute_reply": "2023-03-08T11:16:17.245160Z"
    },
    "papermill": {
     "duration": 0.021111,
     "end_time": "2023-03-08T11:16:17.249202",
     "exception": false,
     "start_time": "2023-03-08T11:16:17.228091",
     "status": "completed"
    },
    "tags": []
   },
   "outputs": [
    {
     "name": "stdout",
     "output_type": "stream",
     "text": [
      "Model: \"model\"\n",
      "__________________________________________________________________________________________________\n",
      "Layer (type)                    Output Shape         Param #     Connected to                     \n",
      "==================================================================================================\n",
      "input_1 (InputLayer)            [(None, None)]       0                                            \n",
      "__________________________________________________________________________________________________\n",
      "input_2 (InputLayer)            [(None, None)]       0                                            \n",
      "__________________________________________________________________________________________________\n",
      "embedding (Embedding)           (None, None, 50)     81950       input_1[0][0]                    \n",
      "__________________________________________________________________________________________________\n",
      "embedding_1 (Embedding)         (None, None, 50)     86400       input_2[0][0]                    \n",
      "__________________________________________________________________________________________________\n",
      "lstm (LSTM)                     [(None, 50), (None,  20200       embedding[0][0]                  \n",
      "__________________________________________________________________________________________________\n",
      "lstm_1 (LSTM)                   [(None, None, 50), ( 20200       embedding_1[0][0]                \n",
      "                                                                 lstm[0][1]                       \n",
      "                                                                 lstm[0][2]                       \n",
      "__________________________________________________________________________________________________\n",
      "dense (Dense)                   (None, None, 1728)   88128       lstm_1[0][0]                     \n",
      "==================================================================================================\n",
      "Total params: 296,878\n",
      "Trainable params: 296,878\n",
      "Non-trainable params: 0\n",
      "__________________________________________________________________________________________________\n"
     ]
    }
   ],
   "source": [
    "# Model Summary\n",
    "model.summary()"
   ]
  },
  {
   "cell_type": "code",
   "execution_count": 24,
   "id": "c5832d0a",
   "metadata": {
    "execution": {
     "iopub.execute_input": "2023-03-08T11:16:17.272439Z",
     "iopub.status.busy": "2023-03-08T11:16:17.272090Z",
     "iopub.status.idle": "2023-03-08T11:16:17.566346Z",
     "shell.execute_reply": "2023-03-08T11:16:17.565364Z"
    },
    "papermill": {
     "duration": 0.307964,
     "end_time": "2023-03-08T11:16:17.568875",
     "exception": false,
     "start_time": "2023-03-08T11:16:17.260911",
     "status": "completed"
    },
    "tags": []
   },
   "outputs": [],
   "source": [
    "# Compile the model\n",
    "model.compile(optimizer='rmsprop', loss='categorical_crossentropy', metrics=[tf.keras.metrics.Accuracy(), tf.keras.metrics.Precision(), tf.keras.metrics.Recall()])"
   ]
  },
  {
   "cell_type": "code",
   "execution_count": 25,
   "id": "eb80aa39",
   "metadata": {
    "execution": {
     "iopub.execute_input": "2023-03-08T11:16:17.592805Z",
     "iopub.status.busy": "2023-03-08T11:16:17.591965Z",
     "iopub.status.idle": "2023-03-08T11:16:17.597350Z",
     "shell.execute_reply": "2023-03-08T11:16:17.596283Z"
    },
    "papermill": {
     "duration": 0.019966,
     "end_time": "2023-03-08T11:16:17.599875",
     "exception": false,
     "start_time": "2023-03-08T11:16:17.579909",
     "status": "completed"
    },
    "tags": []
   },
   "outputs": [],
   "source": [
    "from keras import callbacks\n",
    "earlystopping = callbacks.EarlyStopping(monitor=\"val_loss\",\n",
    "                                        mode=\"min\", patience=5,\n",
    "                                        restore_best_weights=True, verbose = 1)"
   ]
  },
  {
   "cell_type": "code",
   "execution_count": 26,
   "id": "47365bbd",
   "metadata": {
    "execution": {
     "iopub.execute_input": "2023-03-08T11:16:17.622856Z",
     "iopub.status.busy": "2023-03-08T11:16:17.622062Z",
     "iopub.status.idle": "2023-03-08T11:16:17.627067Z",
     "shell.execute_reply": "2023-03-08T11:16:17.626177Z"
    },
    "papermill": {
     "duration": 0.018695,
     "end_time": "2023-03-08T11:16:17.629232",
     "exception": false,
     "start_time": "2023-03-08T11:16:17.610537",
     "status": "completed"
    },
    "tags": []
   },
   "outputs": [],
   "source": [
    "train_samples = len(X_train)\n",
    "val_samples = len(X_test)\n",
    "batch_size = 128\n",
    "epochs = 110"
   ]
  },
  {
   "cell_type": "code",
   "execution_count": 27,
   "id": "fcc975c7",
   "metadata": {
    "execution": {
     "iopub.execute_input": "2023-03-08T11:16:17.651863Z",
     "iopub.status.busy": "2023-03-08T11:16:17.651028Z",
     "iopub.status.idle": "2023-03-08T11:23:27.395848Z",
     "shell.execute_reply": "2023-03-08T11:23:27.394714Z"
    },
    "papermill": {
     "duration": 429.758365,
     "end_time": "2023-03-08T11:23:27.397947",
     "exception": false,
     "start_time": "2023-03-08T11:16:17.639582",
     "status": "completed"
    },
    "tags": []
   },
   "outputs": [
    {
     "name": "stdout",
     "output_type": "stream",
     "text": [
      "Epoch 1/110\n",
      "26/26 [==============================] - 16s 244ms/step - loss: 1.1072 - accuracy: 0.0000e+00 - precision: 0.0000e+00 - recall: 0.0000e+00 - val_loss: 0.9647 - val_accuracy: 0.0000e+00 - val_precision: 0.0000e+00 - val_recall: 0.0000e+00\n",
      "Epoch 2/110\n",
      "26/26 [==============================] - 4s 138ms/step - loss: 0.8724 - accuracy: 0.0000e+00 - precision: 0.0000e+00 - recall: 0.0000e+00 - val_loss: 0.8686 - val_accuracy: 0.0000e+00 - val_precision: 0.0000e+00 - val_recall: 0.0000e+00\n",
      "Epoch 3/110\n",
      "26/26 [==============================] - 4s 146ms/step - loss: 0.8291 - accuracy: 0.0000e+00 - precision: 0.0000e+00 - recall: 0.0000e+00 - val_loss: 0.8510 - val_accuracy: 0.0000e+00 - val_precision: 0.0000e+00 - val_recall: 0.0000e+00\n",
      "Epoch 4/110\n",
      "26/26 [==============================] - 4s 147ms/step - loss: 0.8182 - accuracy: 0.0000e+00 - precision: 0.0000e+00 - recall: 0.0000e+00 - val_loss: 0.8358 - val_accuracy: 0.0000e+00 - val_precision: 0.0000e+00 - val_recall: 0.0000e+00\n",
      "Epoch 5/110\n",
      "26/26 [==============================] - 4s 134ms/step - loss: 0.7965 - accuracy: 0.0000e+00 - precision: 0.0000e+00 - recall: 0.0000e+00 - val_loss: 0.8141 - val_accuracy: 0.0000e+00 - val_precision: 0.0000e+00 - val_recall: 0.0000e+00\n",
      "Epoch 6/110\n",
      "26/26 [==============================] - 4s 145ms/step - loss: 0.7764 - accuracy: 0.0000e+00 - precision: 0.0000e+00 - recall: 0.0000e+00 - val_loss: 0.7925 - val_accuracy: 0.0000e+00 - val_precision: 0.0000e+00 - val_recall: 0.0000e+00\n",
      "Epoch 7/110\n",
      "26/26 [==============================] - 4s 169ms/step - loss: 0.7584 - accuracy: 0.0000e+00 - precision: 0.8761 - recall: 0.0045 - val_loss: 0.7722 - val_accuracy: 0.0000e+00 - val_precision: 0.8649 - val_recall: 0.0182\n",
      "Epoch 8/110\n",
      "26/26 [==============================] - 4s 137ms/step - loss: 0.7369 - accuracy: 0.0000e+00 - precision: 0.9182 - recall: 0.0534 - val_loss: 0.7561 - val_accuracy: 0.0000e+00 - val_precision: 0.8982 - val_recall: 0.0852\n",
      "Epoch 9/110\n",
      "26/26 [==============================] - 4s 140ms/step - loss: 0.7221 - accuracy: 0.0000e+00 - precision: 0.8974 - recall: 0.0981 - val_loss: 0.7382 - val_accuracy: 0.0000e+00 - val_precision: 0.8927 - val_recall: 0.1039\n",
      "Epoch 10/110\n",
      "26/26 [==============================] - 4s 155ms/step - loss: 0.7065 - accuracy: 0.0000e+00 - precision: 0.8898 - recall: 0.1118 - val_loss: 0.7195 - val_accuracy: 0.0000e+00 - val_precision: 0.8855 - val_recall: 0.1141\n",
      "Epoch 11/110\n",
      "26/26 [==============================] - 4s 138ms/step - loss: 0.6858 - accuracy: 0.0000e+00 - precision: 0.8848 - recall: 0.1174 - val_loss: 0.7033 - val_accuracy: 0.0000e+00 - val_precision: 0.8782 - val_recall: 0.1187\n",
      "Epoch 12/110\n",
      "26/26 [==============================] - 4s 147ms/step - loss: 0.6719 - accuracy: 0.0000e+00 - precision: 0.8757 - recall: 0.1207 - val_loss: 0.6875 - val_accuracy: 0.0000e+00 - val_precision: 0.8797 - val_recall: 0.1204\n",
      "Epoch 13/110\n",
      "26/26 [==============================] - 4s 150ms/step - loss: 0.6582 - accuracy: 0.0000e+00 - precision: 0.8715 - recall: 0.1241 - val_loss: 0.6707 - val_accuracy: 0.0000e+00 - val_precision: 0.8852 - val_recall: 0.1227\n",
      "Epoch 14/110\n",
      "26/26 [==============================] - 4s 138ms/step - loss: 0.6393 - accuracy: 0.0000e+00 - precision: 0.8696 - recall: 0.1266 - val_loss: 0.6558 - val_accuracy: 0.0000e+00 - val_precision: 0.8726 - val_recall: 0.1283\n",
      "Epoch 15/110\n",
      "26/26 [==============================] - 4s 158ms/step - loss: 0.6260 - accuracy: 0.0000e+00 - precision: 0.8682 - recall: 0.1283 - val_loss: 0.6401 - val_accuracy: 0.0000e+00 - val_precision: 0.8780 - val_recall: 0.1266\n",
      "Epoch 16/110\n",
      "26/26 [==============================] - 4s 153ms/step - loss: 0.6116 - accuracy: 0.0000e+00 - precision: 0.8691 - recall: 0.1299 - val_loss: 0.6222 - val_accuracy: 0.0000e+00 - val_precision: 0.8872 - val_recall: 0.1295\n",
      "Epoch 17/110\n",
      "26/26 [==============================] - 4s 140ms/step - loss: 0.5913 - accuracy: 0.0000e+00 - precision: 0.8767 - recall: 0.1313 - val_loss: 0.6051 - val_accuracy: 0.0000e+00 - val_precision: 0.8821 - val_recall: 0.1317\n",
      "Epoch 18/110\n",
      "26/26 [==============================] - 4s 144ms/step - loss: 0.5759 - accuracy: 0.0000e+00 - precision: 0.8776 - recall: 0.1323 - val_loss: 0.5872 - val_accuracy: 0.0000e+00 - val_precision: 0.8943 - val_recall: 0.1346\n",
      "Epoch 19/110\n",
      "26/26 [==============================] - 4s 145ms/step - loss: 0.5592 - accuracy: 0.0000e+00 - precision: 0.8870 - recall: 0.1383 - val_loss: 0.5676 - val_accuracy: 0.0000e+00 - val_precision: 0.9213 - val_recall: 0.1397\n",
      "Epoch 20/110\n",
      "26/26 [==============================] - 4s 135ms/step - loss: 0.5369 - accuracy: 0.0000e+00 - precision: 0.8944 - recall: 0.1494 - val_loss: 0.5480 - val_accuracy: 0.0000e+00 - val_precision: 0.9148 - val_recall: 0.1584\n",
      "Epoch 21/110\n",
      "26/26 [==============================] - 4s 149ms/step - loss: 0.5197 - accuracy: 0.0000e+00 - precision: 0.9033 - recall: 0.1651 - val_loss: 0.5283 - val_accuracy: 0.0000e+00 - val_precision: 0.9260 - val_recall: 0.1777\n",
      "Epoch 22/110\n",
      "26/26 [==============================] - 4s 149ms/step - loss: 0.5015 - accuracy: 0.0000e+00 - precision: 0.9159 - recall: 0.1896 - val_loss: 0.5076 - val_accuracy: 0.0000e+00 - val_precision: 0.9373 - val_recall: 0.1953\n",
      "Epoch 23/110\n",
      "26/26 [==============================] - 4s 137ms/step - loss: 0.4787 - accuracy: 0.0000e+00 - precision: 0.9227 - recall: 0.2050 - val_loss: 0.4880 - val_accuracy: 0.0000e+00 - val_precision: 0.9325 - val_recall: 0.2118\n",
      "Epoch 24/110\n",
      "26/26 [==============================] - 4s 173ms/step - loss: 0.4618 - accuracy: 0.0000e+00 - precision: 0.9244 - recall: 0.2145 - val_loss: 0.4683 - val_accuracy: 0.0000e+00 - val_precision: 0.9422 - val_recall: 0.2220\n",
      "Epoch 25/110\n",
      "26/26 [==============================] - 4s 145ms/step - loss: 0.4441 - accuracy: 0.0000e+00 - precision: 0.9301 - recall: 0.2281 - val_loss: 0.4488 - val_accuracy: 0.0000e+00 - val_precision: 0.9457 - val_recall: 0.2374\n",
      "Epoch 26/110\n",
      "26/26 [==============================] - 4s 137ms/step - loss: 0.4229 - accuracy: 0.0000e+00 - precision: 0.9408 - recall: 0.2437 - val_loss: 0.4308 - val_accuracy: 0.0000e+00 - val_precision: 0.9567 - val_recall: 0.2510\n",
      "Epoch 27/110\n",
      "26/26 [==============================] - 4s 145ms/step - loss: 0.4068 - accuracy: 0.0000e+00 - precision: 0.9474 - recall: 0.2582 - val_loss: 0.4121 - val_accuracy: 0.0000e+00 - val_precision: 0.9616 - val_recall: 0.2703\n",
      "Epoch 28/110\n",
      "26/26 [==============================] - 4s 144ms/step - loss: 0.3902 - accuracy: 0.0000e+00 - precision: 0.9548 - recall: 0.2726 - val_loss: 0.3936 - val_accuracy: 0.0000e+00 - val_precision: 0.9709 - val_recall: 0.2845\n",
      "Epoch 29/110\n",
      "26/26 [==============================] - 4s 139ms/step - loss: 0.3707 - accuracy: 0.0000e+00 - precision: 0.9583 - recall: 0.2852 - val_loss: 0.3772 - val_accuracy: 0.0000e+00 - val_precision: 0.9698 - val_recall: 0.2913\n",
      "Epoch 30/110\n",
      "26/26 [==============================] - 4s 153ms/step - loss: 0.3559 - accuracy: 0.0000e+00 - precision: 0.9631 - recall: 0.3008 - val_loss: 0.3600 - val_accuracy: 0.0000e+00 - val_precision: 0.9719 - val_recall: 0.3146\n",
      "Epoch 31/110\n",
      "26/26 [==============================] - 4s 139ms/step - loss: 0.3406 - accuracy: 0.0000e+00 - precision: 0.9678 - recall: 0.3156 - val_loss: 0.3438 - val_accuracy: 0.0000e+00 - val_precision: 0.9743 - val_recall: 0.3225\n",
      "Epoch 32/110\n",
      "26/26 [==============================] - 4s 161ms/step - loss: 0.3228 - accuracy: 0.0000e+00 - precision: 0.9682 - recall: 0.3268 - val_loss: 0.3275 - val_accuracy: 0.0000e+00 - val_precision: 0.9736 - val_recall: 0.3345\n",
      "Epoch 33/110\n",
      "26/26 [==============================] - 4s 161ms/step - loss: 0.3093 - accuracy: 0.0000e+00 - precision: 0.9721 - recall: 0.3391 - val_loss: 0.3127 - val_accuracy: 0.0000e+00 - val_precision: 0.9763 - val_recall: 0.3515\n",
      "Epoch 34/110\n",
      "26/26 [==============================] - 3s 137ms/step - loss: 0.2952 - accuracy: 0.0000e+00 - precision: 0.9731 - recall: 0.3541 - val_loss: 0.2971 - val_accuracy: 0.0000e+00 - val_precision: 0.9739 - val_recall: 0.3606\n",
      "Epoch 35/110\n",
      "26/26 [==============================] - 4s 136ms/step - loss: 0.2786 - accuracy: 0.0000e+00 - precision: 0.9752 - recall: 0.3715 - val_loss: 0.2827 - val_accuracy: 0.0000e+00 - val_precision: 0.9780 - val_recall: 0.3788\n",
      "Epoch 36/110\n",
      "26/26 [==============================] - 4s 157ms/step - loss: 0.2664 - accuracy: 0.0000e+00 - precision: 0.9764 - recall: 0.3866 - val_loss: 0.2687 - val_accuracy: 0.0000e+00 - val_precision: 0.9790 - val_recall: 0.3964\n",
      "Epoch 37/110\n",
      "26/26 [==============================] - 4s 142ms/step - loss: 0.2534 - accuracy: 0.0000e+00 - precision: 0.9778 - recall: 0.4034 - val_loss: 0.2545 - val_accuracy: 0.0000e+00 - val_precision: 0.9795 - val_recall: 0.4060\n",
      "Epoch 38/110\n",
      "26/26 [==============================] - 4s 135ms/step - loss: 0.2386 - accuracy: 0.0000e+00 - precision: 0.9790 - recall: 0.4150 - val_loss: 0.2415 - val_accuracy: 0.0000e+00 - val_precision: 0.9817 - val_recall: 0.4259\n",
      "Epoch 39/110\n",
      "26/26 [==============================] - 4s 154ms/step - loss: 0.2272 - accuracy: 0.0000e+00 - precision: 0.9813 - recall: 0.4306 - val_loss: 0.2289 - val_accuracy: 0.0000e+00 - val_precision: 0.9848 - val_recall: 0.4412\n",
      "Epoch 40/110\n",
      "26/26 [==============================] - 4s 142ms/step - loss: 0.2156 - accuracy: 0.0000e+00 - precision: 0.9828 - recall: 0.4484 - val_loss: 0.2156 - val_accuracy: 0.0000e+00 - val_precision: 0.9854 - val_recall: 0.4588\n",
      "Epoch 41/110\n",
      "26/26 [==============================] - 4s 146ms/step - loss: 0.2021 - accuracy: 0.0000e+00 - precision: 0.9846 - recall: 0.4658 - val_loss: 0.2049 - val_accuracy: 0.0000e+00 - val_precision: 0.9881 - val_recall: 0.4730\n",
      "Epoch 42/110\n",
      "26/26 [==============================] - 4s 157ms/step - loss: 0.1920 - accuracy: 0.0000e+00 - precision: 0.9868 - recall: 0.4806 - val_loss: 0.1931 - val_accuracy: 0.0000e+00 - val_precision: 0.9885 - val_recall: 0.4878\n",
      "Epoch 43/110\n",
      "26/26 [==============================] - 4s 142ms/step - loss: 0.1815 - accuracy: 0.0000e+00 - precision: 0.9876 - recall: 0.4961 - val_loss: 0.1825 - val_accuracy: 0.0000e+00 - val_precision: 0.9888 - val_recall: 0.5020\n",
      "Epoch 44/110\n",
      "26/26 [==============================] - 4s 138ms/step - loss: 0.1697 - accuracy: 0.0000e+00 - precision: 0.9885 - recall: 0.5146 - val_loss: 0.1714 - val_accuracy: 0.0000e+00 - val_precision: 0.9892 - val_recall: 0.5202\n",
      "Epoch 45/110\n",
      "26/26 [==============================] - 4s 159ms/step - loss: 0.1604 - accuracy: 0.0000e+00 - precision: 0.9898 - recall: 0.5320 - val_loss: 0.1613 - val_accuracy: 0.0000e+00 - val_precision: 0.9916 - val_recall: 0.5395\n",
      "Epoch 46/110\n",
      "26/26 [==============================] - 3s 138ms/step - loss: 0.1510 - accuracy: 0.0000e+00 - precision: 0.9918 - recall: 0.5525 - val_loss: 0.1509 - val_accuracy: 0.0000e+00 - val_precision: 0.9930 - val_recall: 0.5599\n",
      "Epoch 47/110\n",
      "26/26 [==============================] - 4s 131ms/step - loss: 0.1405 - accuracy: 0.0000e+00 - precision: 0.9934 - recall: 0.5702 - val_loss: 0.1419 - val_accuracy: 0.0000e+00 - val_precision: 0.9941 - val_recall: 0.5752\n",
      "Epoch 48/110\n",
      "26/26 [==============================] - 4s 154ms/step - loss: 0.1325 - accuracy: 0.0000e+00 - precision: 0.9937 - recall: 0.5886 - val_loss: 0.1328 - val_accuracy: 0.0000e+00 - val_precision: 0.9924 - val_recall: 0.5934\n",
      "Epoch 49/110\n",
      "26/26 [==============================] - 4s 156ms/step - loss: 0.1244 - accuracy: 0.0000e+00 - precision: 0.9940 - recall: 0.6090 - val_loss: 0.1249 - val_accuracy: 0.0000e+00 - val_precision: 0.9954 - val_recall: 0.6110\n",
      "Epoch 50/110\n",
      "26/26 [==============================] - 4s 142ms/step - loss: 0.1154 - accuracy: 0.0000e+00 - precision: 0.9943 - recall: 0.6297 - val_loss: 0.1161 - val_accuracy: 0.0000e+00 - val_precision: 0.9938 - val_recall: 0.6388\n",
      "Epoch 51/110\n",
      "26/26 [==============================] - 4s 156ms/step - loss: 0.1082 - accuracy: 0.0000e+00 - precision: 0.9950 - recall: 0.6556 - val_loss: 0.1085 - val_accuracy: 0.0000e+00 - val_precision: 0.9949 - val_recall: 0.6644\n",
      "Epoch 52/110\n",
      "26/26 [==============================] - 4s 140ms/step - loss: 0.1012 - accuracy: 0.0000e+00 - precision: 0.9954 - recall: 0.6785 - val_loss: 0.1012 - val_accuracy: 0.0000e+00 - val_precision: 0.9951 - val_recall: 0.6860\n",
      "Epoch 53/110\n",
      "26/26 [==============================] - 4s 137ms/step - loss: 0.0935 - accuracy: 0.0000e+00 - precision: 0.9958 - recall: 0.7051 - val_loss: 0.0936 - val_accuracy: 0.0000e+00 - val_precision: 0.9960 - val_recall: 0.7081\n",
      "Epoch 54/110\n",
      "26/26 [==============================] - 4s 157ms/step - loss: 0.0873 - accuracy: 0.0000e+00 - precision: 0.9962 - recall: 0.7251 - val_loss: 0.0875 - val_accuracy: 0.0000e+00 - val_precision: 0.9969 - val_recall: 0.7280\n",
      "Epoch 55/110\n",
      "26/26 [==============================] - 3s 135ms/step - loss: 0.0814 - accuracy: 0.0000e+00 - precision: 0.9967 - recall: 0.7405 - val_loss: 0.0824 - val_accuracy: 0.0000e+00 - val_precision: 0.9985 - val_recall: 0.7399\n",
      "Epoch 56/110\n",
      "26/26 [==============================] - 4s 139ms/step - loss: 0.0748 - accuracy: 0.0000e+00 - precision: 0.9969 - recall: 0.7606 - val_loss: 0.0751 - val_accuracy: 0.0000e+00 - val_precision: 0.9978 - val_recall: 0.7666\n",
      "Epoch 57/110\n",
      "26/26 [==============================] - 4s 173ms/step - loss: 0.0698 - accuracy: 0.0000e+00 - precision: 0.9973 - recall: 0.7787 - val_loss: 0.0696 - val_accuracy: 0.0000e+00 - val_precision: 0.9993 - val_recall: 0.7905\n",
      "Epoch 58/110\n",
      "26/26 [==============================] - 4s 137ms/step - loss: 0.0648 - accuracy: 0.0000e+00 - precision: 0.9977 - recall: 0.7994 - val_loss: 0.0639 - val_accuracy: 0.0000e+00 - val_precision: 0.9972 - val_recall: 0.8143\n",
      "Epoch 59/110\n",
      "26/26 [==============================] - 4s 148ms/step - loss: 0.0595 - accuracy: 0.0000e+00 - precision: 0.9980 - recall: 0.8207 - val_loss: 0.0592 - val_accuracy: 0.0000e+00 - val_precision: 0.9993 - val_recall: 0.8325\n",
      "Epoch 60/110\n",
      "26/26 [==============================] - 4s 143ms/step - loss: 0.0552 - accuracy: 0.0000e+00 - precision: 0.9985 - recall: 0.8393 - val_loss: 0.0550 - val_accuracy: 0.0000e+00 - val_precision: 0.9987 - val_recall: 0.8478\n",
      "Epoch 61/110\n",
      "26/26 [==============================] - 4s 142ms/step - loss: 0.0512 - accuracy: 0.0000e+00 - precision: 0.9987 - recall: 0.8603 - val_loss: 0.0509 - val_accuracy: 0.0000e+00 - val_precision: 0.9993 - val_recall: 0.8683\n",
      "Epoch 62/110\n",
      "26/26 [==============================] - 4s 147ms/step - loss: 0.0468 - accuracy: 0.0000e+00 - precision: 0.9987 - recall: 0.8776 - val_loss: 0.0468 - val_accuracy: 0.0000e+00 - val_precision: 0.9994 - val_recall: 0.8870\n",
      "Epoch 63/110\n",
      "26/26 [==============================] - 4s 142ms/step - loss: 0.0435 - accuracy: 0.0000e+00 - precision: 0.9989 - recall: 0.8918 - val_loss: 0.0435 - val_accuracy: 0.0000e+00 - val_precision: 1.0000 - val_recall: 0.9006\n",
      "Epoch 64/110\n",
      "26/26 [==============================] - 3s 135ms/step - loss: 0.0401 - accuracy: 0.0000e+00 - precision: 0.9992 - recall: 0.9046 - val_loss: 0.0401 - val_accuracy: 0.0000e+00 - val_precision: 0.9994 - val_recall: 0.9165\n",
      "Epoch 65/110\n",
      "26/26 [==============================] - 4s 151ms/step - loss: 0.0367 - accuracy: 0.0000e+00 - precision: 0.9993 - recall: 0.9168 - val_loss: 0.0374 - val_accuracy: 0.0000e+00 - val_precision: 1.0000 - val_recall: 0.9188\n",
      "Epoch 66/110\n",
      "26/26 [==============================] - 4s 167ms/step - loss: 0.0340 - accuracy: 0.0000e+00 - precision: 0.9994 - recall: 0.9257 - val_loss: 0.0337 - val_accuracy: 0.0000e+00 - val_precision: 1.0000 - val_recall: 0.9319\n",
      "Epoch 67/110\n",
      "26/26 [==============================] - 4s 139ms/step - loss: 0.0313 - accuracy: 0.0000e+00 - precision: 0.9999 - recall: 0.9349 - val_loss: 0.0318 - val_accuracy: 0.0000e+00 - val_precision: 0.9994 - val_recall: 0.9398\n",
      "Epoch 68/110\n",
      "26/26 [==============================] - 4s 146ms/step - loss: 0.0285 - accuracy: 0.0000e+00 - precision: 0.9999 - recall: 0.9448 - val_loss: 0.0284 - val_accuracy: 0.0000e+00 - val_precision: 1.0000 - val_recall: 0.9506\n",
      "Epoch 69/110\n",
      "26/26 [==============================] - 4s 149ms/step - loss: 0.0264 - accuracy: 0.0000e+00 - precision: 0.9999 - recall: 0.9518 - val_loss: 0.0265 - val_accuracy: 0.0000e+00 - val_precision: 1.0000 - val_recall: 0.9557\n",
      "Epoch 70/110\n",
      "26/26 [==============================] - 4s 141ms/step - loss: 0.0243 - accuracy: 0.0000e+00 - precision: 1.0000 - recall: 0.9588 - val_loss: 0.0240 - val_accuracy: 0.0000e+00 - val_precision: 1.0000 - val_recall: 0.9637\n",
      "Epoch 71/110\n",
      "26/26 [==============================] - 4s 152ms/step - loss: 0.0221 - accuracy: 0.0000e+00 - precision: 1.0000 - recall: 0.9656 - val_loss: 0.0220 - val_accuracy: 0.0000e+00 - val_precision: 1.0000 - val_recall: 0.9682\n",
      "Epoch 72/110\n",
      "26/26 [==============================] - 4s 141ms/step - loss: 0.0203 - accuracy: 0.0000e+00 - precision: 1.0000 - recall: 0.9697 - val_loss: 0.0204 - val_accuracy: 0.0000e+00 - val_precision: 1.0000 - val_recall: 0.9693\n",
      "Epoch 73/110\n",
      "26/26 [==============================] - 4s 141ms/step - loss: 0.0187 - accuracy: 0.0000e+00 - precision: 1.0000 - recall: 0.9720 - val_loss: 0.0187 - val_accuracy: 0.0000e+00 - val_precision: 1.0000 - val_recall: 0.9733\n",
      "Epoch 74/110\n",
      "26/26 [==============================] - 5s 173ms/step - loss: 0.0170 - accuracy: 0.0000e+00 - precision: 1.0000 - recall: 0.9756 - val_loss: 0.0175 - val_accuracy: 0.0000e+00 - val_precision: 1.0000 - val_recall: 0.9761\n",
      "Epoch 75/110\n",
      "26/26 [==============================] - 4s 146ms/step - loss: 0.0155 - accuracy: 0.0000e+00 - precision: 1.0000 - recall: 0.9797 - val_loss: 0.0158 - val_accuracy: 0.0000e+00 - val_precision: 1.0000 - val_recall: 0.9784\n",
      "Epoch 76/110\n",
      "26/26 [==============================] - 4s 140ms/step - loss: 0.0143 - accuracy: 0.0000e+00 - precision: 1.0000 - recall: 0.9831 - val_loss: 0.0141 - val_accuracy: 0.0000e+00 - val_precision: 1.0000 - val_recall: 0.9830\n",
      "Epoch 77/110\n",
      "26/26 [==============================] - 4s 152ms/step - loss: 0.0129 - accuracy: 0.0000e+00 - precision: 1.0000 - recall: 0.9856 - val_loss: 0.0128 - val_accuracy: 0.0000e+00 - val_precision: 1.0000 - val_recall: 0.9875\n",
      "Epoch 78/110\n",
      "26/26 [==============================] - 4s 150ms/step - loss: 0.0118 - accuracy: 0.0000e+00 - precision: 1.0000 - recall: 0.9882 - val_loss: 0.0119 - val_accuracy: 0.0000e+00 - val_precision: 1.0000 - val_recall: 0.9886\n",
      "Epoch 79/110\n",
      "26/26 [==============================] - 4s 142ms/step - loss: 0.0108 - accuracy: 0.0000e+00 - precision: 1.0000 - recall: 0.9907 - val_loss: 0.0107 - val_accuracy: 0.0000e+00 - val_precision: 1.0000 - val_recall: 0.9920\n",
      "Epoch 80/110\n",
      "26/26 [==============================] - 4s 148ms/step - loss: 0.0098 - accuracy: 0.0000e+00 - precision: 1.0000 - recall: 0.9927 - val_loss: 0.0099 - val_accuracy: 0.0000e+00 - val_precision: 1.0000 - val_recall: 0.9920\n",
      "Epoch 81/110\n",
      "26/26 [==============================] - 4s 141ms/step - loss: 0.0090 - accuracy: 0.0000e+00 - precision: 1.0000 - recall: 0.9936 - val_loss: 0.0089 - val_accuracy: 0.0000e+00 - val_precision: 1.0000 - val_recall: 0.9932\n",
      "Epoch 82/110\n",
      "26/26 [==============================] - 4s 161ms/step - loss: 0.0082 - accuracy: 0.0000e+00 - precision: 1.0000 - recall: 0.9941 - val_loss: 0.0082 - val_accuracy: 0.0000e+00 - val_precision: 1.0000 - val_recall: 0.9943\n",
      "Epoch 83/110\n",
      "26/26 [==============================] - 4s 140ms/step - loss: 0.0074 - accuracy: 0.0000e+00 - precision: 1.0000 - recall: 0.9954 - val_loss: 0.0075 - val_accuracy: 0.0000e+00 - val_precision: 1.0000 - val_recall: 0.9955\n",
      "Epoch 84/110\n",
      "26/26 [==============================] - 4s 143ms/step - loss: 0.0068 - accuracy: 0.0000e+00 - precision: 1.0000 - recall: 0.9962 - val_loss: 0.0068 - val_accuracy: 0.0000e+00 - val_precision: 1.0000 - val_recall: 0.9955\n",
      "Epoch 85/110\n",
      "26/26 [==============================] - 4s 147ms/step - loss: 0.0062 - accuracy: 0.0000e+00 - precision: 1.0000 - recall: 0.9961 - val_loss: 0.0063 - val_accuracy: 0.0000e+00 - val_precision: 1.0000 - val_recall: 0.9955\n",
      "Epoch 86/110\n",
      "26/26 [==============================] - 4s 140ms/step - loss: 0.0056 - accuracy: 0.0000e+00 - precision: 1.0000 - recall: 0.9965 - val_loss: 0.0057 - val_accuracy: 0.0000e+00 - val_precision: 1.0000 - val_recall: 0.9955\n",
      "Epoch 87/110\n",
      "26/26 [==============================] - 4s 150ms/step - loss: 0.0051 - accuracy: 0.0000e+00 - precision: 1.0000 - recall: 0.9968 - val_loss: 0.0051 - val_accuracy: 0.0000e+00 - val_precision: 1.0000 - val_recall: 0.9960\n",
      "Epoch 88/110\n",
      "26/26 [==============================] - 4s 148ms/step - loss: 0.0047 - accuracy: 0.0000e+00 - precision: 1.0000 - recall: 0.9968 - val_loss: 0.0047 - val_accuracy: 0.0000e+00 - val_precision: 1.0000 - val_recall: 0.9966\n",
      "Epoch 89/110\n",
      "26/26 [==============================] - 4s 138ms/step - loss: 0.0042 - accuracy: 0.0000e+00 - precision: 1.0000 - recall: 0.9973 - val_loss: 0.0042 - val_accuracy: 0.0000e+00 - val_precision: 1.0000 - val_recall: 0.9977\n",
      "Epoch 90/110\n",
      "26/26 [==============================] - 4s 144ms/step - loss: 0.0038 - accuracy: 0.0000e+00 - precision: 1.0000 - recall: 0.9983 - val_loss: 0.0038 - val_accuracy: 0.0000e+00 - val_precision: 1.0000 - val_recall: 0.9983\n",
      "Epoch 91/110\n",
      "26/26 [==============================] - 4s 173ms/step - loss: 0.0035 - accuracy: 0.0000e+00 - precision: 1.0000 - recall: 0.9984 - val_loss: 0.0035 - val_accuracy: 0.0000e+00 - val_precision: 1.0000 - val_recall: 0.9983\n",
      "Epoch 92/110\n",
      "26/26 [==============================] - 4s 135ms/step - loss: 0.0032 - accuracy: 0.0000e+00 - precision: 1.0000 - recall: 0.9984 - val_loss: 0.0032 - val_accuracy: 0.0000e+00 - val_precision: 1.0000 - val_recall: 0.9983\n",
      "Epoch 93/110\n",
      "26/26 [==============================] - 4s 149ms/step - loss: 0.0029 - accuracy: 0.0000e+00 - precision: 1.0000 - recall: 0.9985 - val_loss: 0.0029 - val_accuracy: 0.0000e+00 - val_precision: 1.0000 - val_recall: 0.9983\n",
      "Epoch 94/110\n",
      "26/26 [==============================] - 4s 147ms/step - loss: 0.0026 - accuracy: 0.0000e+00 - precision: 1.0000 - recall: 0.9984 - val_loss: 0.0027 - val_accuracy: 0.0000e+00 - val_precision: 1.0000 - val_recall: 0.9989\n",
      "Epoch 95/110\n",
      "26/26 [==============================] - 4s 137ms/step - loss: 0.0024 - accuracy: 0.0000e+00 - precision: 1.0000 - recall: 0.9986 - val_loss: 0.0024 - val_accuracy: 0.0000e+00 - val_precision: 1.0000 - val_recall: 0.9983\n",
      "Epoch 96/110\n",
      "26/26 [==============================] - 4s 145ms/step - loss: 0.0022 - accuracy: 0.0000e+00 - precision: 1.0000 - recall: 0.9988 - val_loss: 0.0022 - val_accuracy: 0.0000e+00 - val_precision: 1.0000 - val_recall: 0.9989\n",
      "Epoch 97/110\n",
      "26/26 [==============================] - 4s 148ms/step - loss: 0.0020 - accuracy: 0.0000e+00 - precision: 1.0000 - recall: 0.9988 - val_loss: 0.0020 - val_accuracy: 0.0000e+00 - val_precision: 1.0000 - val_recall: 0.9989\n",
      "Epoch 98/110\n",
      "26/26 [==============================] - 4s 141ms/step - loss: 0.0018 - accuracy: 2.6239e-08 - precision: 1.0000 - recall: 0.9988 - val_loss: 0.0018 - val_accuracy: 0.0000e+00 - val_precision: 1.0000 - val_recall: 0.9989\n",
      "Epoch 99/110\n",
      "26/26 [==============================] - 4s 166ms/step - loss: 0.0016 - accuracy: 2.6162e-08 - precision: 1.0000 - recall: 0.9988 - val_loss: 0.0017 - val_accuracy: 0.0000e+00 - val_precision: 1.0000 - val_recall: 0.9989\n",
      "Epoch 100/110\n",
      "26/26 [==============================] - 4s 150ms/step - loss: 0.0015 - accuracy: 0.0000e+00 - precision: 1.0000 - recall: 0.9989 - val_loss: 0.0015 - val_accuracy: 3.2862e-07 - val_precision: 1.0000 - val_recall: 1.0000\n",
      "Epoch 101/110\n",
      "26/26 [==============================] - 4s 145ms/step - loss: 0.0013 - accuracy: 0.0000e+00 - precision: 1.0000 - recall: 0.9998 - val_loss: 0.0013 - val_accuracy: 3.2862e-07 - val_precision: 1.0000 - val_recall: 1.0000\n",
      "Epoch 102/110\n",
      "26/26 [==============================] - 4s 146ms/step - loss: 0.0012 - accuracy: 5.2324e-08 - precision: 1.0000 - recall: 1.0000 - val_loss: 0.0012 - val_accuracy: 0.0000e+00 - val_precision: 1.0000 - val_recall: 1.0000\n",
      "Epoch 103/110\n",
      "26/26 [==============================] - 4s 153ms/step - loss: 0.0011 - accuracy: 5.2190e-08 - precision: 1.0000 - recall: 1.0000 - val_loss: 0.0011 - val_accuracy: 3.2862e-07 - val_precision: 1.0000 - val_recall: 1.0000\n",
      "Epoch 104/110\n",
      "26/26 [==============================] - 4s 139ms/step - loss: 9.9811e-04 - accuracy: 5.2478e-08 - precision: 1.0000 - recall: 1.0000 - val_loss: 9.9819e-04 - val_accuracy: 3.2862e-07 - val_precision: 1.0000 - val_recall: 1.0000\n",
      "Epoch 105/110\n",
      "26/26 [==============================] - 4s 141ms/step - loss: 9.0236e-04 - accuracy: 1.8313e-07 - precision: 1.0000 - recall: 1.0000 - val_loss: 9.3035e-04 - val_accuracy: 3.2862e-07 - val_precision: 1.0000 - val_recall: 1.0000\n",
      "Epoch 106/110\n",
      "26/26 [==============================] - 4s 147ms/step - loss: 8.3873e-04 - accuracy: 1.0438e-07 - precision: 1.0000 - recall: 1.0000 - val_loss: 8.2618e-04 - val_accuracy: 0.0000e+00 - val_precision: 1.0000 - val_recall: 1.0000\n",
      "Epoch 107/110\n",
      "26/26 [==============================] - 4s 160ms/step - loss: 7.4457e-04 - accuracy: 2.0991e-07 - precision: 1.0000 - recall: 1.0000 - val_loss: 7.5976e-04 - val_accuracy: 0.0000e+00 - val_precision: 1.0000 - val_recall: 1.0000\n",
      "Epoch 108/110\n",
      "26/26 [==============================] - 4s 150ms/step - loss: 6.7966e-04 - accuracy: 2.6162e-07 - precision: 1.0000 - recall: 1.0000 - val_loss: 7.0113e-04 - val_accuracy: 3.2862e-07 - val_precision: 1.0000 - val_recall: 1.0000\n",
      "Epoch 109/110\n",
      "26/26 [==============================] - 4s 149ms/step - loss: 6.2394e-04 - accuracy: 2.3485e-07 - precision: 1.0000 - recall: 1.0000 - val_loss: 6.3467e-04 - val_accuracy: 6.5724e-07 - val_precision: 1.0000 - val_recall: 1.0000\n",
      "Epoch 110/110\n",
      "26/26 [==============================] - 4s 137ms/step - loss: 5.6290e-04 - accuracy: 4.1983e-07 - precision: 1.0000 - recall: 1.0000 - val_loss: 6.0613e-04 - val_accuracy: 6.5724e-07 - val_precision: 1.0000 - val_recall: 1.0000\n"
     ]
    },
    {
     "data": {
      "text/plain": [
       "<keras.callbacks.History at 0x7f75281b1d10>"
      ]
     },
     "execution_count": 27,
     "metadata": {},
     "output_type": "execute_result"
    }
   ],
   "source": [
    "model.fit(generate_batch(X_test, y_test, batch_size = batch_size),\n",
    "            batch_size = batch_size,\n",
    "            steps_per_epoch = train_samples//batch_size,\n",
    "            epochs=epochs,\n",
    "            validation_data = generate_batch(X_test, y_test, batch_size = batch_size),\n",
    "            validation_steps = val_samples//batch_size, callbacks=[earlystopping])"
   ]
  },
  {
   "cell_type": "markdown",
   "id": "266443cf",
   "metadata": {
    "papermill": {
     "duration": 0.128302,
     "end_time": "2023-03-08T11:23:27.656624",
     "exception": false,
     "start_time": "2023-03-08T11:23:27.528322",
     "status": "completed"
    },
    "tags": []
   },
   "source": [
    "Always remember to save the weights"
   ]
  },
  {
   "cell_type": "code",
   "execution_count": 28,
   "id": "d1421ad4",
   "metadata": {
    "execution": {
     "iopub.execute_input": "2023-03-08T11:23:27.913551Z",
     "iopub.status.busy": "2023-03-08T11:23:27.913184Z",
     "iopub.status.idle": "2023-03-08T11:23:27.957454Z",
     "shell.execute_reply": "2023-03-08T11:23:27.956509Z"
    },
    "papermill": {
     "duration": 0.175402,
     "end_time": "2023-03-08T11:23:27.959866",
     "exception": false,
     "start_time": "2023-03-08T11:23:27.784464",
     "status": "completed"
    },
    "tags": []
   },
   "outputs": [],
   "source": [
    "model.save_weights('Weights/nmt_weights_v5.h5')\n",
    "model.save('Weights/model_v5.h5')"
   ]
  },
  {
   "cell_type": "markdown",
   "id": "1149d9cf",
   "metadata": {
    "papermill": {
     "duration": 0.127212,
     "end_time": "2023-03-08T11:23:28.215424",
     "exception": false,
     "start_time": "2023-03-08T11:23:28.088212",
     "status": "completed"
    },
    "tags": []
   },
   "source": [
    "model.save('model_v4.h5')"
   ]
  },
  {
   "cell_type": "markdown",
   "id": "31315550",
   "metadata": {
    "papermill": {
     "duration": 0.130542,
     "end_time": "2023-03-08T11:23:28.473862",
     "exception": false,
     "start_time": "2023-03-08T11:23:28.343320",
     "status": "completed"
    },
    "tags": []
   },
   "source": [
    "Load the weights, if you close the application"
   ]
  },
  {
   "cell_type": "code",
   "execution_count": 29,
   "id": "484a6218",
   "metadata": {
    "execution": {
     "iopub.execute_input": "2023-03-08T11:23:28.754987Z",
     "iopub.status.busy": "2023-03-08T11:23:28.753231Z",
     "iopub.status.idle": "2023-03-08T11:23:28.758904Z",
     "shell.execute_reply": "2023-03-08T11:23:28.757806Z"
    },
    "papermill": {
     "duration": 0.139995,
     "end_time": "2023-03-08T11:23:28.760988",
     "exception": false,
     "start_time": "2023-03-08T11:23:28.620993",
     "status": "completed"
    },
    "tags": []
   },
   "outputs": [],
   "source": [
    "#model.load_weights('Weights_ASL/nmt_weights_v5.h5')"
   ]
  },
  {
   "cell_type": "markdown",
   "id": "6a2cb063",
   "metadata": {
    "papermill": {
     "duration": 0.127345,
     "end_time": "2023-03-08T11:23:29.015333",
     "exception": false,
     "start_time": "2023-03-08T11:23:28.887988",
     "status": "completed"
    },
    "tags": []
   },
   "source": [
    "Inference Setup"
   ]
  },
  {
   "cell_type": "code",
   "execution_count": 30,
   "id": "3066ceda",
   "metadata": {
    "execution": {
     "iopub.execute_input": "2023-03-08T11:23:29.274091Z",
     "iopub.status.busy": "2023-03-08T11:23:29.272353Z",
     "iopub.status.idle": "2023-03-08T11:23:30.202919Z",
     "shell.execute_reply": "2023-03-08T11:23:30.201970Z"
    },
    "papermill": {
     "duration": 1.062402,
     "end_time": "2023-03-08T11:23:30.205298",
     "exception": false,
     "start_time": "2023-03-08T11:23:29.142896",
     "status": "completed"
    },
    "tags": []
   },
   "outputs": [],
   "source": [
    "# Encode the input sequence to get the \"thought vectors\"\n",
    "encoder_model = Model(encoder_inputs, encoder_states)\n",
    "\n",
    "# Decoder setup\n",
    "# Below tensors will hold the states of the previous time step\n",
    "decoder_state_input_h = Input(shape=(latent_dim,))\n",
    "decoder_state_input_c = Input(shape=(latent_dim,))\n",
    "decoder_states_inputs = [decoder_state_input_h, decoder_state_input_c]\n",
    "\n",
    "dec_emb2= dec_emb_layer(decoder_inputs) # Get the embeddings of the decoder sequence\n",
    "\n",
    "# To predict the next word in the sequence, set the initial states to the states from the previous time step\n",
    "decoder_outputs2, state_h2, state_c2 = decoder_lstm(dec_emb2, initial_state=decoder_states_inputs)\n",
    "decoder_states2 = [state_h2, state_c2]\n",
    "decoder_outputs2 = decoder_dense(decoder_outputs2) # A dense softmax layer to generate prob dist. over the target vocabulary\n",
    "\n",
    "# Final decoder model\n",
    "decoder_model = Model(\n",
    "    [decoder_inputs] + decoder_states_inputs,\n",
    "    [decoder_outputs2] + decoder_states2)"
   ]
  },
  {
   "cell_type": "markdown",
   "id": "5d6cfc33",
   "metadata": {
    "papermill": {
     "duration": 0.128008,
     "end_time": "2023-03-08T11:23:30.462041",
     "exception": false,
     "start_time": "2023-03-08T11:23:30.334033",
     "status": "completed"
    },
    "tags": []
   },
   "source": [
    "Finally, we generate the output sequence by invoking the above setup in a loop as follows\n",
    "\n",
    "Decode sample sequeces"
   ]
  },
  {
   "cell_type": "code",
   "execution_count": 31,
   "id": "eec3490a",
   "metadata": {
    "execution": {
     "iopub.execute_input": "2023-03-08T11:23:30.923243Z",
     "iopub.status.busy": "2023-03-08T11:23:30.922784Z",
     "iopub.status.idle": "2023-03-08T11:23:30.935933Z",
     "shell.execute_reply": "2023-03-08T11:23:30.935075Z"
    },
    "papermill": {
     "duration": 0.207583,
     "end_time": "2023-03-08T11:23:30.938382",
     "exception": false,
     "start_time": "2023-03-08T11:23:30.730799",
     "status": "completed"
    },
    "tags": []
   },
   "outputs": [],
   "source": [
    "def decode_sequence(input_seq):\n",
    "    # Encode the input as state vectors.\n",
    "    states_value = encoder_model.predict(input_seq)\n",
    "    # Generate empty target sequence of length 1.\n",
    "    target_seq = np.zeros((1,1))\n",
    "    # Populate the first character of target sequence with the start character.\n",
    "    target_seq[0, 0] = target_token_index['START_']\n",
    "\n",
    "    # Sampling loop for a batch of sequences\n",
    "    # (to simplify, here we assume a batch of size 1).\n",
    "    stop_condition = False\n",
    "    decoded_sentence = ''\n",
    "    while not stop_condition:\n",
    "        output_tokens, h, c = decoder_model.predict([target_seq] + states_value)\n",
    "\n",
    "        # Sample a token\n",
    "        sampled_token_index = np.argmax(output_tokens[0, -1, :])\n",
    "        sampled_char = reverse_target_char_index[sampled_token_index]\n",
    "        decoded_sentence += ' '+sampled_char\n",
    "\n",
    "        # Exit condition: either hit max length\n",
    "        # or find stop character.\n",
    "        if (sampled_char == '_END' or\n",
    "           len(decoded_sentence) > 50):\n",
    "            stop_condition = True\n",
    "\n",
    "        # Update the target sequence (of length 1).\n",
    "        target_seq = np.zeros((1,1))\n",
    "        target_seq[0, 0] = sampled_token_index\n",
    "\n",
    "        # Update states\n",
    "        states_value = [h, c]\n",
    "\n",
    "    return decoded_sentence"
   ]
  },
  {
   "cell_type": "markdown",
   "id": "f62fa6d1",
   "metadata": {
    "papermill": {
     "duration": 0.126814,
     "end_time": "2023-03-08T11:23:31.244077",
     "exception": false,
     "start_time": "2023-03-08T11:23:31.117263",
     "status": "completed"
    },
    "tags": []
   },
   "source": [
    "Evaluation on Train Dataset"
   ]
  },
  {
   "cell_type": "code",
   "execution_count": null,
   "id": "b8a00508",
   "metadata": {
    "execution": {
     "iopub.execute_input": "2023-03-08T11:23:31.500606Z",
     "iopub.status.busy": "2023-03-08T11:23:31.500230Z",
     "iopub.status.idle": "2023-03-08T11:23:33.671956Z",
     "shell.execute_reply": "2023-03-08T11:23:33.670775Z"
    },
    "papermill": {
     "duration": 2.303659,
     "end_time": "2023-03-08T11:23:33.674757",
     "exception": false,
     "start_time": "2023-03-08T11:23:31.371098",
     "status": "completed"
    },
    "tags": []
   },
   "outputs": [],
   "source": [
    "train_gen = generate_batch(X_train, y_train, batch_size = 1)\n",
    "k=-1\n",
    "\n",
    "k+=1\n",
    "(input_seq, actual_output), _ = next(train_gen)\n",
    "decoded_sentence = decode_sequence(input_seq)\n",
    "print('Input ASL sentence:', X_train.iloc[k:k+1].values[0])\n",
    "print('Actual English Translation:', y_train.iloc[k:k+1].values[0][6:-4])\n",
    "print('Predicted English Translation:', decoded_sentence[:-4])"
   ]
  },
  {
   "cell_type": "code",
   "execution_count": null,
   "id": "a7e06c30",
   "metadata": {
    "execution": {
     "iopub.execute_input": "2023-03-08T11:23:33.930881Z",
     "iopub.status.busy": "2023-03-08T11:23:33.930497Z",
     "iopub.status.idle": "2023-03-08T11:23:36.559300Z",
     "shell.execute_reply": "2023-03-08T11:23:36.558260Z"
    },
    "papermill": {
     "duration": 2.760812,
     "end_time": "2023-03-08T11:23:36.562741",
     "exception": false,
     "start_time": "2023-03-08T11:23:33.801929",
     "status": "completed"
    },
    "tags": []
   },
   "outputs": [],
   "source": [
    "asl_sentence = []\n",
    "true_eng_trans = []\n",
    "pred_eng_trans = []\n",
    "\n",
    "for i in range(10):\n",
    "    k+=1\n",
    "    (input_seq, actual_output), _ = next(train_gen)\n",
    "    decoded_sentence = decode_sequence(input_seq)\n",
    "    asl_sentence.append(X_train.iloc[k:k+1].values[0])\n",
    "    true_eng_trans.append(y_train.iloc[k:k+1].values[0][6:-4])\n",
    "    pred_eng_trans.append(decoded_sentence[:-4])\n",
    "\n",
    "for i in range(10):\n",
    "    print('Input ASL sentence:', asl_sentence[i])\n",
    "    print('Actual English Translation:', true_eng_trans[i])\n",
    "    print('Predicted English Translation:', pred_eng_trans[i])\n",
    "    print()"
   ]
  },
  {
   "cell_type": "code",
   "execution_count": null,
   "id": "98bf7d50",
   "metadata": {
    "papermill": {
     "duration": 0.156267,
     "end_time": "2023-03-08T11:23:46.480258",
     "exception": false,
     "start_time": "2023-03-08T11:23:46.323991",
     "status": "completed"
    },
    "tags": []
   },
   "outputs": [],
   "source": []
  }
 ],
 "metadata": {
  "kernelspec": {
   "display_name": "Python 3",
   "language": "python",
   "name": "python3"
  },
  "language_info": {
   "codemirror_mode": {
    "name": "ipython",
    "version": 3
   },
   "file_extension": ".py",
   "mimetype": "text/x-python",
   "name": "python",
   "nbconvert_exporter": "python",
   "pygments_lexer": "ipython3",
   "version": "3.7.12"
  },
  "papermill": {
   "default_parameters": {},
   "duration": 470.712878,
   "end_time": "2023-03-08T11:23:49.541878",
   "environment_variables": {},
   "exception": null,
   "input_path": "__notebook__.ipynb",
   "output_path": "__notebook__.ipynb",
   "parameters": {},
   "start_time": "2023-03-08T11:15:58.829000",
   "version": "2.3.4"
  }
 },
 "nbformat": 4,
 "nbformat_minor": 5
}
