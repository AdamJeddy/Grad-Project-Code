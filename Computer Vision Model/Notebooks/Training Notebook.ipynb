{
 "cells": [
  {
   "cell_type": "markdown",
   "metadata": {},
   "source": [
    "# 1. Import and Install Dependencies"
   ]
  },
  {
   "cell_type": "code",
   "execution_count": 1,
   "metadata": {},
   "outputs": [],
   "source": [
    "import pandas as pd\n",
    "import numpy as np\n",
    "import cv2\n",
    "import os\n",
    "import matplotlib.pyplot as plt\n",
    "%matplotlib inline\n",
    "import time\n",
    "import mediapipe as mp"
   ]
  },
  {
   "cell_type": "code",
   "execution_count": 3,
   "metadata": {},
   "outputs": [],
   "source": [
    "# !python -V  # 3.10.4"
   ]
  },
  {
   "cell_type": "code",
   "execution_count": 18,
   "metadata": {},
   "outputs": [],
   "source": [
    "DATA_PATH = os.path.join('Resources', 'Demo','Aamir','Data Collection')\n",
    "actions = np.array(['NoSign','hello','you','work','where','how','your','day','b','o','me','live','university'])\n",
    "#actions = np.array(['day'])\n",
    "sequence_length = 25"
   ]
  },
  {
   "cell_type": "markdown",
   "metadata": {},
   "source": [
    "# Preprocess Data - Multiple Persons"
   ]
  },
  {
   "cell_type": "code",
   "execution_count": 20,
   "metadata": {},
   "outputs": [],
   "source": [
    "from sklearn.model_selection import train_test_split\n",
    "from tensorflow.keras.utils import to_categorical"
   ]
  },
  {
   "cell_type": "code",
   "execution_count": 214,
   "metadata": {},
   "outputs": [
    {
     "data": {
      "text/plain": [
       "[0, 2, 4, 6, 8, 10, 12, 14, 16, 18, 20, 22, 24]"
      ]
     },
     "execution_count": 214,
     "metadata": {},
     "output_type": "execute_result"
    }
   ],
   "source": [
    "#sequence_length = 25\n",
    "sequence_length = ([i for i in range(25) if i%2==0])\n",
    "sequence_length"
   ]
  },
  {
   "cell_type": "code",
   "execution_count": 215,
   "metadata": {},
   "outputs": [
    {
     "name": "stdout",
     "output_type": "stream",
     "text": [
      "Done -1\n",
      "Done -2\n",
      "Done -3\n",
      "Done -4\n"
     ]
    }
   ],
   "source": [
    "actions = np.array(['NoSign','hello','you','work','where','how','your','day','b','o','me','live','university'])\n",
    "label_map = {label:num for num, label in enumerate(actions)}\n",
    "no_sequences = 200\n",
    "\n",
    "DATA_PATH = os.path.join('Demo','Aamir','Data Collection')\n",
    "sequences1, labels1 = [], []\n",
    "for action in actions:\n",
    "    for sequence in np.array(os.listdir(os.path.join(DATA_PATH, action))).astype(int):\n",
    "    #for sequence in range(no_sequences):\n",
    "        window = []\n",
    "        for frame_num in sequence_length:\n",
    "            res = np.load(os.path.join(DATA_PATH, action, str(sequence), \"{}.npy\".format(frame_num)))\n",
    "            window.append(res)\n",
    "        sequences1.append(window)\n",
    "        labels1.append(label_map[action])\n",
    "print('Done -1')\n",
    "        \n",
    "DATA_PATH = os.path.join('Demo','Adam','Data Collection')\n",
    "sequences2, labels2 = [], []\n",
    "for action in actions:\n",
    "    for sequence in np.array(os.listdir(os.path.join(DATA_PATH, action))).astype(int):\n",
    "        window = []\n",
    "        for frame_num in sequence_length:\n",
    "            res = np.load(os.path.join(DATA_PATH, action, str(sequence), \"{}.npy\".format(frame_num)))\n",
    "            window.append(res)\n",
    "        sequences2.append(window)\n",
    "        labels2.append(label_map[action])\n",
    "print('Done -2')\n",
    "\n",
    "DATA_PATH = os.path.join('Demo','Ayesha','Data Collection')\n",
    "sequences3, labels3 = [], []\n",
    "for action in actions:\n",
    "    for sequence in np.array(os.listdir(os.path.join(DATA_PATH, action))).astype(int):\n",
    "        window = []\n",
    "        for frame_num in sequence_length:\n",
    "            res = np.load(os.path.join(DATA_PATH, action, str(sequence), \"{}.npy\".format(frame_num)))\n",
    "            window.append(res)\n",
    "        sequences3.append(window)\n",
    "        labels3.append(label_map[action])\n",
    "print('Done -3')\n",
    "\n",
    "\n",
    "DATA_PATH = os.path.join('Demo','Mehrin','Data Collection')\n",
    "sequences4, labels4 = [], []\n",
    "for action in actions:\n",
    "    for sequence in np.array(os.listdir(os.path.join(DATA_PATH, action))).astype(int):\n",
    "        window = []\n",
    "        for frame_num in sequence_length:\n",
    "            res = np.load(os.path.join(DATA_PATH, action, str(sequence), \"{}.npy\".format(frame_num)))\n",
    "            window.append(res)\n",
    "        sequences4.append(window)\n",
    "        labels4.append(label_map[action])\n",
    "print('Done -4')\n"
   ]
  },
  {
   "cell_type": "code",
   "execution_count": 216,
   "metadata": {},
   "outputs": [],
   "source": [
    "X1 = np.array(sequences1)\n",
    "X2 = np.array(sequences2)\n",
    "X3 = np.array(sequences3)\n",
    "X4 = np.array(sequences4)\n",
    "# X5 = np.array(sequences2)\n",
    "# X6 = np.array(sequences3)\n",
    "\n",
    "\n",
    "X_final = np.append(np.append(np.append(X1, X2, axis=0), X3,axis=0), X4,axis=0)\n",
    "#X_final = np.append(np.append(X1, X2, axis=0), X3,axis=0)"
   ]
  },
  {
   "cell_type": "code",
   "execution_count": 217,
   "metadata": {},
   "outputs": [
    {
     "data": {
      "text/plain": [
       "(3640, 13, 1662)"
      ]
     },
     "execution_count": 217,
     "metadata": {},
     "output_type": "execute_result"
    }
   ],
   "source": [
    "X1.shape"
   ]
  },
  {
   "cell_type": "code",
   "execution_count": 218,
   "metadata": {},
   "outputs": [
    {
     "data": {
      "text/plain": [
       "(13760, 13, 1662)"
      ]
     },
     "execution_count": 218,
     "metadata": {},
     "output_type": "execute_result"
    }
   ],
   "source": [
    "X_final.shape"
   ]
  },
  {
   "cell_type": "code",
   "execution_count": 219,
   "metadata": {},
   "outputs": [],
   "source": [
    "y = np.array(labels1+labels1+labels3+labels4)\n",
    "y_final = to_categorical(y).astype(int)"
   ]
  },
  {
   "cell_type": "code",
   "execution_count": 220,
   "metadata": {},
   "outputs": [
    {
     "data": {
      "text/plain": [
       "(13760,)"
      ]
     },
     "execution_count": 220,
     "metadata": {},
     "output_type": "execute_result"
    }
   ],
   "source": [
    "y.shape"
   ]
  },
  {
   "cell_type": "code",
   "execution_count": 221,
   "metadata": {},
   "outputs": [],
   "source": [
    "X_train, X_test, y_train, y_test = train_test_split(X_final, y_final, test_size=0.05)"
   ]
  },
  {
   "cell_type": "code",
   "execution_count": 222,
   "metadata": {},
   "outputs": [],
   "source": [
    "# actions = np.array(['NoSign','hello','thanks','please','sorry','you','work','where'])\n",
    "# label_map = {label:num for num, label in enumerate(actions)}"
   ]
  },
  {
   "cell_type": "code",
   "execution_count": 223,
   "metadata": {},
   "outputs": [],
   "source": [
    "# label_map"
   ]
  },
  {
   "cell_type": "markdown",
   "metadata": {},
   "source": [
    "# 7. Build and Train LSTM Neural Network"
   ]
  },
  {
   "cell_type": "code",
   "execution_count": 224,
   "metadata": {},
   "outputs": [],
   "source": [
    "from tensorflow.keras.models import Sequential\n",
    "from tensorflow.keras.layers import LSTM, Dense\n",
    "from tensorflow.keras.callbacks import TensorBoard\n",
    "from tensorflow.keras.callbacks import ModelCheckpoint"
   ]
  },
  {
   "cell_type": "code",
   "execution_count": 225,
   "metadata": {},
   "outputs": [],
   "source": [
    "# log_dir = os.path.join('Logs')\n",
    "# tb_callback = TensorBoard(log_dir=log_dir)\n",
    "\n",
    "# #run on notebook using: \n"
   ]
  },
  {
   "cell_type": "code",
   "execution_count": 226,
   "metadata": {},
   "outputs": [],
   "source": [
    "model = Sequential()\n",
    "model.add(LSTM(64, return_sequences=True, activation='relu', input_shape=(13,1662)))\n",
    "model.add(LSTM(128, return_sequences=True, activation='relu'))\n",
    "model.add(LSTM(64, return_sequences=False, activation='relu'))\n",
    "model.add(Dense(64, activation='relu'))\n",
    "model.add(Dense(32, activation='relu'))\n",
    "model.add(Dense(actions.shape[0], activation='softmax'))"
   ]
  },
  {
   "cell_type": "code",
   "execution_count": 227,
   "metadata": {},
   "outputs": [],
   "source": [
    "model.compile(optimizer='Adam', loss='categorical_crossentropy', metrics=['categorical_accuracy'])"
   ]
  },
  {
   "cell_type": "code",
   "execution_count": 229,
   "metadata": {},
   "outputs": [],
   "source": [
    "checkpoint_filepath = os.path.join(\"Model_13ws_4p_13fps.h5\")\n",
    "model_checkpoint_callback = ModelCheckpoint(\n",
    "    filepath=checkpoint_filepath,\n",
    "    save_weights_only=False,\n",
    "    monitor='loss', # or 'categorical_accuracy' 'loss'\n",
    "    mode='min', # or 'max' 'min'\n",
    "    save_best_only=True)"
   ]
  },
  {
   "cell_type": "code",
   "execution_count": 211,
   "metadata": {},
   "outputs": [],
   "source": [
    "# %tensorboard --logdir logs/fit"
   ]
  },
  {
   "cell_type": "code",
   "execution_count": 230,
   "metadata": {
    "scrolled": true
   },
   "outputs": [
    {
     "name": "stdout",
     "output_type": "stream",
     "text": [
      "Epoch 1/100\n",
      "409/409 [==============================] - 33s 72ms/step - loss: 0.8599 - categorical_accuracy: 0.6440\n",
      "Epoch 2/100\n",
      "409/409 [==============================] - 29s 72ms/step - loss: 0.3497 - categorical_accuracy: 0.8420\n",
      "Epoch 3/100\n",
      "409/409 [==============================] - 29s 72ms/step - loss: 0.2868 - categorical_accuracy: 0.8732\n",
      "Epoch 4/100\n",
      "409/409 [==============================] - 29s 72ms/step - loss: 0.2140 - categorical_accuracy: 0.9033\n",
      "Epoch 5/100\n",
      "409/409 [==============================] - 29s 72ms/step - loss: 0.2999 - categorical_accuracy: 0.8892\n",
      "Epoch 6/100\n",
      "409/409 [==============================] - 29s 72ms/step - loss: 0.5076 - categorical_accuracy: 0.8139\n",
      "Epoch 7/100\n",
      "409/409 [==============================] - 29s 72ms/step - loss: 0.1759 - categorical_accuracy: 0.9390\n",
      "Epoch 8/100\n",
      "409/409 [==============================] - 29s 72ms/step - loss: 0.1318 - categorical_accuracy: 0.9517\n",
      "Epoch 9/100\n",
      "409/409 [==============================] - 29s 72ms/step - loss: 0.1002 - categorical_accuracy: 0.9641\n",
      "Epoch 10/100\n",
      "409/409 [==============================] - 29s 72ms/step - loss: 0.1187 - categorical_accuracy: 0.9608\n",
      "Epoch 11/100\n",
      "409/409 [==============================] - 29s 72ms/step - loss: 0.0655 - categorical_accuracy: 0.9807\n",
      "Epoch 12/100\n",
      "409/409 [==============================] - 29s 72ms/step - loss: 0.0984 - categorical_accuracy: 0.9691\n",
      "Epoch 13/100\n",
      "409/409 [==============================] - 29s 72ms/step - loss: 0.0902 - categorical_accuracy: 0.9714\n",
      "Epoch 14/100\n",
      "409/409 [==============================] - 29s 72ms/step - loss: 0.1281 - categorical_accuracy: 0.9655\n",
      "Epoch 15/100\n",
      "409/409 [==============================] - 29s 72ms/step - loss: 0.0524 - categorical_accuracy: 0.9831\n",
      "Epoch 16/100\n",
      "409/409 [==============================] - 29s 72ms/step - loss: 0.0811 - categorical_accuracy: 0.9777\n",
      "Epoch 17/100\n",
      "409/409 [==============================] - 29s 72ms/step - loss: 0.0467 - categorical_accuracy: 0.9862\n",
      "Epoch 18/100\n",
      "409/409 [==============================] - 29s 72ms/step - loss: 0.0761 - categorical_accuracy: 0.9774\n",
      "Epoch 19/100\n",
      "409/409 [==============================] - 29s 72ms/step - loss: 0.0633 - categorical_accuracy: 0.9800\n",
      "Epoch 20/100\n",
      "409/409 [==============================] - 29s 72ms/step - loss: 0.0484 - categorical_accuracy: 0.9855\n",
      "Epoch 21/100\n",
      "409/409 [==============================] - 29s 72ms/step - loss: 0.0523 - categorical_accuracy: 0.9839\n",
      "Epoch 22/100\n",
      "409/409 [==============================] - 29s 72ms/step - loss: 0.0361 - categorical_accuracy: 0.9897\n",
      "Epoch 23/100\n",
      "409/409 [==============================] - 29s 72ms/step - loss: 0.0449 - categorical_accuracy: 0.9869\n",
      "Epoch 24/100\n",
      "409/409 [==============================] - 29s 72ms/step - loss: 0.0308 - categorical_accuracy: 0.9908\n",
      "Epoch 25/100\n",
      "409/409 [==============================] - 30s 72ms/step - loss: 0.0277 - categorical_accuracy: 0.9916\n",
      "Epoch 26/100\n",
      "409/409 [==============================] - 29s 72ms/step - loss: 0.0903 - categorical_accuracy: 0.9774\n",
      "Epoch 27/100\n",
      "409/409 [==============================] - 30s 72ms/step - loss: 0.0904 - categorical_accuracy: 0.9753\n",
      "Epoch 28/100\n",
      "409/409 [==============================] - 30s 73ms/step - loss: 0.0269 - categorical_accuracy: 0.9919\n",
      "Epoch 29/100\n",
      "409/409 [==============================] - 30s 73ms/step - loss: 0.0603 - categorical_accuracy: 0.9836\n",
      "Epoch 30/100\n",
      "409/409 [==============================] - 30s 73ms/step - loss: 0.0536 - categorical_accuracy: 0.9855\n",
      "Epoch 31/100\n",
      "409/409 [==============================] - 30s 72ms/step - loss: 0.0586 - categorical_accuracy: 0.9855\n",
      "Epoch 32/100\n",
      "409/409 [==============================] - 30s 72ms/step - loss: 0.0147 - categorical_accuracy: 0.9956\n",
      "Epoch 33/100\n",
      "409/409 [==============================] - 30s 72ms/step - loss: 0.0247 - categorical_accuracy: 0.9929\n",
      "Epoch 34/100\n",
      "409/409 [==============================] - 30s 72ms/step - loss: 0.0554 - categorical_accuracy: 0.9833\n",
      "Epoch 35/100\n",
      "409/409 [==============================] - 30s 72ms/step - loss: 0.0380 - categorical_accuracy: 0.9877\n",
      "Epoch 36/100\n",
      "409/409 [==============================] - 30s 73ms/step - loss: 0.0182 - categorical_accuracy: 0.9948\n",
      "Epoch 37/100\n",
      "409/409 [==============================] - 30s 73ms/step - loss: 0.1043 - categorical_accuracy: 0.9723\n",
      "Epoch 38/100\n",
      "409/409 [==============================] - 30s 72ms/step - loss: 0.0374 - categorical_accuracy: 0.9897\n",
      "Epoch 39/100\n",
      "409/409 [==============================] - 30s 73ms/step - loss: 0.0196 - categorical_accuracy: 0.9943\n",
      "Epoch 40/100\n",
      "409/409 [==============================] - 30s 73ms/step - loss: 0.0355 - categorical_accuracy: 0.9901\n",
      "Epoch 41/100\n",
      "409/409 [==============================] - 30s 73ms/step - loss: 0.0324 - categorical_accuracy: 0.9895\n",
      "Epoch 42/100\n",
      "409/409 [==============================] - 30s 73ms/step - loss: 0.0104 - categorical_accuracy: 0.9970\n",
      "Epoch 43/100\n",
      "409/409 [==============================] - 30s 73ms/step - loss: 0.0173 - categorical_accuracy: 0.9939\n",
      "Epoch 44/100\n",
      "409/409 [==============================] - 30s 72ms/step - loss: 0.0337 - categorical_accuracy: 0.9906\n",
      "Epoch 45/100\n",
      "409/409 [==============================] - 30s 73ms/step - loss: 0.0541 - categorical_accuracy: 0.9935\n",
      "Epoch 46/100\n",
      "409/409 [==============================] - 29s 72ms/step - loss: 0.5047 - categorical_accuracy: 0.8564\n",
      "Epoch 47/100\n",
      "409/409 [==============================] - 29s 72ms/step - loss: 0.0930 - categorical_accuracy: 0.9711\n",
      "Epoch 48/100\n",
      "409/409 [==============================] - 29s 72ms/step - loss: 0.0511 - categorical_accuracy: 0.9855\n",
      "Epoch 49/100\n",
      "409/409 [==============================] - 29s 72ms/step - loss: 0.0337 - categorical_accuracy: 0.9891\n",
      "Epoch 50/100\n",
      "409/409 [==============================] - 29s 72ms/step - loss: 0.0266 - categorical_accuracy: 0.9920\n",
      "Epoch 51/100\n",
      "409/409 [==============================] - 29s 72ms/step - loss: 0.0325 - categorical_accuracy: 0.9903\n",
      "Epoch 52/100\n",
      "409/409 [==============================] - 29s 72ms/step - loss: 0.0371 - categorical_accuracy: 0.9880\n",
      "Epoch 53/100\n",
      "409/409 [==============================] - 29s 72ms/step - loss: 0.0198 - categorical_accuracy: 0.9942\n",
      "Epoch 54/100\n",
      "409/409 [==============================] - 29s 72ms/step - loss: 0.0267 - categorical_accuracy: 0.9922\n",
      "Epoch 55/100\n",
      "409/409 [==============================] - 30s 73ms/step - loss: 0.0206 - categorical_accuracy: 0.9942\n",
      "Epoch 56/100\n",
      "409/409 [==============================] - 30s 72ms/step - loss: 0.0198 - categorical_accuracy: 0.9940\n",
      "Epoch 57/100\n",
      "409/409 [==============================] - 29s 72ms/step - loss: 0.0470 - categorical_accuracy: 0.9874\n",
      "Epoch 58/100\n",
      "409/409 [==============================] - 29s 72ms/step - loss: 0.0353 - categorical_accuracy: 0.9884\n",
      "Epoch 59/100\n",
      "409/409 [==============================] - 29s 72ms/step - loss: 0.0138 - categorical_accuracy: 0.9959\n",
      "Epoch 60/100\n",
      "409/409 [==============================] - 29s 72ms/step - loss: 0.0144 - categorical_accuracy: 0.9959\n",
      "Epoch 61/100\n",
      "409/409 [==============================] - 29s 72ms/step - loss: 0.0142 - categorical_accuracy: 0.9969\n",
      "Epoch 62/100\n",
      "409/409 [==============================] - 30s 73ms/step - loss: 0.0201 - categorical_accuracy: 0.9932\n",
      "Epoch 63/100\n",
      "409/409 [==============================] - 30s 73ms/step - loss: 0.0105 - categorical_accuracy: 0.9968\n",
      "Epoch 64/100\n",
      "409/409 [==============================] - 29s 72ms/step - loss: 0.0411 - categorical_accuracy: 0.9888\n",
      "Epoch 65/100\n",
      "409/409 [==============================] - 30s 72ms/step - loss: 0.0467 - categorical_accuracy: 0.9868\n",
      "Epoch 66/100\n",
      "409/409 [==============================] - 30s 73ms/step - loss: 0.0183 - categorical_accuracy: 0.9955\n",
      "Epoch 67/100\n",
      "409/409 [==============================] - 30s 72ms/step - loss: 0.0092 - categorical_accuracy: 0.9972\n",
      "Epoch 68/100\n",
      "409/409 [==============================] - 30s 72ms/step - loss: 0.0210 - categorical_accuracy: 0.9946\n",
      "Epoch 69/100\n",
      "409/409 [==============================] - 30s 72ms/step - loss: 0.0150 - categorical_accuracy: 0.9965\n",
      "Epoch 70/100\n",
      "409/409 [==============================] - 30s 73ms/step - loss: 0.0201 - categorical_accuracy: 0.9944\n",
      "Epoch 71/100\n",
      "409/409 [==============================] - 30s 73ms/step - loss: 0.0170 - categorical_accuracy: 0.9947\n",
      "Epoch 72/100\n",
      "409/409 [==============================] - 30s 74ms/step - loss: 0.0074 - categorical_accuracy: 0.9981\n",
      "Epoch 73/100\n",
      "409/409 [==============================] - 30s 73ms/step - loss: 0.0386 - categorical_accuracy: 0.9919\n",
      "Epoch 74/100\n",
      "409/409 [==============================] - 30s 72ms/step - loss: 0.1307 - categorical_accuracy: 0.9728\n",
      "Epoch 75/100\n",
      "409/409 [==============================] - 30s 72ms/step - loss: 0.0275 - categorical_accuracy: 0.9923\n",
      "Epoch 76/100\n",
      "409/409 [==============================] - 30s 72ms/step - loss: 0.0083 - categorical_accuracy: 0.9977\n",
      "Epoch 77/100\n",
      "409/409 [==============================] - 30s 72ms/step - loss: 0.0080 - categorical_accuracy: 0.9979\n",
      "Epoch 78/100\n",
      "409/409 [==============================] - 30s 72ms/step - loss: 0.0850 - categorical_accuracy: 0.9797\n",
      "Epoch 79/100\n",
      "409/409 [==============================] - 30s 73ms/step - loss: 0.0052 - categorical_accuracy: 0.9982\n",
      "Epoch 80/100\n",
      "409/409 [==============================] - 30s 72ms/step - loss: 0.0144 - categorical_accuracy: 0.9956\n",
      "Epoch 81/100\n",
      "409/409 [==============================] - 30s 73ms/step - loss: 0.0018 - categorical_accuracy: 0.9995\n",
      "Epoch 82/100\n",
      "409/409 [==============================] - 30s 72ms/step - loss: 0.0426 - categorical_accuracy: 0.9901\n",
      "Epoch 83/100\n",
      "409/409 [==============================] - 30s 72ms/step - loss: 0.0167 - categorical_accuracy: 0.9961\n",
      "Epoch 84/100\n",
      "409/409 [==============================] - 30s 72ms/step - loss: 0.0026 - categorical_accuracy: 0.9995\n",
      "Epoch 85/100\n",
      "409/409 [==============================] - 30s 72ms/step - loss: 0.0296 - categorical_accuracy: 0.9943\n",
      "Epoch 86/100\n",
      "409/409 [==============================] - 30s 72ms/step - loss: 0.0060 - categorical_accuracy: 0.9986\n",
      "Epoch 87/100\n",
      "409/409 [==============================] - 30s 72ms/step - loss: 0.3123 - categorical_accuracy: 0.9191\n",
      "Epoch 88/100\n",
      "409/409 [==============================] - 30s 72ms/step - loss: 0.0231 - categorical_accuracy: 0.9966\n",
      "Epoch 89/100\n",
      "409/409 [==============================] - 30s 73ms/step - loss: 0.0030 - categorical_accuracy: 0.9991\n",
      "Epoch 90/100\n",
      "409/409 [==============================] - 30s 72ms/step - loss: 0.0041 - categorical_accuracy: 0.9988\n",
      "Epoch 91/100\n",
      "409/409 [==============================] - 30s 73ms/step - loss: 0.0018 - categorical_accuracy: 0.9994\n",
      "Epoch 92/100\n",
      "409/409 [==============================] - 30s 72ms/step - loss: 0.0096 - categorical_accuracy: 0.9974\n",
      "Epoch 93/100\n",
      "409/409 [==============================] - 30s 72ms/step - loss: 0.0099 - categorical_accuracy: 0.9966\n",
      "Epoch 94/100\n",
      "409/409 [==============================] - 30s 72ms/step - loss: 0.0573 - categorical_accuracy: 0.9871\n",
      "Epoch 95/100\n",
      "409/409 [==============================] - 30s 72ms/step - loss: 0.0225 - categorical_accuracy: 0.9943\n",
      "Epoch 96/100\n",
      "409/409 [==============================] - 30s 73ms/step - loss: 0.0154 - categorical_accuracy: 0.9956\n",
      "Epoch 97/100\n",
      "409/409 [==============================] - 30s 73ms/step - loss: 0.0042 - categorical_accuracy: 0.9986\n",
      "Epoch 98/100\n",
      "409/409 [==============================] - 30s 72ms/step - loss: 0.0132 - categorical_accuracy: 0.9955\n",
      "Epoch 99/100\n",
      "409/409 [==============================] - 30s 73ms/step - loss: 0.4676 - categorical_accuracy: 0.8623\n",
      "Epoch 100/100\n",
      "409/409 [==============================] - 30s 73ms/step - loss: 0.1650 - categorical_accuracy: 0.9428\n"
     ]
    },
    {
     "data": {
      "text/plain": [
       "<keras.callbacks.History at 0x24c9ede4cd0>"
      ]
     },
     "execution_count": 230,
     "metadata": {},
     "output_type": "execute_result"
    }
   ],
   "source": [
    "#model.fit(X_train, y_train, epochs=100, callbacks=[model_checkpoint_callback])\n",
    "model.fit(X_train, y_train, epochs=100, callbacks=[model_checkpoint_callback, tb_callback])\n",
    "#model.fit(X_train, y_train, epochs=1000, batch_size=80, callbacks=[model_checkpoint_callback])"
   ]
  },
  {
   "cell_type": "code",
   "execution_count": 132,
   "metadata": {},
   "outputs": [
    {
     "name": "stdout",
     "output_type": "stream",
     "text": [
      "Model: \"sequential_4\"\n",
      "_________________________________________________________________\n",
      " Layer (type)                Output Shape              Param #   \n",
      "=================================================================\n",
      " lstm_12 (LSTM)              (None, 13, 64)            442112    \n",
      "                                                                 \n",
      " lstm_13 (LSTM)              (None, 13, 128)           98816     \n",
      "                                                                 \n",
      " lstm_14 (LSTM)              (None, 64)                49408     \n",
      "                                                                 \n",
      " dense_12 (Dense)            (None, 64)                4160      \n",
      "                                                                 \n",
      " dense_13 (Dense)            (None, 32)                2080      \n",
      "                                                                 \n",
      " dense_14 (Dense)            (None, 13)                429       \n",
      "                                                                 \n",
      "=================================================================\n",
      "Total params: 597,005\n",
      "Trainable params: 597,005\n",
      "Non-trainable params: 0\n",
      "_________________________________________________________________\n"
     ]
    }
   ],
   "source": [
    "model.summary()"
   ]
  },
  {
   "cell_type": "markdown",
   "metadata": {},
   "source": [
    "# 8. Make Predictions"
   ]
  },
  {
   "cell_type": "code",
   "execution_count": 136,
   "metadata": {},
   "outputs": [
    {
     "name": "stdout",
     "output_type": "stream",
     "text": [
      "18/18 [==============================] - 0s 10ms/step\n"
     ]
    }
   ],
   "source": [
    "res = model.predict(X_test)"
   ]
  },
  {
   "cell_type": "code",
   "execution_count": 137,
   "metadata": {},
   "outputs": [],
   "source": [
    "test_num = 3"
   ]
  },
  {
   "cell_type": "code",
   "execution_count": 138,
   "metadata": {},
   "outputs": [
    {
     "name": "stdout",
     "output_type": "stream",
     "text": [
      "Expected:  hello\n",
      "Predicted:  hello\n"
     ]
    }
   ],
   "source": [
    "print('Expected: ',actions[np.argmax(res[test_num])])\n",
    "print('Predicted: ',actions[np.argmax(y_test[test_num])])"
   ]
  },
  {
   "cell_type": "markdown",
   "metadata": {},
   "source": [
    "# 9. Save Weights"
   ]
  },
  {
   "cell_type": "code",
   "execution_count": 135,
   "metadata": {},
   "outputs": [],
   "source": [
    "# from tensorflow.keras.models import load_model\n",
    "# model = load_model('Model_13ws_3p_13fps.h5')"
   ]
  },
  {
   "cell_type": "code",
   "execution_count": 64,
   "metadata": {},
   "outputs": [],
   "source": [
    "#new_model = keras.models.load_model('Model Weights\\model_test3_train2.h5')"
   ]
  },
  {
   "cell_type": "markdown",
   "metadata": {},
   "source": [
    "# 10. Evaluation using Confusion Matrix and Accuracy"
   ]
  },
  {
   "cell_type": "code",
   "execution_count": 139,
   "metadata": {},
   "outputs": [],
   "source": [
    "from sklearn.metrics import multilabel_confusion_matrix, accuracy_score, classification_report"
   ]
  },
  {
   "cell_type": "code",
   "execution_count": 140,
   "metadata": {},
   "outputs": [
    {
     "name": "stdout",
     "output_type": "stream",
     "text": [
      "18/18 [==============================] - 0s 11ms/step\n"
     ]
    }
   ],
   "source": [
    "yhat = model.predict(X_test)"
   ]
  },
  {
   "cell_type": "code",
   "execution_count": 141,
   "metadata": {},
   "outputs": [],
   "source": [
    "ytrue = np.argmax(y_test, axis=1).tolist()\n",
    "yhat = np.argmax(yhat, axis=1).tolist()"
   ]
  },
  {
   "cell_type": "code",
   "execution_count": 142,
   "metadata": {},
   "outputs": [
    {
     "data": {
      "text/plain": [
       "array([[[504,   0],\n",
       "        [  0,  42]],\n",
       "\n",
       "       [[502,   0],\n",
       "        [  0,  44]],\n",
       "\n",
       "       [[506,   0],\n",
       "        [  0,  40]],\n",
       "\n",
       "       [[501,   0],\n",
       "        [  0,  45]],\n",
       "\n",
       "       [[503,   0],\n",
       "        [  0,  43]],\n",
       "\n",
       "       [[503,   0],\n",
       "        [  0,  43]],\n",
       "\n",
       "       [[506,   0],\n",
       "        [  0,  40]],\n",
       "\n",
       "       [[503,   0],\n",
       "        [  0,  43]],\n",
       "\n",
       "       [[504,   0],\n",
       "        [  1,  41]],\n",
       "\n",
       "       [[503,   0],\n",
       "        [  0,  43]],\n",
       "\n",
       "       [[500,   0],\n",
       "        [  0,  46]],\n",
       "\n",
       "       [[508,   1],\n",
       "        [  0,  37]],\n",
       "\n",
       "       [[508,   0],\n",
       "        [  0,  38]]], dtype=int64)"
      ]
     },
     "execution_count": 142,
     "metadata": {},
     "output_type": "execute_result"
    }
   ],
   "source": [
    "multilabel_confusion_matrix(ytrue, yhat)"
   ]
  },
  {
   "cell_type": "code",
   "execution_count": 143,
   "metadata": {},
   "outputs": [
    {
     "data": {
      "text/plain": [
       "0.9981684981684982"
      ]
     },
     "execution_count": 143,
     "metadata": {},
     "output_type": "execute_result"
    }
   ],
   "source": [
    "accuracy_score(ytrue, yhat)"
   ]
  },
  {
   "cell_type": "code",
   "execution_count": 144,
   "metadata": {},
   "outputs": [
    {
     "name": "stdout",
     "output_type": "stream",
     "text": [
      "              precision    recall  f1-score   support\n",
      "\n",
      "           0       1.00      1.00      1.00        42\n",
      "           1       1.00      1.00      1.00        44\n",
      "           2       1.00      1.00      1.00        40\n",
      "           3       1.00      1.00      1.00        45\n",
      "           4       1.00      1.00      1.00        43\n",
      "           5       1.00      1.00      1.00        43\n",
      "           6       1.00      1.00      1.00        40\n",
      "           7       1.00      1.00      1.00        43\n",
      "           8       1.00      0.98      0.99        42\n",
      "           9       1.00      1.00      1.00        43\n",
      "          10       1.00      1.00      1.00        46\n",
      "          11       0.97      1.00      0.99        37\n",
      "          12       1.00      1.00      1.00        38\n",
      "\n",
      "    accuracy                           1.00       546\n",
      "   macro avg       1.00      1.00      1.00       546\n",
      "weighted avg       1.00      1.00      1.00       546\n",
      "\n"
     ]
    }
   ],
   "source": [
    "print(classification_report(ytrue, yhat))"
   ]
  }
 ],
 "metadata": {
  "kernelspec": {
   "display_name": "Python 3",
   "language": "python",
   "name": "python3"
  },
  "language_info": {
   "codemirror_mode": {
    "name": "ipython",
    "version": 3
   },
   "file_extension": ".py",
   "mimetype": "text/x-python",
   "name": "python",
   "nbconvert_exporter": "python",
   "pygments_lexer": "ipython3",
   "version": "3.8.8"
  }
 },
 "nbformat": 4,
 "nbformat_minor": 2
}
