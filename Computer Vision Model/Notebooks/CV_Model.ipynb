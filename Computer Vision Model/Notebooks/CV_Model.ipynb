{
 "cells": [
  {
   "cell_type": "code",
   "execution_count": 1,
   "id": "4599e007",
   "metadata": {},
   "outputs": [],
   "source": [
    "# imports\n",
    "import pandas as pd\n",
    "import numpy as np\n",
    "import cv2\n",
    "import os\n",
    "#import matplotlib.pyplot as plt\n",
    "#%matplotlib inline\n",
    "#import time\n",
    "import mediapipe as mp"
   ]
  },
  {
   "cell_type": "code",
   "execution_count": 31,
   "id": "45ad5545",
   "metadata": {},
   "outputs": [],
   "source": [
    "# SCRIPT 1 - Extracting key points - to test if everything is working\n",
    "\n",
    "mp_holistic = mp.solutions.holistic # Holistic model - make our detection\n",
    "mp_drawing = mp.solutions.drawing_utils # Drawing utilities - make our drawings\n",
    "\n",
    "# FUNCTIONS:\n",
    "\n",
    "# To extract keypoint values from frame using mediapipe\n",
    "def mediapipe_detection(image, model):\n",
    "    image = cv2.cvtColor(image, cv2.COLOR_BGR2RGB) # COLOR CONVERSION BGR 2 RGB\n",
    "    image.flags.writeable = False                  # Image is no longer writeable\n",
    "    results = model.process(image)                 # Make prediction\n",
    "    image.flags.writeable = True                   # Image is now writeable\n",
    "    image = cv2.cvtColor(image, cv2.COLOR_RGB2BGR) # COLOR COVERSION RGB 2 BGR\n",
    "    return image, results\n",
    "\n",
    "# To draw landmarks and pose connections on the frame using the results extracted\n",
    "def draw_landmarks(image, results):\n",
    "    mp_drawing.draw_landmarks(image, results.face_landmarks, mp_holistic.FACEMESH_TESSELATION) # Draw face connections\n",
    "    mp_drawing.draw_landmarks(image, results.pose_landmarks, mp_holistic.POSE_CONNECTIONS) # Draw pose connections\n",
    "    mp_drawing.draw_landmarks(image, results.left_hand_landmarks, mp_holistic.HAND_CONNECTIONS) # Draw left hand connections\n",
    "    mp_drawing.draw_landmarks(image, results.right_hand_landmarks, mp_holistic.HAND_CONNECTIONS) # Draw right hand connections\n",
    "\n",
    "def extract_keypoints(results):\n",
    "    pose = np.array([[res.x, res.y, res.z, res.visibility] for res in results.pose_landmarks.landmark]).flatten() if results.pose_landmarks else np.zeros(33*4)\n",
    "    face = np.array([[res.x, res.y, res.z] for res in results.face_landmarks.landmark]).flatten() if results.face_landmarks else np.zeros(468*3)\n",
    "    lh = np.array([[res.x, res.y, res.z] for res in results.left_hand_landmarks.landmark]).flatten() if results.left_hand_landmarks else np.zeros(21*3)\n",
    "    rh = np.array([[res.x, res.y, res.z] for res in results.right_hand_landmarks.landmark]).flatten() if results.right_hand_landmarks else np.zeros(21*3)\n",
    "    return np.concatenate([pose, face, lh, rh])\n",
    "\n",
    "# MAIN - Visualizing the Realtime pose estimations using opencv (Press 'q' to close window and break)\n",
    "\n",
    "cap = cv2.VideoCapture(0) # establish video capture with your webcam\n",
    "\n",
    "# Set mediapipe model\n",
    "with mp_holistic.Holistic(min_detection_confidence=0.5, min_tracking_confidence=0.5) as holistic:\n",
    "    while cap.isOpened():\n",
    "\n",
    "        # Read feed\n",
    "        ret, frame = cap.read()\n",
    "\n",
    "        # Make detections\n",
    "        image, results = mediapipe_detection(frame, holistic)\n",
    "        #print(results)\n",
    "\n",
    "        # Draw landmarks\n",
    "        draw_landmarks(image, results)\n",
    "\n",
    "        # Show to screen\n",
    "        cv2.imshow('OpenCV Feed', image)\n",
    "\n",
    "        # Break gracefully (Press 'q' to close window and break)\n",
    "        if cv2.waitKey(10) & 0xFF == ord('q'):\n",
    "            break\n",
    "    cap.release()\n",
    "    cv2.destroyAllWindows()"
   ]
  },
  {
   "cell_type": "code",
   "execution_count": 3,
   "id": "fb0bcee9",
   "metadata": {},
   "outputs": [],
   "source": [
    "cap.release()\n",
    "cv2.destroyAllWindows()"
   ]
  },
  {
   "cell_type": "code",
   "execution_count": 40,
   "id": "abfcc842",
   "metadata": {},
   "outputs": [],
   "source": [
    "# Path for exported data BY Default the folder is presernt in the directory\n",
    "if not os.path.exists(os.path.join('Data Collection')):\n",
    "    os.makedirs(os.path.join('Data Collection'))\n",
    "\n",
    "DATA_PATH = os.path.join('Data Collection')\n",
    "# Actions that we try to detect, array of words we are training on:\n",
    "#Allactions = np.array(['NoSign','hello','you','work',''where','thanks','sorry', 'how'])\n",
    "# ['NoSign','hello','thanks','sorry','you','work','where','how']\n",
    "# ['NoSign','how']\n",
    "actions = np.array(['NoSign'])\n",
    "# 30 videos worth of data\n",
    "no_sequences = 40\n",
    "# Videos are going to be 30 frames in length\n",
    "sequence_length = 25"
   ]
  },
  {
   "cell_type": "code",
   "execution_count": 43,
   "id": "8989c5b0",
   "metadata": {},
   "outputs": [
    {
     "name": "stdout",
     "output_type": "stream",
     "text": [
      "Folders Created!!!!\n"
     ]
    }
   ],
   "source": [
    "# when adding onto the dataset\n",
    "DATA_PATH = os.path.join('Data Collection')\n",
    "# ['NoSign','hello','thanks','sorry','you','work','where','how']\n",
    "\n",
    "start_folder = 40\n",
    "end_folder = 120\n",
    "\n",
    "for action in actions:\n",
    "    # to start a new word change start_folder to 0 and end to 40\n",
    "    for sequence in range(start_folder, end_folder):\n",
    "        try:\n",
    "            os.makedirs(os.path.join(DATA_PATH, action, str(sequence)))\n",
    "        except:\n",
    "            pass\n",
    "print('Folders Created!!!!')"
   ]
  },
  {
   "cell_type": "code",
   "execution_count": 44,
   "id": "6a27e85d",
   "metadata": {},
   "outputs": [
    {
     "name": "stdout",
     "output_type": "stream",
     "text": [
      "Data Collection Complete!!!\n"
     ]
    }
   ],
   "source": [
    "# Script 3 ---- Collect Training data\n",
    "\n",
    "mp_holistic = mp.solutions.holistic # Holistic model - make our detection\n",
    "mp_drawing = mp.solutions.drawing_utils # Drawing utilities - make our drawings\n",
    "\n",
    "# FUNCTIONS:\n",
    "# ------------- MAIN - Start Collection Loop -----------\n",
    "\n",
    "#def Data_Collection(DATA_PATH, actions, no_sequences, sequence_length):\n",
    "    \n",
    "cap = cv2.VideoCapture(0)\n",
    "# Set mediapipe model \n",
    "with mp_holistic.Holistic(min_detection_confidence=0.5, min_tracking_confidence=0.5) as holistic:\n",
    "    cv2.waitKey(1000)\n",
    "    # Loop through actions\n",
    "    for action in actions:\n",
    "        # Loop through sequences aka videos\n",
    "        blank_screen = np.zeros((480,640,3), dtype=\"uint8\")\n",
    "        cv2.imshow('OpenCV Feed', blank_screen)\n",
    "        cv2.putText(blank_screen, 'Action: {}'.format(action), (170,210), \n",
    "                   cv2.FONT_HERSHEY_SIMPLEX, 1.5, (0,255,0), 2, cv2.LINE_AA)\n",
    "        cv2.imshow('OpenCV Feed', blank_screen)\n",
    "        cv2.waitKey(500)\n",
    "\n",
    "        #for sequence in range(no_sequences):\n",
    "        for sequence in range(start_folder, end_folder):\n",
    "            # Loop through video length aka sequence length\n",
    "            for frame_num in range(sequence_length):\n",
    "\n",
    "                # Read feed\n",
    "                ret, frame = cap.read()\n",
    "\n",
    "                # Make detections\n",
    "                image, results = mediapipe_detection(frame, holistic)\n",
    "                # print(results)\n",
    "\n",
    "                # Draw landmarks\n",
    "                draw_landmarks(image, results)\n",
    "\n",
    "                # NEW Apply wait logic\n",
    "                if frame_num == 0: \n",
    "                    cv2.putText(image, 'STARTING COLLECTION', (120,200), \n",
    "                               cv2.FONT_HERSHEY_SIMPLEX, 1, (0,255, 0), 4, cv2.LINE_AA)\n",
    "                    cv2.putText(image, 'Collecting frames for {} Video Number {}'.format(action, sequence), (17,14), \n",
    "                               cv2.FONT_HERSHEY_SIMPLEX, 0.6, (0, 0, 255), 1, cv2.LINE_AA)\n",
    "                    # Show to screen\n",
    "                    cv2.imshow('OpenCV Feed', image)\n",
    "                    cv2.waitKey(500)\n",
    "                else: \n",
    "                    cv2.putText(image, 'Collecting frames for {} Video Number {}'.format(action, sequence), (17,14), \n",
    "                               cv2.FONT_HERSHEY_SIMPLEX, 0.6, (0, 0, 255), 1, cv2.LINE_AA)\n",
    "                    # Show to screen\n",
    "                    cv2.imshow('OpenCV Feed', image)\n",
    "\n",
    "                # NEW Export keypoints\n",
    "                keypoints = extract_keypoints(results)\n",
    "                npy_path = os.path.join(DATA_PATH, action, str(sequence), str(frame_num))\n",
    "                np.save(npy_path, keypoints)\n",
    "\n",
    "                # Break gracefully\n",
    "                if cv2.waitKey(1) & 0xFF == ord('q'):\n",
    "                    break\n",
    "\n",
    "    cap.release()\n",
    "    cv2.destroyAllWindows()\n",
    "    print('Data Collection Complete!!!')\n",
    "\n",
    "\n",
    "# --------------- Function Call - Start Collection ------------ #\n",
    "\n",
    "# # Path for exported data, numpy arrays\n",
    "# DATA_PATH = os.path.join('Data Collection')\n",
    "# # Actions that we try to detect\n",
    "# actions = np.array(['NoSign','hello', 'thanks', 'iloveyou'])\n",
    "# # 30 videos worth of data\n",
    "# no_sequences = 30\n",
    "# # Videos are going to be 30 frames in length\n",
    "# sequence_length = 30\n",
    "\n",
    "#Data_Collection(DATA_PATH, actions, no_sequences, sequence_length)\n",
    "\n",
    "\n",
    "cap.release()\n",
    "cv2.destroyAllWindows()"
   ]
  },
  {
   "cell_type": "code",
   "execution_count": 6,
   "id": "8f062032",
   "metadata": {},
   "outputs": [],
   "source": [
    "cap.release()\n",
    "cv2.destroyAllWindows()"
   ]
  },
  {
   "cell_type": "markdown",
   "id": "210df755",
   "metadata": {},
   "source": [
    "# 6. Preprocess Data and Create Labels and Features"
   ]
  },
  {
   "cell_type": "code",
   "execution_count": 18,
   "id": "c1208202",
   "metadata": {},
   "outputs": [],
   "source": [
    "from sklearn.model_selection import train_test_split\n",
    "from tensorflow.keras.utils import to_categorical"
   ]
  },
  {
   "cell_type": "code",
   "execution_count": 19,
   "id": "b407d0fb",
   "metadata": {},
   "outputs": [],
   "source": [
    "label_map = {label:num for num, label in enumerate(actions)}\n",
    "\n",
    "# DATA_PATH = os.path.join('Data Collection') - folder name for where the data is.\n",
    "\n",
    "sequences, labels = [], []\n",
    "for action in actions:\n",
    "    for sequence in np.array(os.listdir(os.path.join(DATA_PATH, action))).astype(int):\n",
    "        window = []\n",
    "        for frame_num in range(sequence_length):\n",
    "            res = np.load(os.path.join(DATA_PATH, action, str(sequence), \"{}.npy\".format(frame_num)))\n",
    "            window.append(res)\n",
    "        sequences.append(window)\n",
    "        labels.append(label_map[action])"
   ]
  },
  {
   "cell_type": "code",
   "execution_count": 20,
   "id": "bee2e123",
   "metadata": {},
   "outputs": [
    {
     "data": {
      "text/plain": [
       "(120, 25, 1662)"
      ]
     },
     "execution_count": 20,
     "metadata": {},
     "output_type": "execute_result"
    }
   ],
   "source": [
    "np.array(sequences).shape # [40 videos x No. of actions, 25 frames per video, 1662 datapoints per frame]"
   ]
  },
  {
   "cell_type": "code",
   "execution_count": 45,
   "id": "9f34cfe8",
   "metadata": {},
   "outputs": [],
   "source": [
    "actions = np.array(['NoSign','hello','thanks','sorry','you','work','where','how'])\n",
    "label_map = {label:num for num, label in enumerate(actions)}\n",
    "#no_sequences = 40\n",
    "sequence_length = 25\n",
    "\n",
    "DATA_PATH = os.path.join('Data Collection')\n",
    "sequences2, labels2 = [], []\n",
    "for action in actions:\n",
    "    for sequence in np.array(os.listdir(os.path.join(DATA_PATH, action))).astype(int):\n",
    "        window = []\n",
    "        for frame_num in range(sequence_length):\n",
    "            res = np.load(os.path.join(DATA_PATH, action, str(sequence), \"{}.npy\".format(frame_num)))\n",
    "            window.append(res)\n",
    "        sequences2.append(window)\n",
    "        labels2.append(label_map[action])"
   ]
  },
  {
   "cell_type": "code",
   "execution_count": 48,
   "id": "b33f5d5b",
   "metadata": {},
   "outputs": [
    {
     "data": {
      "text/plain": [
       "(960, 25, 1662)"
      ]
     },
     "execution_count": 48,
     "metadata": {},
     "output_type": "execute_result"
    }
   ],
   "source": [
    "np.array(sequences2).shape"
   ]
  },
  {
   "cell_type": "code",
   "execution_count": null,
   "id": "e2a21bf5",
   "metadata": {},
   "outputs": [],
   "source": []
  }
 ],
 "metadata": {
  "kernelspec": {
   "display_name": "Python 3 (ipykernel)",
   "language": "python",
   "name": "python3"
  },
  "language_info": {
   "codemirror_mode": {
    "name": "ipython",
    "version": 3
   },
   "file_extension": ".py",
   "mimetype": "text/x-python",
   "name": "python",
   "nbconvert_exporter": "python",
   "pygments_lexer": "ipython3",
   "version": "3.10.4"
  }
 },
 "nbformat": 4,
 "nbformat_minor": 5
}
