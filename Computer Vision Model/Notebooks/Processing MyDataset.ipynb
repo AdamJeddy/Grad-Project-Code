{
 "cells": [
  {
   "cell_type": "markdown",
   "metadata": {},
   "source": [
    "# 1. Import and Install Dependencies"
   ]
  },
  {
   "cell_type": "code",
   "execution_count": 2,
   "metadata": {},
   "outputs": [],
   "source": [
    "import pandas as pd\n",
    "import numpy as np\n",
    "import cv2\n",
    "import os\n",
    "import matplotlib.pyplot as plt\n",
    "%matplotlib inline\n",
    "import time\n",
    "import mediapipe as mp"
   ]
  },
  {
   "cell_type": "code",
   "execution_count": 3,
   "metadata": {},
   "outputs": [],
   "source": [
    "#!python -V"
   ]
  },
  {
   "cell_type": "markdown",
   "metadata": {},
   "source": [
    "# 2. Keypoints using MP Holistic"
   ]
  },
  {
   "cell_type": "code",
   "execution_count": 4,
   "metadata": {},
   "outputs": [],
   "source": [
    "mp_holistic = mp.solutions.holistic # Holistic model - make our detection \n",
    "mp_drawing = mp.solutions.drawing_utils # Drawing utilities - make our drawings"
   ]
  },
  {
   "cell_type": "code",
   "execution_count": 5,
   "metadata": {},
   "outputs": [],
   "source": [
    "def mediapipe_detection(image, model):\n",
    "    image = cv2.cvtColor(image, cv2.COLOR_BGR2RGB) # COLOR CONVERSION BGR 2 RGB\n",
    "    image.flags.writeable = False                  # Image is no longer writeable\n",
    "    results = model.process(image)                 # Make prediction\n",
    "    image.flags.writeable = True                   # Image is now writeable \n",
    "    image = cv2.cvtColor(image, cv2.COLOR_RGB2BGR) # COLOR COVERSION RGB 2 BGR\n",
    "    return image, results"
   ]
  },
  {
   "cell_type": "code",
   "execution_count": 6,
   "metadata": {},
   "outputs": [],
   "source": [
    "def draw_landmarks(image, results):\n",
    "    mp_drawing.draw_landmarks(image, results.face_landmarks, mp_holistic.FACE_CONNECTIONS) # Draw face connections\n",
    "    mp_drawing.draw_landmarks(image, results.pose_landmarks, mp_holistic.POSE_CONNECTIONS) # Draw pose connections\n",
    "    mp_drawing.draw_landmarks(image, results.left_hand_landmarks, mp_holistic.HAND_CONNECTIONS) # Draw left hand connections\n",
    "    mp_drawing.draw_landmarks(image, results.right_hand_landmarks, mp_holistic.HAND_CONNECTIONS) # Draw right hand connections"
   ]
  },
  {
   "cell_type": "code",
   "execution_count": 7,
   "metadata": {},
   "outputs": [],
   "source": [
    "def draw_styled_landmarks(image, results):\n",
    "    # Draw face connections\n",
    "    mp_drawing.draw_landmarks(image, results.face_landmarks, mp_holistic.FACE_CONNECTIONS, \n",
    "                             mp_drawing.DrawingSpec(color=(255,255,0), thickness=1, circle_radius=1), \n",
    "                             mp_drawing.DrawingSpec(color=(255,255,0), thickness=1, circle_radius=1)\n",
    "                             ) \n",
    "    # Draw pose connections\n",
    "    mp_drawing.draw_landmarks(image, results.pose_landmarks, mp_holistic.POSE_CONNECTIONS,\n",
    "                             mp_drawing.DrawingSpec(color=(80,22,10), thickness=2, circle_radius=4), \n",
    "                             mp_drawing.DrawingSpec(color=(80,44,121), thickness=2, circle_radius=2)\n",
    "                             ) \n",
    "    # Draw left hand connections\n",
    "    mp_drawing.draw_landmarks(image, results.left_hand_landmarks, mp_holistic.HAND_CONNECTIONS, \n",
    "                             mp_drawing.DrawingSpec(color=(121,22,76), thickness=2, circle_radius=4), \n",
    "                             mp_drawing.DrawingSpec(color=(121,44,250), thickness=2, circle_radius=2)\n",
    "                             ) \n",
    "    # Draw right hand connections  \n",
    "    mp_drawing.draw_landmarks(image, results.right_hand_landmarks, mp_holistic.HAND_CONNECTIONS, \n",
    "                             mp_drawing.DrawingSpec(color=(245,117,66), thickness=2, circle_radius=4), \n",
    "                             mp_drawing.DrawingSpec(color=(245,66,230), thickness=2, circle_radius=2)\n",
    "                             ) "
   ]
  },
  {
   "cell_type": "code",
   "execution_count": 8,
   "metadata": {},
   "outputs": [
    {
     "name": "stdout",
     "output_type": "stream",
     "text": [
      "video frame width =  640.0\n",
      "video frame height =  480.0\n",
      "frame rate =  30.0\n",
      "frame count in video =  -1.0\n"
     ]
    }
   ],
   "source": [
    "# Check the video properties\n",
    "cap2 = cv2.VideoCapture(0)\n",
    "\n",
    "print('video frame width = ',cap2.get(cv2.CAP_PROP_FRAME_WIDTH))\n",
    "print('video frame height = ', cap2.get(cv2.CAP_PROP_FRAME_HEIGHT))\n",
    "\n",
    "# frame rate being used for frame extraction\n",
    "print('frame rate = ', cap2.get(cv2.CAP_PROP_FPS))\n",
    "\n",
    "# frame count in video\n",
    "print('frame count in video = ', cap2.get(cv2.CAP_PROP_FRAME_COUNT))"
   ]
  },
  {
   "cell_type": "code",
   "execution_count": 9,
   "metadata": {},
   "outputs": [
    {
     "name": "stdout",
     "output_type": "stream",
     "text": [
      "video frame width =  1080.0\n",
      "video frame height =  1920.0\n",
      "frame rate =  30.006688420924622\n",
      "frame count in video =  329.0\n"
     ]
    }
   ],
   "source": [
    "cap = cv2.VideoCapture(os.path.join('Resources', 'Test_Videos','signs_aamir1.mp4'))\n",
    "\n",
    "print('video frame width = ',cap.get(cv2.CAP_PROP_FRAME_WIDTH))\n",
    "print('video frame height = ', cap.get(cv2.CAP_PROP_FRAME_HEIGHT))\n",
    "\n",
    "# frame rate being used for frame extraction\n",
    "print('frame rate = ', cap.get(cv2.CAP_PROP_FPS))\n",
    "\n",
    "# frame count in video\n",
    "print('frame count in video = ', cap.get(cv2.CAP_PROP_FRAME_COUNT))"
   ]
  },
  {
   "cell_type": "code",
   "execution_count": 10,
   "metadata": {},
   "outputs": [
    {
     "name": "stdout",
     "output_type": "stream",
     "text": [
      "video frame width =  352.0\n",
      "video frame height =  640.0\n",
      "frame rate =  59.41041212824007\n",
      "frame count in video =  2096.0\n"
     ]
    }
   ],
   "source": [
    "cap = cv2.VideoCapture(os.path.join('Resources', 'Test_Videos','signs_adam.mp4'))\n",
    "\n",
    "print('video frame width = ',cap.get(cv2.CAP_PROP_FRAME_WIDTH))\n",
    "print('video frame height = ', cap.get(cv2.CAP_PROP_FRAME_HEIGHT))\n",
    "\n",
    "# frame rate being used for frame extraction\n",
    "print('frame rate = ', cap.get(cv2.CAP_PROP_FPS))\n",
    "\n",
    "# frame count in video\n",
    "print('frame count in video = ', cap.get(cv2.CAP_PROP_FRAME_COUNT))"
   ]
  },
  {
   "cell_type": "code",
   "execution_count": 11,
   "metadata": {},
   "outputs": [],
   "source": [
    "def video_resizing(frame, w, h):\n",
    "    \n",
    "    # resizing image\n",
    "    width = int(w)\n",
    "    height = int(h)\n",
    "    dimensions = (width,height)\n",
    "    \n",
    "    return cv2.resize(frame, dimensions, interpolation=cv2.INTER_AREA)"
   ]
  },
  {
   "cell_type": "code",
   "execution_count": 12,
   "metadata": {},
   "outputs": [],
   "source": [
    "def video_rescaling(frame, scale):\n",
    "    \n",
    "    # sclaing image\n",
    "    width = int(frame.shape[1] * scale)\n",
    "    height = int(frame.shape[0] * scale)\n",
    "    dimensions = (width,height)\n",
    "    \n",
    "    return cv2.resize(frame, dimensions, interpolation=cv2.INTER_AREA)"
   ]
  },
  {
   "cell_type": "code",
   "execution_count": 13,
   "metadata": {},
   "outputs": [],
   "source": [
    "# def mobile_video_preprocess(frame, w, h):\n",
    "    \n",
    "#     # rotate image \n",
    "#     #frame = cv2.rotate(frame, cv2.ROTATE_180)\n",
    "    \n",
    "# #     # sclaing image\n",
    "# #     width = int(frame.shape[1] * scale)\n",
    "# #     height = int(frame.shape[0] * scale)\n",
    "    \n",
    "#     # resizing image\n",
    "#     width = int(w)\n",
    "#     height = int(h)\n",
    "#     dimensions = (width,height)\n",
    "    \n",
    "#     return cv2.resize(frame, dimensions, interpolation=cv2.INTER_AREA)"
   ]
  },
  {
   "cell_type": "code",
   "execution_count": 202,
   "metadata": {},
   "outputs": [],
   "source": [
    "cap = cv2.VideoCapture(0)\n",
    "#cap = cv2.VideoCapture(os.path.join('Resources', 'Test_Videos','signs_adam.mp4'))\n",
    "# Set mediapipe model \n",
    "with mp_holistic.Holistic(min_detection_confidence=0.5, min_tracking_confidence=0.5) as holistic:\n",
    "    while cap.isOpened():\n",
    "\n",
    "        # Read feed\n",
    "        ret, frame = cap.read()\n",
    "\n",
    "        # Make detections\n",
    "        image, results = mediapipe_detection(frame, holistic)\n",
    "        #print(results)\n",
    "        \n",
    "        # Draw landmarks\n",
    "        draw_landmarks(image, results)\n",
    "\n",
    "        # Show to screen\n",
    "        cv2.imshow('OpenCV Feed', image)\n",
    "\n",
    "        # Break gracefully\n",
    "        if cv2.waitKey(10) & 0xFF == ord('q'):\n",
    "            break\n",
    "    cap.release()\n",
    "    cv2.destroyAllWindows()"
   ]
  },
  {
   "cell_type": "code",
   "execution_count": null,
   "metadata": {},
   "outputs": [],
   "source": [
    "cap = cv2.VideoCapture(0)\n",
    "## Setup mediapipe instance\n",
    "with mp_holistic.Pose(min_detection_confidence=0.5, min_tracking_confidence=0.5) as holistic:\n",
    "    while cap.isOpened():\n",
    "        ret, frame = cap.read()\n",
    "        \n",
    "        # Recolor image to RGB\n",
    "        image = cv2.cvtColor(frame, cv2.COLOR_BGR2RGB)\n",
    "        image.flags.writeable = False\n",
    "      \n",
    "        # Make detection\n",
    "        results = holistic.process(image)\n",
    "    \n",
    "        # Recolor back to BGR\n",
    "        image.flags.writeable = True\n",
    "        image = cv2.cvtColor(image, cv2.COLOR_RGB2BGR)\n",
    "        \n",
    "        # Extract landmarks\n",
    "        try:\n",
    "            landmarks = results.pose_landmarks.landmark\n",
    "            print(landmarks)\n",
    "        except:\n",
    "            pass\n",
    "        \n",
    "        \n",
    "        # Render detections\n",
    "        mp_drawing.draw_landmarks(image, results.pose_landmarks, mp_pose.POSE_CONNECTIONS,\n",
    "                                mp_drawing.DrawingSpec(color=(245,117,66), thickness=2, circle_radius=2), \n",
    "                                mp_drawing.DrawingSpec(color=(245,66,230), thickness=2, circle_radius=2) \n",
    "                                 )               \n",
    "        \n",
    "        cv2.imshow('Mediapipe Feed', image)\n",
    "\n",
    "        if cv2.waitKey(10) & 0xFF == ord('q'):\n",
    "            break\n",
    "\n",
    "    cap.release()\n",
    "    cv2.destroyAllWindows()"
   ]
  },
  {
   "cell_type": "code",
   "execution_count": 47,
   "metadata": {},
   "outputs": [],
   "source": [
    "# #cap = cv2.VideoCapture(0)\n",
    "# cap = cv2.VideoCapture(os.path.join('Resources', 'Test_Videos','signs_adam.mp4'))\n",
    "# # Set mediapipe model \n",
    "# with mp_holistic.Holistic(min_detection_confidence=0.5, min_tracking_confidence=0.5) as holistic:\n",
    "#     while cap.isOpened():\n",
    "# for frame_idx in range(int(cap.get(cv2.CAP_PROP_FRAME_COUNT))):\n",
    "\n",
    "#         # Read feed\n",
    "#         ret, frame = cap.read()\n",
    "        \n",
    "#         # rotate image\n",
    "#         frame = cv2.rotate(frame, cv2.ROTATE_180)\n",
    "        \n",
    "#         # video resizing\n",
    "#         resized_frame = video_resizing(frame, 640, 680)\n",
    "        \n",
    "#         # Make detections\n",
    "#         image, results = mediapipe_detection(resized_frame, holistic)\n",
    "#         #print(results)\n",
    "        \n",
    "#         # Draw landmarks\n",
    "#         draw_landmarks(image, results)\n",
    "\n",
    "#         # Show to screen\n",
    "#         cv2.imshow('OpenCV Feed', image)\n",
    "\n",
    "#         # Break gracefully\n",
    "#         if cv2.waitKey(1) & 0xFF == ord('q'):\n",
    "#             break\n",
    "#     cap.release()\n",
    "#     cv2.destroyAllWindows()"
   ]
  },
  {
   "cell_type": "code",
   "execution_count": 187,
   "metadata": {},
   "outputs": [],
   "source": [
    "cap.release()\n",
    "cv2.destroyAllWindows()"
   ]
  },
  {
   "cell_type": "code",
   "execution_count": 7,
   "metadata": {},
   "outputs": [],
   "source": [
    "draw_landmarks(frame, results)"
   ]
  },
  {
   "cell_type": "code",
   "execution_count": 8,
   "metadata": {},
   "outputs": [
    {
     "data": {
      "text/plain": [
       "<matplotlib.image.AxesImage at 0x23f9cfe4978>"
      ]
     },
     "execution_count": 8,
     "metadata": {},
     "output_type": "execute_result"
    },
    {
     "data": {
      "image/png": "[encoded data removed]",
      "text/plain": [
       "<Figure size 432x288 with 1 Axes>"
      ]
     },
     "metadata": {
      "needs_background": "light"
     },
     "output_type": "display_data"
    }
   ],
   "source": [
    "plt.imshow(cv2.cvtColor(frame, cv2.COLOR_BGR2RGB))"
   ]
  },
  {
   "cell_type": "markdown",
   "metadata": {},
   "source": [
    "# 3. Extract Keypoint Values"
   ]
  },
  {
   "cell_type": "code",
   "execution_count": 9,
   "metadata": {},
   "outputs": [
    {
     "ename": "AttributeError",
     "evalue": "'NoneType' object has no attribute 'landmark'",
     "output_type": "error",
     "traceback": [
      "\u001b[1;31m---------------------------------------------------------------------------\u001b[0m",
      "\u001b[1;31mAttributeError\u001b[0m                            Traceback (most recent call last)",
      "\u001b[1;32m<ipython-input-9-db886034048d>\u001b[0m in \u001b[0;36m<module>\u001b[1;34m\u001b[0m\n\u001b[1;32m----> 1\u001b[1;33m \u001b[0mlen\u001b[0m\u001b[1;33m(\u001b[0m\u001b[0mresults\u001b[0m\u001b[1;33m.\u001b[0m\u001b[0mleft_hand_landmarks\u001b[0m\u001b[1;33m.\u001b[0m\u001b[0mlandmark\u001b[0m\u001b[1;33m)\u001b[0m\u001b[1;33m\u001b[0m\u001b[1;33m\u001b[0m\u001b[0m\n\u001b[0m",
      "\u001b[1;31mAttributeError\u001b[0m: 'NoneType' object has no attribute 'landmark'"
     ]
    }
   ],
   "source": [
    "len(results.left_hand_landmarks.landmark)"
   ]
  },
  {
   "cell_type": "code",
   "execution_count": 14,
   "metadata": {},
   "outputs": [],
   "source": [
    "pose = []\n",
    "for res in results.pose_landmarks.landmark:\n",
    "    test = np.array([res.x, res.y, res.z, res.visibility])\n",
    "    pose.append(test)"
   ]
  },
  {
   "cell_type": "code",
   "execution_count": 15,
   "metadata": {},
   "outputs": [],
   "source": [
    "pose = np.array([[res.x, res.y, res.z, res.visibility] for res in results.pose_landmarks.landmark]).flatten() if results.pose_landmarks else np.zeros(132)\n",
    "face = np.array([[res.x, res.y, res.z] for res in results.face_landmarks.landmark]).flatten() if results.face_landmarks else np.zeros(1404)\n",
    "lh = np.array([[res.x, res.y, res.z] for res in results.left_hand_landmarks.landmark]).flatten() if results.left_hand_landmarks else np.zeros(21*3)\n",
    "rh = np.array([[res.x, res.y, res.z] for res in results.right_hand_landmarks.landmark]).flatten() if results.right_hand_landmarks else np.zeros(21*3)"
   ]
  },
  {
   "cell_type": "code",
   "execution_count": 16,
   "metadata": {},
   "outputs": [],
   "source": [
    "# face = np.array([[res.x, res.y, res.z] for res in results.face_landmarks.landmark]).flatten() \n",
    "#     if results.left_hand_landmarks \n",
    "#     else np.zeros(1404)"
   ]
  },
  {
   "cell_type": "code",
   "execution_count": 31,
   "metadata": {},
   "outputs": [],
   "source": [
    "def extract_keypoints(results):\n",
    "    pose = np.array([[res.x, res.y, res.z, res.visibility] for res in results.pose_landmarks.landmark]).flatten() if results.pose_landmarks else np.zeros(33*4)\n",
    "    face = np.array([[res.x, res.y, res.z] for res in results.face_landmarks.landmark]).flatten() if results.face_landmarks else np.zeros(468*3)\n",
    "    lh = np.array([[res.x, res.y, res.z] for res in results.left_hand_landmarks.landmark]).flatten() if results.left_hand_landmarks else np.zeros(21*3)\n",
    "    rh = np.array([[res.x, res.y, res.z] for res in results.right_hand_landmarks.landmark]).flatten() if results.right_hand_landmarks else np.zeros(21*3)\n",
    "    return np.concatenate([pose, face, lh, rh])"
   ]
  },
  {
   "cell_type": "code",
   "execution_count": 19,
   "metadata": {},
   "outputs": [],
   "source": [
    "result_test = extract_keypoints(results)"
   ]
  },
  {
   "cell_type": "code",
   "execution_count": 14,
   "metadata": {},
   "outputs": [
    {
     "data": {
      "text/plain": [
       "array([ 0.42243218,  0.40501478, -1.25651908, ...,  0.        ,\n",
       "        0.        ,  0.        ])"
      ]
     },
     "execution_count": 14,
     "metadata": {},
     "output_type": "execute_result"
    }
   ],
   "source": [
    "result_test"
   ]
  },
  {
   "cell_type": "code",
   "execution_count": 15,
   "metadata": {},
   "outputs": [],
   "source": [
    "# np.save('0', result_test)"
   ]
  },
  {
   "cell_type": "code",
   "execution_count": 16,
   "metadata": {},
   "outputs": [],
   "source": [
    "# np.load('0.npy')"
   ]
  },
  {
   "cell_type": "markdown",
   "metadata": {},
   "source": [
    "# 4. Setup Folders for Collection"
   ]
  },
  {
   "cell_type": "code",
   "execution_count": 17,
   "metadata": {},
   "outputs": [],
   "source": [
    "# # create a main folder for collection\n",
    "# if not os.path.exists(os.path.join('Resources', 'My Sample Data','Test1')):\n",
    "#     os.makedirs(os.path.join('Resources', 'My Sample Data','Test1'))"
   ]
  },
  {
   "cell_type": "code",
   "execution_count": 154,
   "metadata": {},
   "outputs": [],
   "source": [
    "# Path for exported data, numpy arrays\n",
    "DATA_PATH = os.path.join('Resources', 'My Sample Data','Test17')\n",
    "\n",
    "# Actions that we try to detect\n",
    "#actions = np.array(['NoSign','hello', 'thanks', 'iloveyou'])\n",
    "actions = np.array(['hello', 'sup'])\n",
    "\n",
    "# 40 videos worth of data\n",
    "no_sequences = 5\n",
    "\n",
    "# Videos are going to be 25 frames in length\n",
    "sequence_length = 25\n",
    "\n",
    "# Folder start\n",
    "start_folder = 30"
   ]
  },
  {
   "cell_type": "code",
   "execution_count": 155,
   "metadata": {},
   "outputs": [],
   "source": [
    "# [30 videos x No. of actions, 30 frames per video, 1662 datapoints per frame]"
   ]
  },
  {
   "cell_type": "code",
   "execution_count": 156,
   "metadata": {},
   "outputs": [],
   "source": [
    "for action in actions: \n",
    "    for sequence in range(no_sequences):\n",
    "        try: \n",
    "            os.makedirs(os.path.join(DATA_PATH, action, str(sequence)))\n",
    "        except:\n",
    "            pass"
   ]
  },
  {
   "cell_type": "code",
   "execution_count": 127,
   "metadata": {},
   "outputs": [],
   "source": [
    "# for action in actions: \n",
    "#     dirmax = np.max(np.array(os.listdir(os.path.join(DATA_PATH, action))).astype(int))\n",
    "#     for sequence in range(1,no_sequences+1):\n",
    "#         try: \n",
    "#             os.makedirs(os.path.join(DATA_PATH, action, str(dirmax+sequence)))\n",
    "#         except:\n",
    "#             pass"
   ]
  },
  {
   "cell_type": "markdown",
   "metadata": {},
   "source": [
    "# 5. Collect Keypoint Values for Training and Testing"
   ]
  },
  {
   "cell_type": "code",
   "execution_count": null,
   "metadata": {},
   "outputs": [],
   "source": [
    "cap = cv2.VideoCapture(0)\n",
    "# Set mediapipe model \n",
    "with mp_holistic.Holistic(min_detection_confidence=0.5, min_tracking_confidence=0.5) as holistic:\n",
    "    cv2.waitKey(2000)\n",
    "    # Loop through actions\n",
    "    for action in actions:\n",
    "        # Loop through sequences aka videos\n",
    "        blank_screen = np.zeros((480,640,3), dtype=\"uint8\")\n",
    "        cv2.imshow('OpenCV Feed', blank_screen)\n",
    "        cv2.putText(blank_screen, 'Action: {}'.format(action), (170,210), \n",
    "                   cv2.FONT_HERSHEY_SIMPLEX, 1.5, (0,255,0), 2, cv2.LINE_AA)\n",
    "        cv2.imshow('OpenCV Feed', blank_screen)\n",
    "        cv2.waitKey(2000)\n",
    "        \n",
    "        for sequence in range(no_sequences):\n",
    "            # Loop through video length aka sequence length\n",
    "            for frame_num in range(sequence_length):\n",
    "\n",
    "                # Read feed\n",
    "                ret, frame = cap.read()\n",
    "\n",
    "                # Make detections\n",
    "                image, results = mediapipe_detection(frame, holistic)\n",
    "                # print(results)\n",
    "\n",
    "                # Draw landmarks\n",
    "                draw_landmarks(image, results)\n",
    "                \n",
    "                # NEW Apply wait logic\n",
    "                if frame_num == 0: \n",
    "                    cv2.putText(image, 'STARTING COLLECTION', (120,200), \n",
    "                               cv2.FONT_HERSHEY_SIMPLEX, 1, (0,255, 0), 4, cv2.LINE_AA)\n",
    "                    cv2.putText(image, 'Collecting frames for {} Video Number {}'.format(action, sequence), (17,14), \n",
    "                               cv2.FONT_HERSHEY_SIMPLEX, 0.6, (0, 0, 255), 1, cv2.LINE_AA)\n",
    "                    # Show to screen\n",
    "                    cv2.imshow('OpenCV Feed', image)\n",
    "                    cv2.waitKey(2000)\n",
    "                else: \n",
    "                    cv2.putText(image, 'Collecting frames for {} Video Number {}'.format(action, sequence), (17,14), \n",
    "                               cv2.FONT_HERSHEY_SIMPLEX, 0.6, (0, 0, 255), 1, cv2.LINE_AA)\n",
    "                    # Show to screen\n",
    "                    cv2.imshow('OpenCV Feed', image)\n",
    "                \n",
    "                # NEW Export keypoints\n",
    "                keypoints = extract_keypoints(results)\n",
    "                npy_path = os.path.join(DATA_PATH, action, str(sequence), str(frame_num))\n",
    "                np.save(npy_path, keypoints)\n",
    "\n",
    "                # Break gracefully\n",
    "                if cv2.waitKey(1) & 0xFF == ord('q'):\n",
    "                    break\n",
    "                    \n",
    "    cap.release()\n",
    "    cv2.destroyAllWindows()"
   ]
  },
  {
   "cell_type": "code",
   "execution_count": 215,
   "metadata": {},
   "outputs": [],
   "source": [
    "cap.release()\n",
    "cv2.destroyAllWindows()"
   ]
  },
  {
   "cell_type": "markdown",
   "metadata": {},
   "source": [
    "# Preprocess Data - Multiple Persons"
   ]
  },
  {
   "cell_type": "code",
   "execution_count": null,
   "metadata": {},
   "outputs": [],
   "source": [
    "from sklearn.model_selection import train_test_split\n",
    "from tensorflow.keras.utils import to_categorical"
   ]
  },
  {
   "cell_type": "code",
   "execution_count": 119,
   "metadata": {},
   "outputs": [],
   "source": [
    "actions = np.array(['NoSign','hello', 'thanks', 'please', 'sorry', 'you','where'])\n",
    "label_map = {label:num for num, label in enumerate(actions)}\n",
    "no_sequences = 40\n",
    "sequence_length = 25\n",
    "\n",
    "DATA_PATH = os.path.join('Resources', 'My Sample Data','Aamir','Data Collection')\n",
    "sequences1, labels1 = [], []\n",
    "for action in actions:\n",
    "    for sequence in np.array(os.listdir(os.path.join(DATA_PATH, action))).astype(int):\n",
    "        window = []\n",
    "        for frame_num in range(sequence_length):\n",
    "            res = np.load(os.path.join(DATA_PATH, action, str(sequence), \"{}.npy\".format(frame_num)))\n",
    "            window.append(res)\n",
    "        sequences1.append(window)\n",
    "        labels1.append(label_map[action])\n",
    "        \n",
    "DATA_PATH = os.path.join('Resources', 'My Sample Data','Adam','Data Collection')\n",
    "sequences2, labels2 = [], []\n",
    "for action in actions:\n",
    "    for sequence in np.array(os.listdir(os.path.join(DATA_PATH, action))).astype(int):\n",
    "        window = []\n",
    "        for frame_num in range(sequence_length):\n",
    "            res = np.load(os.path.join(DATA_PATH, action, str(sequence), \"{}.npy\".format(frame_num)))\n",
    "            window.append(res)\n",
    "        sequences2.append(window)\n",
    "        labels2.append(label_map[action])\n",
    "        \n",
    "DATA_PATH = os.path.join('Resources', 'My Sample Data','Ayesha','Data Collection')\n",
    "sequences3, labels3 = [], []\n",
    "for action in actions:\n",
    "    for sequence in np.array(os.listdir(os.path.join(DATA_PATH, action))).astype(int):\n",
    "        window = []\n",
    "        for frame_num in range(sequence_length):\n",
    "            res = np.load(os.path.join(DATA_PATH, action, str(sequence), \"{}.npy\".format(frame_num)))\n",
    "            window.append(res)\n",
    "        sequences3.append(window)\n",
    "        labels3.append(label_map[action])"
   ]
  },
  {
   "cell_type": "code",
   "execution_count": 120,
   "metadata": {},
   "outputs": [],
   "source": [
    "X1 = np.array(sequences1)\n",
    "X2 = np.array(sequences2)\n",
    "X3 = np.array(sequences3)\n",
    "\n",
    "X_final = np.append(np.append(np.append(X1, X2, axis=0),X3, axis=0)) #,X16, axis=0)"
   ]
  },
  {
   "cell_type": "code",
   "execution_count": 121,
   "metadata": {},
   "outputs": [
    {
     "data": {
      "text/plain": [
       "(120, 25, 1662)"
      ]
     },
     "execution_count": 121,
     "metadata": {},
     "output_type": "execute_result"
    }
   ],
   "source": [
    "X14.shape"
   ]
  },
  {
   "cell_type": "code",
   "execution_count": 122,
   "metadata": {},
   "outputs": [
    {
     "data": {
      "text/plain": [
       "(420, 25, 1662)"
      ]
     },
     "execution_count": 122,
     "metadata": {},
     "output_type": "execute_result"
    }
   ],
   "source": [
    "X_final.shape"
   ]
  },
  {
   "cell_type": "code",
   "execution_count": 123,
   "metadata": {},
   "outputs": [],
   "source": [
    "y = np.array(labels8+labels14+labels15+labels16)\n",
    "y_final = to_categorical(y).astype(int)"
   ]
  },
  {
   "cell_type": "code",
   "execution_count": 129,
   "metadata": {},
   "outputs": [],
   "source": [
    "X_train, X_test, y_train, y_test = train_test_split(X_final, y_final, test_size=0.05)"
   ]
  },
  {
   "cell_type": "code",
   "execution_count": 142,
   "metadata": {},
   "outputs": [],
   "source": [
    "# actions = np.array(['NoSign','hello', 'thanks', 'iloveyou','please', 'yourewelcome', 'sorry'])\n",
    "# label_map = {label:num for num, label in enumerate(actions)}"
   ]
  },
  {
   "cell_type": "code",
   "execution_count": 143,
   "metadata": {},
   "outputs": [],
   "source": [
    "# label_map"
   ]
  },
  {
   "cell_type": "markdown",
   "metadata": {},
   "source": [
    "# 6. Preprocess Data and Create Labels and Features"
   ]
  },
  {
   "cell_type": "code",
   "execution_count": 130,
   "metadata": {},
   "outputs": [],
   "source": [
    "from sklearn.model_selection import train_test_split\n",
    "from tensorflow.keras.utils import to_categorical"
   ]
  },
  {
   "cell_type": "code",
   "execution_count": 22,
   "metadata": {},
   "outputs": [],
   "source": [
    "label_map = {label:num for num, label in enumerate(actions)}"
   ]
  },
  {
   "cell_type": "code",
   "execution_count": 23,
   "metadata": {},
   "outputs": [
    {
     "data": {
      "text/plain": [
       "{'NoSign': 0, 'hello': 1, 'thanks': 2, 'iloveyou': 3}"
      ]
     },
     "execution_count": 23,
     "metadata": {},
     "output_type": "execute_result"
    }
   ],
   "source": [
    "label_map"
   ]
  },
  {
   "cell_type": "code",
   "execution_count": null,
   "metadata": {},
   "outputs": [],
   "source": [
    "DATA_PATH = os.path.join('Resources', 'My Sample Data','Test1')\n",
    "\n",
    "sequences, labels = [], []\n",
    "for action in actions:\n",
    "    for sequence in np.array(os.listdir(os.path.join(DATA_PATH, action))).astype(int):\n",
    "        window = []\n",
    "        for frame_num in range(sequence_length):\n",
    "            res = np.load(os.path.join(DATA_PATH, action, str(sequence), \"{}.npy\".format(frame_num)))\n",
    "            window.append(res)\n",
    "        sequences.append(window)\n",
    "        labels.append(label_map[action])"
   ]
  },
  {
   "cell_type": "code",
   "execution_count": 23,
   "metadata": {},
   "outputs": [
    {
     "data": {
      "text/plain": [
       "(90, 30, 1662)"
      ]
     },
     "execution_count": 23,
     "metadata": {},
     "output_type": "execute_result"
    }
   ],
   "source": [
    "np.array(sequences).shape"
   ]
  },
  {
   "cell_type": "code",
   "execution_count": 24,
   "metadata": {},
   "outputs": [
    {
     "data": {
      "text/plain": [
       "(90,)"
      ]
     },
     "execution_count": 24,
     "metadata": {},
     "output_type": "execute_result"
    }
   ],
   "source": [
    "np.array(labels).shape"
   ]
  },
  {
   "cell_type": "code",
   "execution_count": 25,
   "metadata": {},
   "outputs": [],
   "source": [
    "X = np.array(sequences)"
   ]
  },
  {
   "cell_type": "code",
   "execution_count": 26,
   "metadata": {},
   "outputs": [
    {
     "data": {
      "text/plain": [
       "(90, 30, 1662)"
      ]
     },
     "execution_count": 26,
     "metadata": {},
     "output_type": "execute_result"
    }
   ],
   "source": [
    "X.shape"
   ]
  },
  {
   "cell_type": "code",
   "execution_count": 27,
   "metadata": {},
   "outputs": [],
   "source": [
    "y = to_categorical(labels).astype(int)"
   ]
  },
  {
   "cell_type": "code",
   "execution_count": 28,
   "metadata": {},
   "outputs": [],
   "source": [
    "X_train, X_test, y_train, y_test = train_test_split(X, y, test_size=0.05)"
   ]
  },
  {
   "cell_type": "code",
   "execution_count": 29,
   "metadata": {},
   "outputs": [
    {
     "data": {
      "text/plain": [
       "(5, 3)"
      ]
     },
     "execution_count": 29,
     "metadata": {},
     "output_type": "execute_result"
    }
   ],
   "source": [
    "y_test.shape"
   ]
  },
  {
   "cell_type": "markdown",
   "metadata": {},
   "source": [
    "# 7. Build and Train LSTM Neural Network"
   ]
  },
  {
   "cell_type": "code",
   "execution_count": 134,
   "metadata": {},
   "outputs": [],
   "source": [
    "from tensorflow.keras.models import Sequential\n",
    "from tensorflow.keras.layers import LSTM, Dense\n",
    "from tensorflow.keras.callbacks import TensorBoard\n",
    "from tensorflow.keras.callbacks import ModelCheckpoint"
   ]
  },
  {
   "cell_type": "code",
   "execution_count": 135,
   "metadata": {},
   "outputs": [],
   "source": [
    "# log_dir = os.path.join('Logs')\n",
    "# tb_callback = TensorBoard(log_dir=log_dir)\n",
    "\n",
    "# run on notebook using: %tensorboard --logdir logs/fit"
   ]
  },
  {
   "cell_type": "code",
   "execution_count": 136,
   "metadata": {},
   "outputs": [],
   "source": [
    "model = Sequential()\n",
    "model.add(LSTM(64, return_sequences=True, activation='relu', input_shape=(25,1662)))\n",
    "model.add(LSTM(128, return_sequences=True, activation='relu'))\n",
    "model.add(LSTM(64, return_sequences=False, activation='relu'))\n",
    "model.add(Dense(64, activation='relu'))\n",
    "model.add(Dense(32, activation='relu'))\n",
    "model.add(Dense(actions.shape[0], activation='softmax'))"
   ]
  },
  {
   "cell_type": "code",
   "execution_count": 137,
   "metadata": {},
   "outputs": [],
   "source": [
    "model.compile(optimizer='Adam', loss='categorical_crossentropy', metrics=['categorical_accuracy'])"
   ]
  },
  {
   "cell_type": "code",
   "execution_count": 138,
   "metadata": {},
   "outputs": [],
   "source": [
    "# path_1 = r'C:\\Users\\aamir\\Desktop\\UOWD\\4 th year\\Autmn 2022 - semester\\CSIT321 - Project\\Computer Vision\\Trial'"
   ]
  },
  {
   "cell_type": "code",
   "execution_count": 139,
   "metadata": {},
   "outputs": [],
   "source": [
    "# os.path.join(path_1,'Saved Best Models',\"ep{epoch:03d}-loss{loss:.3f}.h5\")"
   ]
  },
  {
   "cell_type": "code",
   "execution_count": 140,
   "metadata": {},
   "outputs": [],
   "source": [
    "checkpoint_filepath = os.path.join('Saved Best Models',\"Demo.h5\")\n",
    "model_checkpoint_callback = ModelCheckpoint(\n",
    "    filepath=checkpoint_filepath,\n",
    "    save_weights_only=False,\n",
    "    monitor='loss', # or 'categorical_accuracy'\n",
    "    mode='min', # or max\n",
    "    save_best_only=True)"
   ]
  },
  {
   "cell_type": "code",
   "execution_count": 141,
   "metadata": {
    "scrolled": true
   },
   "outputs": [
    {
     "name": "stdout",
     "output_type": "stream",
     "text": [
      "Epoch 1/1000\n",
      "13/13 [==============================] - 5s 92ms/step - loss: 2.1663 - categorical_accuracy: 0.1599\n",
      "Epoch 2/1000\n",
      "13/13 [==============================] - 1s 96ms/step - loss: 2.2601 - categorical_accuracy: 0.2833\n",
      "Epoch 3/1000\n",
      "13/13 [==============================] - 1s 90ms/step - loss: 1.6839 - categorical_accuracy: 0.2935\n",
      "Epoch 4/1000\n",
      "13/13 [==============================] - 1s 94ms/step - loss: 1.2651 - categorical_accuracy: 0.4383\n",
      "Epoch 5/1000\n",
      "13/13 [==============================] - 1s 89ms/step - loss: 0.8904 - categorical_accuracy: 0.5548\n",
      "Epoch 6/1000\n",
      "13/13 [==============================] - 1s 93ms/step - loss: 0.8152 - categorical_accuracy: 0.5994\n",
      "Epoch 7/1000\n",
      "13/13 [==============================] - 1s 86ms/step - loss: 0.8055 - categorical_accuracy: 0.6120\n",
      "Epoch 8/1000\n",
      "13/13 [==============================] - 1s 110ms/step - loss: 1.0021 - categorical_accuracy: 0.5648\n",
      "Epoch 9/1000\n",
      "13/13 [==============================] - 1s 85ms/step - loss: 0.7789 - categorical_accuracy: 0.6326\n",
      "Epoch 10/1000\n",
      "13/13 [==============================] - 1s 89ms/step - loss: 0.7691 - categorical_accuracy: 0.6274\n",
      "Epoch 11/1000\n",
      "13/13 [==============================] - 1s 85ms/step - loss: 0.9081 - categorical_accuracy: 0.5512 0s - loss: 0.9273 - categorical_accuracy: \n",
      "Epoch 12/1000\n",
      "13/13 [==============================] - 1s 84ms/step - loss: 0.6913 - categorical_accuracy: 0.6369\n",
      "Epoch 13/1000\n",
      "13/13 [==============================] - 1s 114ms/step - loss: 0.5627 - categorical_accuracy: 0.6643\n",
      "Epoch 14/1000\n",
      "13/13 [==============================] - 1s 112ms/step - loss: 0.4525 - categorical_accuracy: 0.8008\n",
      "Epoch 15/1000\n",
      "13/13 [==============================] - 1s 86ms/step - loss: 0.6477 - categorical_accuracy: 0.6785\n",
      "Epoch 16/1000\n",
      "13/13 [==============================] - 1s 108ms/step - loss: 0.5506 - categorical_accuracy: 0.7196\n",
      "Epoch 17/1000\n",
      "13/13 [==============================] - 2s 117ms/step - loss: 2.1369 - categorical_accuracy: 0.3728\n",
      "Epoch 18/1000\n",
      "13/13 [==============================] - 1s 114ms/step - loss: 0.9836 - categorical_accuracy: 0.5483\n",
      "Epoch 19/1000\n",
      "13/13 [==============================] - 1s 112ms/step - loss: 0.7030 - categorical_accuracy: 0.6393\n",
      "Epoch 20/1000\n",
      "13/13 [==============================] - 1s 106ms/step - loss: 0.5421 - categorical_accuracy: 0.7441\n",
      "Epoch 21/1000\n",
      "13/13 [==============================] - 2s 123ms/step - loss: 0.4545 - categorical_accuracy: 0.8071\n",
      "Epoch 22/1000\n",
      "13/13 [==============================] - 1s 106ms/step - loss: 0.3667 - categorical_accuracy: 0.8253\n",
      "Epoch 23/1000\n",
      "13/13 [==============================] - 2s 127ms/step - loss: 0.4298 - categorical_accuracy: 0.7962\n",
      "Epoch 24/1000\n",
      "13/13 [==============================] - 2s 130ms/step - loss: 0.3703 - categorical_accuracy: 0.8432\n",
      "Epoch 25/1000\n",
      "13/13 [==============================] - 1s 102ms/step - loss: 0.3538 - categorical_accuracy: 0.8385\n",
      "Epoch 26/1000\n",
      "13/13 [==============================] - 1s 100ms/step - loss: 0.5581 - categorical_accuracy: 0.7375\n",
      "Epoch 27/1000\n",
      "13/13 [==============================] - 1s 97ms/step - loss: 0.4637 - categorical_accuracy: 0.8154\n",
      "Epoch 28/1000\n",
      "13/13 [==============================] - 1s 96ms/step - loss: 0.2902 - categorical_accuracy: 0.8605\n",
      "Epoch 29/1000\n",
      "13/13 [==============================] - 1s 95ms/step - loss: 0.3019 - categorical_accuracy: 0.8556\n",
      "Epoch 30/1000\n",
      "13/13 [==============================] - 1s 95ms/step - loss: 0.3370 - categorical_accuracy: 0.8326\n",
      "Epoch 31/1000\n",
      "13/13 [==============================] - 1s 97ms/step - loss: 0.3217 - categorical_accuracy: 0.8635\n",
      "Epoch 32/1000\n",
      "13/13 [==============================] - 1s 95ms/step - loss: 0.2184 - categorical_accuracy: 0.9116\n",
      "Epoch 33/1000\n",
      "13/13 [==============================] - 1s 91ms/step - loss: 0.2303 - categorical_accuracy: 0.9136\n",
      "Epoch 34/1000\n",
      "13/13 [==============================] - 1s 93ms/step - loss: 0.2787 - categorical_accuracy: 0.8660\n",
      "Epoch 35/1000\n",
      "13/13 [==============================] - 1s 92ms/step - loss: 0.5540 - categorical_accuracy: 0.7413\n",
      "Epoch 36/1000\n",
      "13/13 [==============================] - 1s 93ms/step - loss: 0.4359 - categorical_accuracy: 0.7734\n",
      "Epoch 37/1000\n",
      "13/13 [==============================] - 1s 94ms/step - loss: 0.2867 - categorical_accuracy: 0.8561\n",
      "Epoch 38/1000\n",
      "13/13 [==============================] - 1s 92ms/step - loss: 0.2139 - categorical_accuracy: 0.8813\n",
      "Epoch 39/1000\n",
      "13/13 [==============================] - 1s 96ms/step - loss: 0.1802 - categorical_accuracy: 0.9408\n",
      "Epoch 40/1000\n",
      "13/13 [==============================] - 1s 95ms/step - loss: 0.2781 - categorical_accuracy: 0.8609\n",
      "Epoch 41/1000\n",
      "13/13 [==============================] - 1s 95ms/step - loss: 0.2051 - categorical_accuracy: 0.9303\n",
      "Epoch 42/1000\n",
      "13/13 [==============================] - 1s 94ms/step - loss: 0.1216 - categorical_accuracy: 0.9566\n",
      "Epoch 43/1000\n",
      "13/13 [==============================] - 1s 92ms/step - loss: 0.2113 - categorical_accuracy: 0.9192 0s - loss: 0.2230 - categori\n",
      "Epoch 44/1000\n",
      "13/13 [==============================] - 1s 90ms/step - loss: 0.1556 - categorical_accuracy: 0.9373\n",
      "Epoch 45/1000\n",
      "13/13 [==============================] - 1s 88ms/step - loss: 0.0911 - categorical_accuracy: 0.9727\n",
      "Epoch 46/1000\n",
      "13/13 [==============================] - 1s 90ms/step - loss: 0.0610 - categorical_accuracy: 0.9763\n",
      "Epoch 47/1000\n",
      "13/13 [==============================] - 1s 90ms/step - loss: 0.1789 - categorical_accuracy: 0.9104\n",
      "Epoch 48/1000\n",
      "13/13 [==============================] - 1s 91ms/step - loss: 0.0797 - categorical_accuracy: 0.9545\n",
      "Epoch 49/1000\n",
      "13/13 [==============================] - 1s 89ms/step - loss: 0.3558 - categorical_accuracy: 0.8611\n",
      "Epoch 50/1000\n",
      "13/13 [==============================] - 1s 91ms/step - loss: 0.1311 - categorical_accuracy: 0.9770\n",
      "Epoch 51/1000\n",
      "13/13 [==============================] - 1s 89ms/step - loss: 0.1305 - categorical_accuracy: 0.9604\n",
      "Epoch 52/1000\n",
      "13/13 [==============================] - 1s 91ms/step - loss: 0.1360 - categorical_accuracy: 0.9547\n",
      "Epoch 53/1000\n",
      "13/13 [==============================] - 1s 90ms/step - loss: 0.0905 - categorical_accuracy: 0.9636\n",
      "Epoch 54/1000\n",
      "13/13 [==============================] - 1s 90ms/step - loss: 0.3935 - categorical_accuracy: 0.8530\n",
      "Epoch 55/1000\n",
      "13/13 [==============================] - 1s 97ms/step - loss: 0.1553 - categorical_accuracy: 0.9525\n",
      "Epoch 56/1000\n",
      "13/13 [==============================] - 1s 100ms/step - loss: 0.0743 - categorical_accuracy: 0.9780\n",
      "Epoch 57/1000\n",
      "13/13 [==============================] - 1s 92ms/step - loss: 0.3273 - categorical_accuracy: 0.8757\n",
      "Epoch 58/1000\n",
      "13/13 [==============================] - 1s 103ms/step - loss: 0.1520 - categorical_accuracy: 0.9507\n",
      "Epoch 59/1000\n",
      "13/13 [==============================] - 1s 93ms/step - loss: 0.0786 - categorical_accuracy: 0.9660\n",
      "Epoch 60/1000\n",
      "13/13 [==============================] - 1s 101ms/step - loss: 0.0249 - categorical_accuracy: 0.9974\n",
      "Epoch 61/1000\n",
      "13/13 [==============================] - 1s 108ms/step - loss: 0.0814 - categorical_accuracy: 0.9579\n",
      "Epoch 62/1000\n",
      "13/13 [==============================] - 1s 108ms/step - loss: 0.0248 - categorical_accuracy: 0.9968\n",
      "Epoch 63/1000\n",
      "13/13 [==============================] - 1s 107ms/step - loss: 0.0078 - categorical_accuracy: 1.0000\n",
      "Epoch 64/1000\n",
      "13/13 [==============================] - 1s 93ms/step - loss: 0.0020 - categorical_accuracy: 1.0000\n",
      "Epoch 65/1000\n",
      "13/13 [==============================] - 1s 102ms/step - loss: 8.7548e-04 - categorical_accuracy: 1.0000\n",
      "Epoch 66/1000\n",
      "13/13 [==============================] - 1s 99ms/step - loss: 8.5440e-04 - categorical_accuracy: 1.0000 0s - loss: 8.8362e-04 - categorical_ac\n",
      "Epoch 67/1000\n",
      "13/13 [==============================] - 1s 96ms/step - loss: 6.9107e-04 - categorical_accuracy: 1.0000\n",
      "Epoch 68/1000\n",
      "13/13 [==============================] - 1s 95ms/step - loss: 5.7380e-04 - categorical_accuracy: 1.0000\n",
      "Epoch 69/1000\n",
      "13/13 [==============================] - 1s 93ms/step - loss: 3.9639e-04 - categorical_accuracy: 1.0000\n",
      "Epoch 70/1000\n",
      "13/13 [==============================] - 1s 93ms/step - loss: 3.8154e-04 - categorical_accuracy: 1.0000\n",
      "Epoch 71/1000\n"
     ]
    },
    {
     "name": "stdout",
     "output_type": "stream",
     "text": [
      "13/13 [==============================] - 1s 92ms/step - loss: 3.6074e-04 - categorical_accuracy: 1.0000\n",
      "Epoch 72/1000\n",
      "13/13 [==============================] - 1s 93ms/step - loss: 2.6852e-04 - categorical_accuracy: 1.0000\n",
      "Epoch 73/1000\n",
      "13/13 [==============================] - 1s 92ms/step - loss: 2.1506e-04 - categorical_accuracy: 1.0000\n",
      "Epoch 74/1000\n",
      "13/13 [==============================] - 1s 92ms/step - loss: 2.1004e-04 - categorical_accuracy: 1.0000\n",
      "Epoch 75/1000\n",
      "13/13 [==============================] - 1s 90ms/step - loss: 2.3717e-04 - categorical_accuracy: 1.0000\n",
      "Epoch 76/1000\n",
      "13/13 [==============================] - 1s 98ms/step - loss: 2.3920e-04 - categorical_accuracy: 1.0000\n",
      "Epoch 77/1000\n",
      "13/13 [==============================] - 1s 95ms/step - loss: 1.7521e-04 - categorical_accuracy: 1.0000\n",
      "Epoch 78/1000\n",
      "13/13 [==============================] - 1s 91ms/step - loss: 1.8592e-04 - categorical_accuracy: 1.0000\n",
      "Epoch 79/1000\n",
      "13/13 [==============================] - 1s 98ms/step - loss: 1.7617e-04 - categorical_accuracy: 1.0000\n",
      "Epoch 80/1000\n",
      "13/13 [==============================] - 2s 117ms/step - loss: 1.9562e-04 - categorical_accuracy: 1.0000\n",
      "Epoch 81/1000\n",
      "13/13 [==============================] - 2s 124ms/step - loss: 2.2995e-04 - categorical_accuracy: 1.0000\n",
      "Epoch 82/1000\n",
      "13/13 [==============================] - 1s 96ms/step - loss: 1.3155e-04 - categorical_accuracy: 1.0000\n",
      "Epoch 83/1000\n",
      "13/13 [==============================] - 1s 93ms/step - loss: 1.7622e-04 - categorical_accuracy: 1.0000\n",
      "Epoch 84/1000\n",
      "13/13 [==============================] - 1s 92ms/step - loss: 1.1552e-04 - categorical_accuracy: 1.0000\n",
      "Epoch 85/1000\n",
      "13/13 [==============================] - 1s 90ms/step - loss: 9.4284e-05 - categorical_accuracy: 1.0000\n",
      "Epoch 86/1000\n",
      "13/13 [==============================] - 1s 89ms/step - loss: 9.9110e-05 - categorical_accuracy: 1.0000\n",
      "Epoch 87/1000\n",
      "13/13 [==============================] - 1s 93ms/step - loss: 8.3367e-05 - categorical_accuracy: 1.0000\n",
      "Epoch 88/1000\n",
      "13/13 [==============================] - 1s 93ms/step - loss: 7.8652e-05 - categorical_accuracy: 1.0000\n",
      "Epoch 89/1000\n",
      "13/13 [==============================] - 1s 93ms/step - loss: 7.4262e-05 - categorical_accuracy: 1.0000 0s - loss: 6.4852e-05 - categorical_accu\n",
      "Epoch 90/1000\n",
      "13/13 [==============================] - 1s 95ms/step - loss: 7.8303e-05 - categorical_accuracy: 1.0000\n",
      "Epoch 91/1000\n",
      "13/13 [==============================] - 1s 93ms/step - loss: 1.1709e-04 - categorical_accuracy: 1.0000 0s - loss: 1.2851e-04 - categorical_accuracy: \n",
      "Epoch 92/1000\n",
      "13/13 [==============================] - 1s 101ms/step - loss: 7.4864e-05 - categorical_accuracy: 1.0000\n",
      "Epoch 93/1000\n",
      "13/13 [==============================] - 1s 103ms/step - loss: 6.4068e-05 - categorical_accuracy: 1.0000\n",
      "Epoch 94/1000\n",
      "13/13 [==============================] - 1s 95ms/step - loss: 6.6362e-05 - categorical_accuracy: 1.0000\n",
      "Epoch 95/1000\n",
      "13/13 [==============================] - 1s 91ms/step - loss: 6.3542e-05 - categorical_accuracy: 1.0000\n",
      "Epoch 96/1000\n",
      "13/13 [==============================] - 1s 93ms/step - loss: 3.8476e-05 - categorical_accuracy: 1.0000 0s - loss: 3.5315e-05 - categorica\n",
      "Epoch 97/1000\n",
      "13/13 [==============================] - 1s 90ms/step - loss: 4.4144e-05 - categorical_accuracy: 1.0000\n",
      "Epoch 98/1000\n",
      "13/13 [==============================] - 1s 92ms/step - loss: 6.1872e-05 - categorical_accuracy: 1.0000\n",
      "Epoch 99/1000\n",
      "13/13 [==============================] - 1s 102ms/step - loss: 8.7495e-05 - categorical_accuracy: 1.0000\n",
      "Epoch 100/1000\n",
      "13/13 [==============================] - 1s 96ms/step - loss: 3.8119e-05 - categorical_accuracy: 1.0000\n",
      "Epoch 101/1000\n",
      "13/13 [==============================] - 1s 110ms/step - loss: 4.3005e-05 - categorical_accuracy: 1.0000\n",
      "Epoch 102/1000\n",
      "13/13 [==============================] - 1s 104ms/step - loss: 6.3059e-05 - categorical_accuracy: 1.0000\n",
      "Epoch 103/1000\n",
      "13/13 [==============================] - 1s 101ms/step - loss: 7.8604e-05 - categorical_accuracy: 1.0000\n",
      "Epoch 104/1000\n",
      "13/13 [==============================] - 1s 113ms/step - loss: 3.1064e-05 - categorical_accuracy: 1.0000\n",
      "Epoch 105/1000\n",
      "13/13 [==============================] - 1s 106ms/step - loss: 1.4829e-05 - categorical_accuracy: 1.0000\n",
      "Epoch 106/1000\n",
      "13/13 [==============================] - 2s 120ms/step - loss: 2.1514e-05 - categorical_accuracy: 1.0000\n",
      "Epoch 107/1000\n",
      "13/13 [==============================] - 1s 95ms/step - loss: 3.3451e-05 - categorical_accuracy: 1.0000\n",
      "Epoch 108/1000\n",
      "13/13 [==============================] - 1s 92ms/step - loss: 2.0500e-05 - categorical_accuracy: 1.0000\n",
      "Epoch 109/1000\n",
      "13/13 [==============================] - 1s 90ms/step - loss: 3.4939e-05 - categorical_accuracy: 1.0000\n",
      "Epoch 110/1000\n",
      "13/13 [==============================] - 1s 98ms/step - loss: 2.6512e-05 - categorical_accuracy: 1.0000\n",
      "Epoch 111/1000\n",
      "13/13 [==============================] - 1s 104ms/step - loss: 2.7289e-05 - categorical_accuracy: 1.0000\n",
      "Epoch 112/1000\n",
      "13/13 [==============================] - 1s 108ms/step - loss: 4.2904e-05 - categorical_accuracy: 1.0000\n",
      "Epoch 113/1000\n",
      "13/13 [==============================] - 2s 119ms/step - loss: 2.2621e-05 - categorical_accuracy: 1.0000\n",
      "Epoch 114/1000\n",
      "13/13 [==============================] - 1s 107ms/step - loss: 1.7842e-05 - categorical_accuracy: 1.0000\n",
      "Epoch 115/1000\n",
      "13/13 [==============================] - 1s 92ms/step - loss: 3.3752e-05 - categorical_accuracy: 1.0000\n",
      "Epoch 116/1000\n",
      "13/13 [==============================] - 1s 92ms/step - loss: 2.3825e-05 - categorical_accuracy: 1.0000\n",
      "Epoch 117/1000\n",
      "13/13 [==============================] - 1s 91ms/step - loss: 1.6590e-05 - categorical_accuracy: 1.0000\n",
      "Epoch 118/1000\n",
      "13/13 [==============================] - 1s 90ms/step - loss: 2.0474e-05 - categorical_accuracy: 1.0000\n",
      "Epoch 119/1000\n",
      "13/13 [==============================] - 1s 90ms/step - loss: 3.1651e-05 - categorical_accuracy: 1.0000\n",
      "Epoch 120/1000\n",
      "13/13 [==============================] - 1s 89ms/step - loss: 1.7574e-05 - categorical_accuracy: 1.0000\n",
      "Epoch 121/1000\n",
      "13/13 [==============================] - 1s 91ms/step - loss: 2.1554e-05 - categorical_accuracy: 1.0000\n",
      "Epoch 122/1000\n",
      "13/13 [==============================] - 1s 91ms/step - loss: 3.1890e-05 - categorical_accuracy: 1.0000\n",
      "Epoch 123/1000\n",
      "13/13 [==============================] - 1s 91ms/step - loss: 2.4974e-05 - categorical_accuracy: 1.0000\n",
      "Epoch 124/1000\n",
      "13/13 [==============================] - 1s 91ms/step - loss: 2.1316e-05 - categorical_accuracy: 1.0000\n",
      "Epoch 125/1000\n",
      "13/13 [==============================] - 1s 89ms/step - loss: 4.4281e-05 - categorical_accuracy: 1.0000\n",
      "Epoch 126/1000\n",
      "13/13 [==============================] - 1s 91ms/step - loss: 1.3735e-05 - categorical_accuracy: 1.0000\n",
      "Epoch 127/1000\n",
      "13/13 [==============================] - 1s 88ms/step - loss: 2.5725e-05 - categorical_accuracy: 1.0000\n",
      "Epoch 128/1000\n",
      "13/13 [==============================] - 1s 91ms/step - loss: 1.0390e-05 - categorical_accuracy: 1.0000\n",
      "Epoch 129/1000\n",
      "13/13 [==============================] - 1s 101ms/step - loss: 1.2387e-05 - categorical_accuracy: 1.0000\n",
      "Epoch 130/1000\n",
      "13/13 [==============================] - 1s 101ms/step - loss: 1.1825e-05 - categorical_accuracy: 1.0000\n",
      "Epoch 131/1000\n",
      "13/13 [==============================] - 1s 99ms/step - loss: 2.1455e-05 - categorical_accuracy: 1.0000\n",
      "Epoch 132/1000\n",
      "13/13 [==============================] - 1s 97ms/step - loss: 1.6174e-05 - categorical_accuracy: 1.0000\n",
      "Epoch 133/1000\n",
      "13/13 [==============================] - 1s 98ms/step - loss: 1.4198e-05 - categorical_accuracy: 1.0000\n",
      "Epoch 134/1000\n",
      "13/13 [==============================] - 1s 96ms/step - loss: 1.5191e-05 - categorical_accuracy: 1.0000\n",
      "Epoch 135/1000\n",
      "13/13 [==============================] - 1s 100ms/step - loss: 1.1390e-05 - categorical_accuracy: 1.0000\n",
      "Epoch 136/1000\n",
      "13/13 [==============================] - 1s 100ms/step - loss: 1.9368e-05 - categorical_accuracy: 1.0000\n",
      "Epoch 137/1000\n",
      "13/13 [==============================] - 1s 96ms/step - loss: 1.5672e-05 - categorical_accuracy: 1.0000\n",
      "Epoch 138/1000\n",
      "13/13 [==============================] - 1s 96ms/step - loss: 3.1672e-05 - categorical_accuracy: 1.0000\n",
      "Epoch 139/1000\n"
     ]
    },
    {
     "name": "stdout",
     "output_type": "stream",
     "text": [
      "13/13 [==============================] - 1s 110ms/step - loss: 1.4061e-05 - categorical_accuracy: 1.0000\n",
      "Epoch 140/1000\n",
      "13/13 [==============================] - 2s 115ms/step - loss: 2.0556e-05 - categorical_accuracy: 1.0000\n",
      "Epoch 141/1000\n",
      "13/13 [==============================] - 1s 113ms/step - loss: 2.1772e-05 - categorical_accuracy: 1.0000\n",
      "Epoch 142/1000\n",
      "13/13 [==============================] - 1s 107ms/step - loss: 3.0252e-05 - categorical_accuracy: 1.00001s - loss: 6.2652e-05 - cate\n",
      "Epoch 143/1000\n",
      "13/13 [==============================] - 1s 101ms/step - loss: 1.2802e-05 - categorical_accuracy: 1.0000\n",
      "Epoch 144/1000\n",
      "13/13 [==============================] - 1s 99ms/step - loss: 1.3787e-05 - categorical_accuracy: 1.0000\n",
      "Epoch 145/1000\n",
      "13/13 [==============================] - 2s 120ms/step - loss: 1.2745e-05 - categorical_accuracy: 1.0000\n",
      "Epoch 146/1000\n",
      "13/13 [==============================] - 1s 101ms/step - loss: 1.3620e-05 - categorical_accuracy: 1.0000\n",
      "Epoch 147/1000\n",
      "13/13 [==============================] - 1s 106ms/step - loss: 1.3354e-05 - categorical_accuracy: 1.0000\n",
      "Epoch 148/1000\n",
      "13/13 [==============================] - 1s 95ms/step - loss: 1.7657e-05 - categorical_accuracy: 1.0000\n",
      "Epoch 149/1000\n",
      "11/13 [========================>.....] - ETA: 0s - loss: 1.5036e-05 - categorical_accuracy: 1.0000"
     ]
    },
    {
     "ename": "KeyboardInterrupt",
     "evalue": "",
     "output_type": "error",
     "traceback": [
      "\u001b[1;31m---------------------------------------------------------------------------\u001b[0m",
      "\u001b[1;31mKeyboardInterrupt\u001b[0m                         Traceback (most recent call last)",
      "\u001b[1;32m<ipython-input-141-54819fa3737e>\u001b[0m in \u001b[0;36m<module>\u001b[1;34m\u001b[0m\n\u001b[0;32m      1\u001b[0m \u001b[1;31m#model.fit(X_train, y_train, epochs=100, callbacks=[model_checkpoint_callback])\u001b[0m\u001b[1;33m\u001b[0m\u001b[1;33m\u001b[0m\u001b[1;33m\u001b[0m\u001b[0m\n\u001b[1;32m----> 2\u001b[1;33m \u001b[0mmodel\u001b[0m\u001b[1;33m.\u001b[0m\u001b[0mfit\u001b[0m\u001b[1;33m(\u001b[0m\u001b[0mX_train\u001b[0m\u001b[1;33m,\u001b[0m \u001b[0my_train\u001b[0m\u001b[1;33m,\u001b[0m \u001b[0mepochs\u001b[0m\u001b[1;33m=\u001b[0m\u001b[1;36m1000\u001b[0m\u001b[1;33m,\u001b[0m \u001b[0mcallbacks\u001b[0m\u001b[1;33m=\u001b[0m\u001b[1;33m[\u001b[0m\u001b[0mmodel_checkpoint_callback\u001b[0m\u001b[1;33m]\u001b[0m\u001b[1;33m)\u001b[0m\u001b[1;33m\u001b[0m\u001b[1;33m\u001b[0m\u001b[0m\n\u001b[0m\u001b[0;32m      3\u001b[0m \u001b[1;31m#model.fit(X_train, y_train, epochs=1000, batch_size=40, callbacks=[model_checkpoint_callback])\u001b[0m\u001b[1;33m\u001b[0m\u001b[1;33m\u001b[0m\u001b[1;33m\u001b[0m\u001b[0m\n",
      "\u001b[1;32m~\\anaconda3\\envs\\AamirAli\\lib\\site-packages\\tensorflow\\python\\keras\\engine\\training.py\u001b[0m in \u001b[0;36mfit\u001b[1;34m(self, x, y, batch_size, epochs, verbose, callbacks, validation_split, validation_data, shuffle, class_weight, sample_weight, initial_epoch, steps_per_epoch, validation_steps, validation_batch_size, validation_freq, max_queue_size, workers, use_multiprocessing)\u001b[0m\n\u001b[0;32m   1098\u001b[0m                 _r=1):\n\u001b[0;32m   1099\u001b[0m               \u001b[0mcallbacks\u001b[0m\u001b[1;33m.\u001b[0m\u001b[0mon_train_batch_begin\u001b[0m\u001b[1;33m(\u001b[0m\u001b[0mstep\u001b[0m\u001b[1;33m)\u001b[0m\u001b[1;33m\u001b[0m\u001b[1;33m\u001b[0m\u001b[0m\n\u001b[1;32m-> 1100\u001b[1;33m               \u001b[0mtmp_logs\u001b[0m \u001b[1;33m=\u001b[0m \u001b[0mself\u001b[0m\u001b[1;33m.\u001b[0m\u001b[0mtrain_function\u001b[0m\u001b[1;33m(\u001b[0m\u001b[0miterator\u001b[0m\u001b[1;33m)\u001b[0m\u001b[1;33m\u001b[0m\u001b[1;33m\u001b[0m\u001b[0m\n\u001b[0m\u001b[0;32m   1101\u001b[0m               \u001b[1;32mif\u001b[0m \u001b[0mdata_handler\u001b[0m\u001b[1;33m.\u001b[0m\u001b[0mshould_sync\u001b[0m\u001b[1;33m:\u001b[0m\u001b[1;33m\u001b[0m\u001b[1;33m\u001b[0m\u001b[0m\n\u001b[0;32m   1102\u001b[0m                 \u001b[0mcontext\u001b[0m\u001b[1;33m.\u001b[0m\u001b[0masync_wait\u001b[0m\u001b[1;33m(\u001b[0m\u001b[1;33m)\u001b[0m\u001b[1;33m\u001b[0m\u001b[1;33m\u001b[0m\u001b[0m\n",
      "\u001b[1;32m~\\anaconda3\\envs\\AamirAli\\lib\\site-packages\\tensorflow\\python\\eager\\def_function.py\u001b[0m in \u001b[0;36m__call__\u001b[1;34m(self, *args, **kwds)\u001b[0m\n\u001b[0;32m    826\u001b[0m     \u001b[0mtracing_count\u001b[0m \u001b[1;33m=\u001b[0m \u001b[0mself\u001b[0m\u001b[1;33m.\u001b[0m\u001b[0mexperimental_get_tracing_count\u001b[0m\u001b[1;33m(\u001b[0m\u001b[1;33m)\u001b[0m\u001b[1;33m\u001b[0m\u001b[1;33m\u001b[0m\u001b[0m\n\u001b[0;32m    827\u001b[0m     \u001b[1;32mwith\u001b[0m \u001b[0mtrace\u001b[0m\u001b[1;33m.\u001b[0m\u001b[0mTrace\u001b[0m\u001b[1;33m(\u001b[0m\u001b[0mself\u001b[0m\u001b[1;33m.\u001b[0m\u001b[0m_name\u001b[0m\u001b[1;33m)\u001b[0m \u001b[1;32mas\u001b[0m \u001b[0mtm\u001b[0m\u001b[1;33m:\u001b[0m\u001b[1;33m\u001b[0m\u001b[1;33m\u001b[0m\u001b[0m\n\u001b[1;32m--> 828\u001b[1;33m       \u001b[0mresult\u001b[0m \u001b[1;33m=\u001b[0m \u001b[0mself\u001b[0m\u001b[1;33m.\u001b[0m\u001b[0m_call\u001b[0m\u001b[1;33m(\u001b[0m\u001b[1;33m*\u001b[0m\u001b[0margs\u001b[0m\u001b[1;33m,\u001b[0m \u001b[1;33m**\u001b[0m\u001b[0mkwds\u001b[0m\u001b[1;33m)\u001b[0m\u001b[1;33m\u001b[0m\u001b[1;33m\u001b[0m\u001b[0m\n\u001b[0m\u001b[0;32m    829\u001b[0m       \u001b[0mcompiler\u001b[0m \u001b[1;33m=\u001b[0m \u001b[1;34m\"xla\"\u001b[0m \u001b[1;32mif\u001b[0m \u001b[0mself\u001b[0m\u001b[1;33m.\u001b[0m\u001b[0m_experimental_compile\u001b[0m \u001b[1;32melse\u001b[0m \u001b[1;34m\"nonXla\"\u001b[0m\u001b[1;33m\u001b[0m\u001b[1;33m\u001b[0m\u001b[0m\n\u001b[0;32m    830\u001b[0m       \u001b[0mnew_tracing_count\u001b[0m \u001b[1;33m=\u001b[0m \u001b[0mself\u001b[0m\u001b[1;33m.\u001b[0m\u001b[0mexperimental_get_tracing_count\u001b[0m\u001b[1;33m(\u001b[0m\u001b[1;33m)\u001b[0m\u001b[1;33m\u001b[0m\u001b[1;33m\u001b[0m\u001b[0m\n",
      "\u001b[1;32m~\\anaconda3\\envs\\AamirAli\\lib\\site-packages\\tensorflow\\python\\eager\\def_function.py\u001b[0m in \u001b[0;36m_call\u001b[1;34m(self, *args, **kwds)\u001b[0m\n\u001b[0;32m    853\u001b[0m       \u001b[1;31m# In this case we have created variables on the first call, so we run the\u001b[0m\u001b[1;33m\u001b[0m\u001b[1;33m\u001b[0m\u001b[1;33m\u001b[0m\u001b[0m\n\u001b[0;32m    854\u001b[0m       \u001b[1;31m# defunned version which is guaranteed to never create variables.\u001b[0m\u001b[1;33m\u001b[0m\u001b[1;33m\u001b[0m\u001b[1;33m\u001b[0m\u001b[0m\n\u001b[1;32m--> 855\u001b[1;33m       \u001b[1;32mreturn\u001b[0m \u001b[0mself\u001b[0m\u001b[1;33m.\u001b[0m\u001b[0m_stateless_fn\u001b[0m\u001b[1;33m(\u001b[0m\u001b[1;33m*\u001b[0m\u001b[0margs\u001b[0m\u001b[1;33m,\u001b[0m \u001b[1;33m**\u001b[0m\u001b[0mkwds\u001b[0m\u001b[1;33m)\u001b[0m  \u001b[1;31m# pylint: disable=not-callable\u001b[0m\u001b[1;33m\u001b[0m\u001b[1;33m\u001b[0m\u001b[0m\n\u001b[0m\u001b[0;32m    856\u001b[0m     \u001b[1;32melif\u001b[0m \u001b[0mself\u001b[0m\u001b[1;33m.\u001b[0m\u001b[0m_stateful_fn\u001b[0m \u001b[1;32mis\u001b[0m \u001b[1;32mnot\u001b[0m \u001b[1;32mNone\u001b[0m\u001b[1;33m:\u001b[0m\u001b[1;33m\u001b[0m\u001b[1;33m\u001b[0m\u001b[0m\n\u001b[0;32m    857\u001b[0m       \u001b[1;31m# Release the lock early so that multiple threads can perform the call\u001b[0m\u001b[1;33m\u001b[0m\u001b[1;33m\u001b[0m\u001b[1;33m\u001b[0m\u001b[0m\n",
      "\u001b[1;32m~\\anaconda3\\envs\\AamirAli\\lib\\site-packages\\tensorflow\\python\\eager\\function.py\u001b[0m in \u001b[0;36m__call__\u001b[1;34m(self, *args, **kwargs)\u001b[0m\n\u001b[0;32m   2941\u001b[0m        filtered_flat_args) = self._maybe_define_function(args, kwargs)\n\u001b[0;32m   2942\u001b[0m     return graph_function._call_flat(\n\u001b[1;32m-> 2943\u001b[1;33m         filtered_flat_args, captured_inputs=graph_function.captured_inputs)  # pylint: disable=protected-access\n\u001b[0m\u001b[0;32m   2944\u001b[0m \u001b[1;33m\u001b[0m\u001b[0m\n\u001b[0;32m   2945\u001b[0m   \u001b[1;33m@\u001b[0m\u001b[0mproperty\u001b[0m\u001b[1;33m\u001b[0m\u001b[1;33m\u001b[0m\u001b[0m\n",
      "\u001b[1;32m~\\anaconda3\\envs\\AamirAli\\lib\\site-packages\\tensorflow\\python\\eager\\function.py\u001b[0m in \u001b[0;36m_call_flat\u001b[1;34m(self, args, captured_inputs, cancellation_manager)\u001b[0m\n\u001b[0;32m   1917\u001b[0m       \u001b[1;31m# No tape is watching; skip to running the function.\u001b[0m\u001b[1;33m\u001b[0m\u001b[1;33m\u001b[0m\u001b[1;33m\u001b[0m\u001b[0m\n\u001b[0;32m   1918\u001b[0m       return self._build_call_outputs(self._inference_function.call(\n\u001b[1;32m-> 1919\u001b[1;33m           ctx, args, cancellation_manager=cancellation_manager))\n\u001b[0m\u001b[0;32m   1920\u001b[0m     forward_backward = self._select_forward_and_backward_functions(\n\u001b[0;32m   1921\u001b[0m         \u001b[0margs\u001b[0m\u001b[1;33m,\u001b[0m\u001b[1;33m\u001b[0m\u001b[1;33m\u001b[0m\u001b[0m\n",
      "\u001b[1;32m~\\anaconda3\\envs\\AamirAli\\lib\\site-packages\\tensorflow\\python\\eager\\function.py\u001b[0m in \u001b[0;36mcall\u001b[1;34m(self, ctx, args, cancellation_manager)\u001b[0m\n\u001b[0;32m    558\u001b[0m               \u001b[0minputs\u001b[0m\u001b[1;33m=\u001b[0m\u001b[0margs\u001b[0m\u001b[1;33m,\u001b[0m\u001b[1;33m\u001b[0m\u001b[1;33m\u001b[0m\u001b[0m\n\u001b[0;32m    559\u001b[0m               \u001b[0mattrs\u001b[0m\u001b[1;33m=\u001b[0m\u001b[0mattrs\u001b[0m\u001b[1;33m,\u001b[0m\u001b[1;33m\u001b[0m\u001b[1;33m\u001b[0m\u001b[0m\n\u001b[1;32m--> 560\u001b[1;33m               ctx=ctx)\n\u001b[0m\u001b[0;32m    561\u001b[0m         \u001b[1;32melse\u001b[0m\u001b[1;33m:\u001b[0m\u001b[1;33m\u001b[0m\u001b[1;33m\u001b[0m\u001b[0m\n\u001b[0;32m    562\u001b[0m           outputs = execute.execute_with_cancellation(\n",
      "\u001b[1;32m~\\anaconda3\\envs\\AamirAli\\lib\\site-packages\\tensorflow\\python\\eager\\execute.py\u001b[0m in \u001b[0;36mquick_execute\u001b[1;34m(op_name, num_outputs, inputs, attrs, ctx, name)\u001b[0m\n\u001b[0;32m     58\u001b[0m     \u001b[0mctx\u001b[0m\u001b[1;33m.\u001b[0m\u001b[0mensure_initialized\u001b[0m\u001b[1;33m(\u001b[0m\u001b[1;33m)\u001b[0m\u001b[1;33m\u001b[0m\u001b[1;33m\u001b[0m\u001b[0m\n\u001b[0;32m     59\u001b[0m     tensors = pywrap_tfe.TFE_Py_Execute(ctx._handle, device_name, op_name,\n\u001b[1;32m---> 60\u001b[1;33m                                         inputs, attrs, num_outputs)\n\u001b[0m\u001b[0;32m     61\u001b[0m   \u001b[1;32mexcept\u001b[0m \u001b[0mcore\u001b[0m\u001b[1;33m.\u001b[0m\u001b[0m_NotOkStatusException\u001b[0m \u001b[1;32mas\u001b[0m \u001b[0me\u001b[0m\u001b[1;33m:\u001b[0m\u001b[1;33m\u001b[0m\u001b[1;33m\u001b[0m\u001b[0m\n\u001b[0;32m     62\u001b[0m     \u001b[1;32mif\u001b[0m \u001b[0mname\u001b[0m \u001b[1;32mis\u001b[0m \u001b[1;32mnot\u001b[0m \u001b[1;32mNone\u001b[0m\u001b[1;33m:\u001b[0m\u001b[1;33m\u001b[0m\u001b[1;33m\u001b[0m\u001b[0m\n",
      "\u001b[1;31mKeyboardInterrupt\u001b[0m: "
     ]
    }
   ],
   "source": [
    "#model.fit(X_train, y_train, epochs=100, callbacks=[model_checkpoint_callback])\n",
    "model.fit(X_train, y_train, epochs=1000, callbacks=[model_checkpoint_callback])\n",
    "#model.fit(X_train, y_train, epochs=1000, batch_size=40, callbacks=[model_checkpoint_callback])"
   ]
  },
  {
   "cell_type": "code",
   "execution_count": 99,
   "metadata": {},
   "outputs": [
    {
     "name": "stdout",
     "output_type": "stream",
     "text": [
      "Model: \"sequential_2\"\n",
      "_________________________________________________________________\n",
      "Layer (type)                 Output Shape              Param #   \n",
      "=================================================================\n",
      "lstm_6 (LSTM)                (None, 25, 64)            442112    \n",
      "_________________________________________________________________\n",
      "lstm_7 (LSTM)                (None, 25, 128)           98816     \n",
      "_________________________________________________________________\n",
      "lstm_8 (LSTM)                (None, 64)                49408     \n",
      "_________________________________________________________________\n",
      "dense_6 (Dense)              (None, 64)                4160      \n",
      "_________________________________________________________________\n",
      "dense_7 (Dense)              (None, 32)                2080      \n",
      "_________________________________________________________________\n",
      "dense_8 (Dense)              (None, 4)                 132       \n",
      "=================================================================\n",
      "Total params: 596,708\n",
      "Trainable params: 596,708\n",
      "Non-trainable params: 0\n",
      "_________________________________________________________________\n"
     ]
    }
   ],
   "source": [
    "model.summary()"
   ]
  },
  {
   "cell_type": "markdown",
   "metadata": {},
   "source": [
    "# 8. Make Predictions"
   ]
  },
  {
   "cell_type": "code",
   "execution_count": 100,
   "metadata": {},
   "outputs": [],
   "source": [
    "res = model.predict(X_test)"
   ]
  },
  {
   "cell_type": "code",
   "execution_count": 101,
   "metadata": {},
   "outputs": [],
   "source": [
    "test_num = 3"
   ]
  },
  {
   "cell_type": "code",
   "execution_count": 102,
   "metadata": {},
   "outputs": [
    {
     "name": "stdout",
     "output_type": "stream",
     "text": [
      "Expected:  hello\n",
      "Predicted:  hello\n"
     ]
    }
   ],
   "source": [
    "print('Expected: ',actions[np.argmax(res[test_num])])\n",
    "print('Predicted: ',actions[np.argmax(y_test[test_num])])"
   ]
  },
  {
   "cell_type": "markdown",
   "metadata": {},
   "source": [
    "# 9. Save Weights"
   ]
  },
  {
   "cell_type": "code",
   "execution_count": 103,
   "metadata": {},
   "outputs": [],
   "source": [
    "#model.save('Model Weights\\model_test3_train2.h5') # creates a HDF5 file 'my_model.h5'\n",
    "#model.load_weights('Saved Best Models\\test7_model.h5')"
   ]
  },
  {
   "cell_type": "code",
   "execution_count": 25,
   "metadata": {},
   "outputs": [],
   "source": [
    "# from tensorflow.keras.models import load_model\n",
    "# model = load_model('Saved Best Models/test7.h5')"
   ]
  },
  {
   "cell_type": "code",
   "execution_count": 227,
   "metadata": {},
   "outputs": [],
   "source": [
    "#new_model = keras.models.load_model('Model Weights\\model_test3_train2.h5')"
   ]
  },
  {
   "cell_type": "markdown",
   "metadata": {},
   "source": [
    "# 10. Evaluation using Confusion Matrix and Accuracy"
   ]
  },
  {
   "cell_type": "code",
   "execution_count": 104,
   "metadata": {},
   "outputs": [],
   "source": [
    "from sklearn.metrics import multilabel_confusion_matrix, accuracy_score, classification_report"
   ]
  },
  {
   "cell_type": "code",
   "execution_count": 105,
   "metadata": {},
   "outputs": [],
   "source": [
    "yhat = model.predict(X_test)"
   ]
  },
  {
   "cell_type": "code",
   "execution_count": 106,
   "metadata": {},
   "outputs": [],
   "source": [
    "ytrue = np.argmax(y_test, axis=1).tolist()\n",
    "yhat = np.argmax(yhat, axis=1).tolist()"
   ]
  },
  {
   "cell_type": "code",
   "execution_count": 107,
   "metadata": {},
   "outputs": [
    {
     "data": {
      "text/plain": [
       "array([[[16,  0],\n",
       "        [ 0,  8]],\n",
       "\n",
       "       [[18,  1],\n",
       "        [ 0,  5]],\n",
       "\n",
       "       [[18,  0],\n",
       "        [ 0,  6]],\n",
       "\n",
       "       [[19,  0],\n",
       "        [ 1,  4]]], dtype=int64)"
      ]
     },
     "execution_count": 107,
     "metadata": {},
     "output_type": "execute_result"
    }
   ],
   "source": [
    "multilabel_confusion_matrix(ytrue, yhat)"
   ]
  },
  {
   "cell_type": "code",
   "execution_count": 108,
   "metadata": {},
   "outputs": [
    {
     "data": {
      "text/plain": [
       "0.9583333333333334"
      ]
     },
     "execution_count": 108,
     "metadata": {},
     "output_type": "execute_result"
    }
   ],
   "source": [
    "accuracy_score(ytrue, yhat)"
   ]
  },
  {
   "cell_type": "code",
   "execution_count": 109,
   "metadata": {},
   "outputs": [
    {
     "name": "stdout",
     "output_type": "stream",
     "text": [
      "              precision    recall  f1-score   support\n",
      "\n",
      "           0       1.00      1.00      1.00         8\n",
      "           1       0.83      1.00      0.91         5\n",
      "           2       1.00      1.00      1.00         6\n",
      "           3       1.00      0.80      0.89         5\n",
      "\n",
      "    accuracy                           0.96        24\n",
      "   macro avg       0.96      0.95      0.95        24\n",
      "weighted avg       0.97      0.96      0.96        24\n",
      "\n"
     ]
    }
   ],
   "source": [
    "print(classification_report(ytrue, yhat))"
   ]
  },
  {
   "cell_type": "code",
   "execution_count": null,
   "metadata": {},
   "outputs": [],
   "source": []
  },
  {
   "cell_type": "markdown",
   "metadata": {},
   "source": [
    "# 11. Test in Real Time"
   ]
  },
  {
   "cell_type": "code",
   "execution_count": 116,
   "metadata": {},
   "outputs": [],
   "source": [
    "colors = [(245,117,16), (117,245,16), (16,117,245),(16,117,245),(245,117,16), (117,245,16),(245,117,16)]\n",
    "def prob_viz(res, actions, input_frame, colors):\n",
    "    output_frame = input_frame.copy()\n",
    "    for num, prob in enumerate(res):\n",
    "        cv2.rectangle(output_frame, (0,60+num*40), (int(prob*100), 90+num*40), colors[num], -1)\n",
    "        cv2.putText(output_frame, actions[num], (0, 85+num*40), cv2.FONT_HERSHEY_SIMPLEX, 1, (255,255,255), 2, cv2.LINE_AA)\n",
    "        \n",
    "    return output_frame"
   ]
  },
  {
   "cell_type": "code",
   "execution_count": 247,
   "metadata": {},
   "outputs": [],
   "source": [
    "# plt.figure(figsize=(18,18))\n",
    "# plt.imshow(prob_viz(res, actions, image, colors))"
   ]
  },
  {
   "cell_type": "code",
   "execution_count": null,
   "metadata": {},
   "outputs": [],
   "source": [
    "#actions = np.array(['NoSign','please', 'yourewelcome', 'sorry', 'hello', 'thanks', 'iloveyou'])"
   ]
  },
  {
   "cell_type": "markdown",
   "metadata": {},
   "source": [
    "## 30 frames realtime prediction"
   ]
  },
  {
   "cell_type": "code",
   "execution_count": 118,
   "metadata": {
    "scrolled": true
   },
   "outputs": [
    {
     "name": "stdout",
     "output_type": "stream",
     "text": [
      "NoSign\n",
      "NoSign\n",
      "NoSign\n",
      "NoSign\n",
      "NoSign\n",
      "NoSign\n",
      "NoSign\n",
      "NoSign\n",
      "NoSign\n",
      "NoSign\n",
      "NoSign\n",
      "NoSign\n",
      "NoSign\n",
      "NoSign\n",
      "NoSign\n",
      "NoSign\n",
      "NoSign\n",
      "NoSign\n",
      "NoSign\n",
      "NoSign\n",
      "NoSign\n",
      "NoSign\n",
      "NoSign\n",
      "NoSign\n",
      "NoSign\n",
      "NoSign\n",
      "NoSign\n",
      "NoSign\n",
      "NoSign\n",
      "NoSign\n",
      "NoSign\n",
      "NoSign\n",
      "NoSign\n"
     ]
    }
   ],
   "source": [
    "# 1. New detection variables\n",
    "sequence = []\n",
    "sentence = []\n",
    "predictions = []\n",
    "threshold = 0.5\n",
    "\n",
    "#os.path.join('Resources', 'Test_Videos','signs_aamir1')\n",
    "cap = cv2.VideoCapture(0)\n",
    "# Set mediapipe model \n",
    "with mp_holistic.Holistic(min_detection_confidence=0.5, min_tracking_confidence=0.5) as holistic:\n",
    "    while cap.isOpened():\n",
    "\n",
    "        # Read feed\n",
    "        ret, frame = cap.read()\n",
    "\n",
    "        # Make detections\n",
    "        image, results = mediapipe_detection(frame, holistic)\n",
    "        #print(results)\n",
    "        \n",
    "        # Draw landmarks\n",
    "        draw_landmarks(image, results)\n",
    "        \n",
    "        # 2. Prediction logic\n",
    "        keypoints = extract_keypoints(results)\n",
    "        sequence.append(keypoints)\n",
    "        sequence = sequence[-30:]\n",
    "        \n",
    "        if len(sequence) == 30:\n",
    "            res = model.predict(np.expand_dims(sequence, axis=0))[0]\n",
    "            print(actions[np.argmax(res)])\n",
    "            predictions.append(np.argmax(res))\n",
    "            \n",
    "            \n",
    "        #3. Viz logic\n",
    "            if np.unique(predictions[-10:])[0]==np.argmax(res): \n",
    "                if res[np.argmax(res)] > threshold: \n",
    "                    \n",
    "                    if len(sentence) > 0: \n",
    "                        if actions[np.argmax(res)] != sentence[-1]:\n",
    "                            sentence.append(actions[np.argmax(res)])\n",
    "                    else:\n",
    "                        sentence.append(actions[np.argmax(res)])\n",
    "\n",
    "            if len(sentence) > 5: \n",
    "                sentence = sentence[-5:]\n",
    "\n",
    "            # Viz probabilities\n",
    "            image = prob_viz(res, actions, image, colors)\n",
    "            \n",
    "        cv2.rectangle(image, (0,0), (640, 40), (245, 117, 16), -1)\n",
    "        cv2.putText(image, ' '.join(sentence), (3,30), \n",
    "                       cv2.FONT_HERSHEY_SIMPLEX, 1, (255, 255, 255), 2, cv2.LINE_AA)\n",
    "        \n",
    "        # Show to screen\n",
    "        cv2.imshow('OpenCV Feed', image)\n",
    "\n",
    "        # Break gracefully\n",
    "        if cv2.waitKey(1) & 0xFF == ord('q'):\n",
    "            break\n",
    "    cap.release()\n",
    "    cv2.destroyAllWindows()"
   ]
  },
  {
   "cell_type": "code",
   "execution_count": 114,
   "metadata": {},
   "outputs": [],
   "source": [
    "cap.release()\n",
    "cv2.destroyAllWindows()"
   ]
  },
  {
   "cell_type": "code",
   "execution_count": null,
   "metadata": {},
   "outputs": [],
   "source": []
  },
  {
   "cell_type": "markdown",
   "metadata": {},
   "source": [
    "## 25 frames realtime prediction"
   ]
  },
  {
   "cell_type": "code",
   "execution_count": 117,
   "metadata": {
    "scrolled": true
   },
   "outputs": [
    {
     "name": "stdout",
     "output_type": "stream",
     "text": [
      "NoSign\n",
      "NoSign\n",
      "NoSign\n",
      "NoSign\n",
      "NoSign\n",
      "NoSign\n",
      "NoSign\n",
      "NoSign\n",
      "NoSign\n",
      "NoSign\n",
      "NoSign\n",
      "NoSign\n",
      "NoSign\n",
      "NoSign\n",
      "NoSign\n",
      "NoSign\n",
      "NoSign\n",
      "NoSign\n",
      "NoSign\n",
      "NoSign\n",
      "NoSign\n",
      "NoSign\n",
      "NoSign\n",
      "NoSign\n",
      "NoSign\n",
      "NoSign\n"
     ]
    }
   ],
   "source": [
    "actions = np.array(['NoSign','please', 'yourewelcome', 'sorry', 'hello', 'thanks', 'iloveyou'])\n",
    "\n",
    "# 1. New detection variables\n",
    "sequence = []\n",
    "sentence = []\n",
    "predictions = []\n",
    "threshold = 0.5\n",
    "\n",
    "cap = cv2.VideoCapture(0)\n",
    "# Set mediapipe model \n",
    "with mp_holistic.Holistic(min_detection_confidence=0.5, min_tracking_confidence=0.5) as holistic:\n",
    "    while cap.isOpened():\n",
    "\n",
    "        # Read feed\n",
    "        ret, frame = cap.read()\n",
    "\n",
    "        # Make detections\n",
    "        image, results = mediapipe_detection(frame, holistic)\n",
    "        #print(results)\n",
    "        \n",
    "        # Draw landmarks\n",
    "        draw_landmarks(image, results)\n",
    "        \n",
    "        # 2. Prediction logic\n",
    "        keypoints = extract_keypoints(results)\n",
    "        sequence.append(keypoints)\n",
    "        sequence = sequence[-25:]\n",
    "        \n",
    "        if len(sequence) == 25:\n",
    "            res = model.predict(np.expand_dims(sequence, axis=0))[0]\n",
    "            print(actions[np.argmax(res)])\n",
    "            predictions.append(np.argmax(res))\n",
    "            \n",
    "            \n",
    "        #3. Viz logic\n",
    "            if np.unique(predictions[-10:])[0]==np.argmax(res): \n",
    "                if res[np.argmax(res)] > threshold: \n",
    "                    \n",
    "                    if len(sentence) > 0: \n",
    "                        if actions[np.argmax(res)] != sentence[-1]:\n",
    "                            sentence.append(actions[np.argmax(res)])\n",
    "                    else:\n",
    "                        sentence.append(actions[np.argmax(res)])\n",
    "\n",
    "            if len(sentence) > 5: \n",
    "                sentence = sentence[-5:]\n",
    "\n",
    "            # Viz probabilities\n",
    "            image = prob_viz(res, actions, image, colors)\n",
    "            \n",
    "        cv2.rectangle(image, (0,0), (640, 40), (245, 117, 16), -1)\n",
    "        cv2.putText(image, ' '.join(sentence), (3,30), \n",
    "                       cv2.FONT_HERSHEY_SIMPLEX, 1, (255, 255, 255), 2, cv2.LINE_AA)\n",
    "        \n",
    "        # Show to screen\n",
    "        cv2.imshow('OpenCV Feed', image)\n",
    "\n",
    "        # Break gracefully\n",
    "        if cv2.waitKey(1) & 0xFF == ord('q'):\n",
    "            break\n",
    "    cap.release()\n",
    "    cv2.destroyAllWindows()"
   ]
  },
  {
   "cell_type": "code",
   "execution_count": null,
   "metadata": {},
   "outputs": [],
   "source": [
    "cap.release()\n",
    "cv2.destroyAllWindows()"
   ]
  },
  {
   "cell_type": "code",
   "execution_count": null,
   "metadata": {},
   "outputs": [],
   "source": []
  },
  {
   "cell_type": "markdown",
   "metadata": {},
   "source": [
    "## Mobile Video Prediction"
   ]
  },
  {
   "cell_type": "code",
   "execution_count": null,
   "metadata": {
    "scrolled": true
   },
   "outputs": [],
   "source": [
    "# # 1. New detection variables\n",
    "# sequence = []\n",
    "# sentence = []\n",
    "# predictions = []\n",
    "# threshold = 0.5\n",
    "\n",
    "# #os.path.join('Resources', 'Test_Videos','signs_aamir1')\n",
    "# #cap = cv2.VideoCapture(0)\n",
    "# cap = cv2.VideoCapture(os.path.join('Resources', 'Test_Videos','signs_adam.mp4'))\n",
    "# # Set mediapipe model \n",
    "# with mp_holistic.Holistic(min_detection_confidence=0.5, min_tracking_confidence=0.5) as holistic:\n",
    "#     while cap.isOpened():\n",
    "\n",
    "#         # Read feed\n",
    "#         ret, frame = cap.read()\n",
    "\n",
    "#          # rotate image\n",
    "#         frame = cv2.rotate(frame, cv2.ROTATE_180)\n",
    "        \n",
    "#         # video resizing\n",
    "#         resized_frame = video_resizing(frame, 480, 640)\n",
    "        \n",
    "#         # Make detections\n",
    "#         image, results = mediapipe_detection(resized_frame, holistic)\n",
    "#         #print(results)\n",
    "        \n",
    "#         # Draw landmarks\n",
    "#         draw_landmarks(image, results)\n",
    "        \n",
    "#         # 2. Prediction logic\n",
    "#         keypoints = extract_keypoints(results)\n",
    "#         sequence.append(keypoints)\n",
    "#         sequence = sequence[-30:]\n",
    "        \n",
    "#         if len(sequence) == 30:\n",
    "#             res = model.predict(np.expand_dims(sequence, axis=0))[0]\n",
    "#             print(actions[np.argmax(res)])\n",
    "#             predictions.append(np.argmax(res))\n",
    "            \n",
    "            \n",
    "#         #3. Viz logic\n",
    "#             if np.unique(predictions[-10:])[0]==np.argmax(res): \n",
    "#                 if res[np.argmax(res)] > threshold: \n",
    "                    \n",
    "#                     if len(sentence) > 0: \n",
    "#                         if actions[np.argmax(res)] != sentence[-1]:\n",
    "#                             sentence.append(actions[np.argmax(res)])\n",
    "#                     else:\n",
    "#                         sentence.append(actions[np.argmax(res)])\n",
    "\n",
    "#             if len(sentence) > 5: \n",
    "#                 sentence = sentence[-5:]\n",
    "\n",
    "#             # Viz probabilities\n",
    "#             image = prob_viz(res, actions, image, colors)\n",
    "            \n",
    "#         cv2.rectangle(image, (0,0), (640, 40), (245, 117, 16), -1)\n",
    "#         cv2.putText(image, ' '.join(sentence), (3,30), \n",
    "#                        cv2.FONT_HERSHEY_SIMPLEX, 1, (255, 255, 255), 2, cv2.LINE_AA)\n",
    "        \n",
    "#         # Show to screen\n",
    "#         cv2.imshow('OpenCV Feed', image)\n",
    "\n",
    "#         # Break gracefully\n",
    "#         if cv2.waitKey(1) & 0xFF == ord('q'):\n",
    "#             break\n",
    "#     cap.release()\n",
    "#     cv2.destroyAllWindows()"
   ]
  },
  {
   "cell_type": "code",
   "execution_count": 24,
   "metadata": {},
   "outputs": [],
   "source": [
    "cap.release()\n",
    "cv2.destroyAllWindows()"
   ]
  },
  {
   "cell_type": "code",
   "execution_count": null,
   "metadata": {},
   "outputs": [],
   "source": []
  },
  {
   "cell_type": "markdown",
   "metadata": {},
   "source": [
    "# Saving the trained model with weights"
   ]
  },
  {
   "cell_type": "code",
   "execution_count": null,
   "metadata": {},
   "outputs": [],
   "source": [
    "# %%timeit\n",
    "# %%time"
   ]
  },
  {
   "cell_type": "markdown",
   "metadata": {},
   "source": [
    "## Pickle"
   ]
  },
  {
   "cell_type": "code",
   "execution_count": 40,
   "metadata": {},
   "outputs": [],
   "source": [
    "# import pickle"
   ]
  },
  {
   "cell_type": "code",
   "execution_count": null,
   "metadata": {},
   "outputs": [],
   "source": [
    "# # save the model\n",
    "# with open('model_test3_train2.pickle', 'wb') as f: # 'wb' - write binary file\n",
    "#     pickle.dump(model,f)"
   ]
  },
  {
   "cell_type": "markdown",
   "metadata": {},
   "source": [
    "Too big can't pickle weakref objects => can't pickle weakref comes because Deep Learning models are too large and pickle only used for storing small models. Use this : HDF5 used for storing large data."
   ]
  },
  {
   "cell_type": "code",
   "execution_count": null,
   "metadata": {},
   "outputs": [],
   "source": [
    "# # loading the model\n",
    "# with open('model_test3_train2', 'rb') as f: # 'rb' - read binary file\n",
    "#     model_test3_train2 = pickle.load(f)"
   ]
  },
  {
   "cell_type": "code",
   "execution_count": 69,
   "metadata": {},
   "outputs": [],
   "source": [
    "# Doesnt work - 'Sequential' object has no attribute 'to_pickle'\n",
    "# model.to_pickle('Saved Models\\model_pickle2.pickle')\n",
    "# model_pickl = model.read_pickle('Saved Models\\model_pickle2.pickle')"
   ]
  },
  {
   "cell_type": "markdown",
   "metadata": {},
   "source": [
    "## Parquet"
   ]
  },
  {
   "cell_type": "code",
   "execution_count": null,
   "metadata": {},
   "outputs": [],
   "source": [
    "# model.to_parquet('model_pickle2.parquet')"
   ]
  },
  {
   "cell_type": "code",
   "execution_count": null,
   "metadata": {},
   "outputs": [],
   "source": [
    "# model_pickl = model.read_parquet('model_pickle2.parquet')"
   ]
  },
  {
   "cell_type": "markdown",
   "metadata": {},
   "source": [
    "## Feather"
   ]
  },
  {
   "cell_type": "code",
   "execution_count": null,
   "metadata": {},
   "outputs": [],
   "source": [
    "# model.to_feather('model_pickle2.feather')\n",
    "# model_pickl = model.read_feather('model_pickle2.feather')"
   ]
  },
  {
   "cell_type": "markdown",
   "metadata": {},
   "source": [
    "## Joblib"
   ]
  },
  {
   "cell_type": "code",
   "execution_count": 75,
   "metadata": {},
   "outputs": [],
   "source": [
    "#from sklearn.externals import joblib\n",
    "# import joblib"
   ]
  },
  {
   "cell_type": "code",
   "execution_count": null,
   "metadata": {},
   "outputs": [],
   "source": [
    "# joblib.dump(model, 'model_test3_train2')"
   ]
  },
  {
   "cell_type": "code",
   "execution_count": null,
   "metadata": {},
   "outputs": [],
   "source": [
    "#model_test3_train2 = joblib.load('model_test3_train2')"
   ]
  }
 ],
 "metadata": {
  "kernelspec": {
   "display_name": "Python [conda env:AamirAli] *",
   "language": "python",
   "name": "conda-env-AamirAli-py"
  },
  "language_info": {
   "codemirror_mode": {
    "name": "ipython",
    "version": 3
   },
   "file_extension": ".py",
   "mimetype": "text/x-python",
   "name": "python",
   "nbconvert_exporter": "python",
   "pygments_lexer": "ipython3",
   "version": "3.6.13"
  }
 },
 "nbformat": 4,
 "nbformat_minor": 2
}
